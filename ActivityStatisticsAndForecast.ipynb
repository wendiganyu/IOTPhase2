{
 "cells": [
  {
   "cell_type": "markdown",
   "source": [
    "# 1. Data import and processing"
   ],
   "metadata": {
    "collapsed": false
   }
  },
  {
   "cell_type": "markdown",
   "source": [
    "## 1.1 引入数据集，生成dataframe"
   ],
   "metadata": {
    "collapsed": false
   }
  },
  {
   "cell_type": "code",
   "execution_count": 1,
   "outputs": [],
   "source": [
    "import pandas as pd\n",
    "import numpy as np\n",
    "\n",
    "data_path ='./dataset_new.csv'\n",
    "columns_name = ('date', 'time', 'sensor_id', 'value', 'activity', 'status') # status是begin或end\n",
    "df = pd.read_csv(data_path, names = columns_name)"
   ],
   "metadata": {
    "collapsed": false,
    "pycharm": {
     "name": "#%%\n"
    }
   }
  },
  {
   "cell_type": "code",
   "execution_count": 2,
   "outputs": [
    {
     "data": {
      "text/plain": "date         object\ntime         object\nsensor_id    object\nvalue        object\nactivity     object\nstatus       object\ndtype: object"
     },
     "execution_count": 2,
     "metadata": {},
     "output_type": "execute_result"
    }
   ],
   "source": [
    "df.dtypes"
   ],
   "metadata": {
    "collapsed": false,
    "pycharm": {
     "name": "#%%\n"
    }
   }
  },
  {
   "cell_type": "code",
   "execution_count": 3,
   "outputs": [
    {
     "data": {
      "text/plain": "'\\n#一些测试\\ndf.iloc[:,:4]\\ndf_first4Attr = df.iloc[:,:4]\\ndf[df_first4Attr.isnull().values==True]\\n'"
     },
     "execution_count": 3,
     "metadata": {},
     "output_type": "execute_result"
    }
   ],
   "source": [
    "'''\n",
    "#一些测试\n",
    "df.iloc[:,:4]\n",
    "df_first4Attr = df.iloc[:,:4]\n",
    "df[df_first4Attr.isnull().values==True]\n",
    "'''"
   ],
   "metadata": {
    "collapsed": false,
    "pycharm": {
     "name": "#%%\n"
    }
   }
  },
  {
   "cell_type": "code",
   "execution_count": 4,
   "outputs": [
    {
     "data": {
      "text/plain": "array(['M35', 'AD1-A', 'M34', 'M32', 'M33', 'M36', 'M30', 'M29', 'M37',\n       'M38', 'M39', 'M41', 'M40', 'M49', 'M46', 'M50', 'M44', 'M47',\n       'M48', 'M43', 'M28', 'M42', 'M27', 'M26', 'M25', 'M24', 'M21',\n       'M19', 'M18', 'M17', 'M16', 'M15', 'D09', 'M14', 'M13', 'M08',\n       'M07', 'M02', 'M45', 'M51', 'D08', 'AD1-B', 'AD1-C', 'D10', 'I03',\n       'M06', 'M09', 'M10', 'M01', 'D12', 'L04', 'M23', 'M31', 'D15',\n       'D07', 'D14', 'M11', 'M05', 'M03', 'M04', 'M22', 'M12', 'M20',\n       'L11', 'D05', 'D03', 'L10', 'L06', 'L13', 'L12', 'L09'],\n      dtype=object)"
     },
     "execution_count": 4,
     "metadata": {},
     "output_type": "execute_result"
    }
   ],
   "source": [
    "df['sensor_id'].unique()"
   ],
   "metadata": {
    "collapsed": false,
    "pycharm": {
     "name": "#%%\n"
    }
   }
  },
  {
   "cell_type": "markdown",
   "source": [
    "## 1.2 判断缺失值"
   ],
   "metadata": {
    "collapsed": false
   }
  },
  {
   "cell_type": "code",
   "execution_count": 5,
   "outputs": [
    {
     "data": {
      "text/plain": "              date     time sensor_id    value          activity status\n0       02/02/2009  7:15:17       M35       ON  R1_Bed_to_Toilet  begin\n1       02/02/2009  7:15:21     AD1-A  2.82231               NaN    NaN\n2       02/02/2009  7:15:23       M35      OFF               NaN    NaN\n3       02/02/2009  7:15:23       M35       ON               NaN    NaN\n4       02/02/2009  7:15:28     AD1-A  2.79926               NaN    NaN\n...            ...      ...       ...      ...               ...    ...\n138625  04/04/2009  7:26:16       M48      OFF               NaN    NaN\n138626  04/04/2009  7:27:47       M48       ON               NaN    NaN\n138627  04/04/2009  7:27:50       M47       ON               NaN    NaN\n138628  04/04/2009  7:27:59       M47      OFF               NaN    NaN\n138629  04/04/2009  7:28:01       M48      OFF          R2_Sleep    end\n\n[138630 rows x 6 columns]",
      "text/html": "<div>\n<style scoped>\n    .dataframe tbody tr th:only-of-type {\n        vertical-align: middle;\n    }\n\n    .dataframe tbody tr th {\n        vertical-align: top;\n    }\n\n    .dataframe thead th {\n        text-align: right;\n    }\n</style>\n<table border=\"1\" class=\"dataframe\">\n  <thead>\n    <tr style=\"text-align: right;\">\n      <th></th>\n      <th>date</th>\n      <th>time</th>\n      <th>sensor_id</th>\n      <th>value</th>\n      <th>activity</th>\n      <th>status</th>\n    </tr>\n  </thead>\n  <tbody>\n    <tr>\n      <th>0</th>\n      <td>02/02/2009</td>\n      <td>7:15:17</td>\n      <td>M35</td>\n      <td>ON</td>\n      <td>R1_Bed_to_Toilet</td>\n      <td>begin</td>\n    </tr>\n    <tr>\n      <th>1</th>\n      <td>02/02/2009</td>\n      <td>7:15:21</td>\n      <td>AD1-A</td>\n      <td>2.82231</td>\n      <td>NaN</td>\n      <td>NaN</td>\n    </tr>\n    <tr>\n      <th>2</th>\n      <td>02/02/2009</td>\n      <td>7:15:23</td>\n      <td>M35</td>\n      <td>OFF</td>\n      <td>NaN</td>\n      <td>NaN</td>\n    </tr>\n    <tr>\n      <th>3</th>\n      <td>02/02/2009</td>\n      <td>7:15:23</td>\n      <td>M35</td>\n      <td>ON</td>\n      <td>NaN</td>\n      <td>NaN</td>\n    </tr>\n    <tr>\n      <th>4</th>\n      <td>02/02/2009</td>\n      <td>7:15:28</td>\n      <td>AD1-A</td>\n      <td>2.79926</td>\n      <td>NaN</td>\n      <td>NaN</td>\n    </tr>\n    <tr>\n      <th>...</th>\n      <td>...</td>\n      <td>...</td>\n      <td>...</td>\n      <td>...</td>\n      <td>...</td>\n      <td>...</td>\n    </tr>\n    <tr>\n      <th>138625</th>\n      <td>04/04/2009</td>\n      <td>7:26:16</td>\n      <td>M48</td>\n      <td>OFF</td>\n      <td>NaN</td>\n      <td>NaN</td>\n    </tr>\n    <tr>\n      <th>138626</th>\n      <td>04/04/2009</td>\n      <td>7:27:47</td>\n      <td>M48</td>\n      <td>ON</td>\n      <td>NaN</td>\n      <td>NaN</td>\n    </tr>\n    <tr>\n      <th>138627</th>\n      <td>04/04/2009</td>\n      <td>7:27:50</td>\n      <td>M47</td>\n      <td>ON</td>\n      <td>NaN</td>\n      <td>NaN</td>\n    </tr>\n    <tr>\n      <th>138628</th>\n      <td>04/04/2009</td>\n      <td>7:27:59</td>\n      <td>M47</td>\n      <td>OFF</td>\n      <td>NaN</td>\n      <td>NaN</td>\n    </tr>\n    <tr>\n      <th>138629</th>\n      <td>04/04/2009</td>\n      <td>7:28:01</td>\n      <td>M48</td>\n      <td>OFF</td>\n      <td>R2_Sleep</td>\n      <td>end</td>\n    </tr>\n  </tbody>\n</table>\n<p>138630 rows × 6 columns</p>\n</div>"
     },
     "execution_count": 5,
     "metadata": {},
     "output_type": "execute_result"
    }
   ],
   "source": [
    "df.dropna(axis=0, how='all', inplace=True) ## 删去了两行空白行\n",
    "df"
   ],
   "metadata": {
    "collapsed": false,
    "pycharm": {
     "name": "#%%\n"
    }
   }
  },
  {
   "cell_type": "markdown",
   "source": [
    "## 1.3 合并date和time"
   ],
   "metadata": {
    "collapsed": false
   }
  },
  {
   "cell_type": "code",
   "execution_count": 6,
   "outputs": [],
   "source": [
    "# df.drop(df.tail(1).index, inplace = True) #从尾部去掉 1 行，这一行是异常行"
   ],
   "metadata": {
    "collapsed": false,
    "pycharm": {
     "name": "#%%\n"
    }
   }
  },
  {
   "cell_type": "code",
   "execution_count": 7,
   "outputs": [],
   "source": [
    "# df[\"datetime\"] = pd.to_datetime(df[\"date\"] + \" \"+ df[\"time\"], format='%d/%m/%Y %H:%M:%S')\n",
    "df[\"datetime\"] = pd.to_datetime(df[\"date\"] + \" \"+ df[\"time\"], dayfirst=True)\n",
    "\n",
    "# df[\"datetime\"]\n"
   ],
   "metadata": {
    "collapsed": false,
    "pycharm": {
     "name": "#%%\n"
    }
   }
  },
  {
   "cell_type": "code",
   "execution_count": 8,
   "outputs": [
    {
     "data": {
      "text/plain": "              date     time sensor_id    value          activity status  \\\n0       02/02/2009  7:15:17       M35       ON  R1_Bed_to_Toilet  begin   \n1       02/02/2009  7:15:21     AD1-A  2.82231               NaN    NaN   \n2       02/02/2009  7:15:23       M35      OFF               NaN    NaN   \n3       02/02/2009  7:15:23       M35       ON               NaN    NaN   \n4       02/02/2009  7:15:28     AD1-A  2.79926               NaN    NaN   \n...            ...      ...       ...      ...               ...    ...   \n138625  04/04/2009  7:26:16       M48      OFF               NaN    NaN   \n138626  04/04/2009  7:27:47       M48       ON               NaN    NaN   \n138627  04/04/2009  7:27:50       M47       ON               NaN    NaN   \n138628  04/04/2009  7:27:59       M47      OFF               NaN    NaN   \n138629  04/04/2009  7:28:01       M48      OFF          R2_Sleep    end   \n\n                  datetime  \n0      2009-02-02 07:15:17  \n1      2009-02-02 07:15:21  \n2      2009-02-02 07:15:23  \n3      2009-02-02 07:15:23  \n4      2009-02-02 07:15:28  \n...                    ...  \n138625 2009-04-04 07:26:16  \n138626 2009-04-04 07:27:47  \n138627 2009-04-04 07:27:50  \n138628 2009-04-04 07:27:59  \n138629 2009-04-04 07:28:01  \n\n[138630 rows x 7 columns]",
      "text/html": "<div>\n<style scoped>\n    .dataframe tbody tr th:only-of-type {\n        vertical-align: middle;\n    }\n\n    .dataframe tbody tr th {\n        vertical-align: top;\n    }\n\n    .dataframe thead th {\n        text-align: right;\n    }\n</style>\n<table border=\"1\" class=\"dataframe\">\n  <thead>\n    <tr style=\"text-align: right;\">\n      <th></th>\n      <th>date</th>\n      <th>time</th>\n      <th>sensor_id</th>\n      <th>value</th>\n      <th>activity</th>\n      <th>status</th>\n      <th>datetime</th>\n    </tr>\n  </thead>\n  <tbody>\n    <tr>\n      <th>0</th>\n      <td>02/02/2009</td>\n      <td>7:15:17</td>\n      <td>M35</td>\n      <td>ON</td>\n      <td>R1_Bed_to_Toilet</td>\n      <td>begin</td>\n      <td>2009-02-02 07:15:17</td>\n    </tr>\n    <tr>\n      <th>1</th>\n      <td>02/02/2009</td>\n      <td>7:15:21</td>\n      <td>AD1-A</td>\n      <td>2.82231</td>\n      <td>NaN</td>\n      <td>NaN</td>\n      <td>2009-02-02 07:15:21</td>\n    </tr>\n    <tr>\n      <th>2</th>\n      <td>02/02/2009</td>\n      <td>7:15:23</td>\n      <td>M35</td>\n      <td>OFF</td>\n      <td>NaN</td>\n      <td>NaN</td>\n      <td>2009-02-02 07:15:23</td>\n    </tr>\n    <tr>\n      <th>3</th>\n      <td>02/02/2009</td>\n      <td>7:15:23</td>\n      <td>M35</td>\n      <td>ON</td>\n      <td>NaN</td>\n      <td>NaN</td>\n      <td>2009-02-02 07:15:23</td>\n    </tr>\n    <tr>\n      <th>4</th>\n      <td>02/02/2009</td>\n      <td>7:15:28</td>\n      <td>AD1-A</td>\n      <td>2.79926</td>\n      <td>NaN</td>\n      <td>NaN</td>\n      <td>2009-02-02 07:15:28</td>\n    </tr>\n    <tr>\n      <th>...</th>\n      <td>...</td>\n      <td>...</td>\n      <td>...</td>\n      <td>...</td>\n      <td>...</td>\n      <td>...</td>\n      <td>...</td>\n    </tr>\n    <tr>\n      <th>138625</th>\n      <td>04/04/2009</td>\n      <td>7:26:16</td>\n      <td>M48</td>\n      <td>OFF</td>\n      <td>NaN</td>\n      <td>NaN</td>\n      <td>2009-04-04 07:26:16</td>\n    </tr>\n    <tr>\n      <th>138626</th>\n      <td>04/04/2009</td>\n      <td>7:27:47</td>\n      <td>M48</td>\n      <td>ON</td>\n      <td>NaN</td>\n      <td>NaN</td>\n      <td>2009-04-04 07:27:47</td>\n    </tr>\n    <tr>\n      <th>138627</th>\n      <td>04/04/2009</td>\n      <td>7:27:50</td>\n      <td>M47</td>\n      <td>ON</td>\n      <td>NaN</td>\n      <td>NaN</td>\n      <td>2009-04-04 07:27:50</td>\n    </tr>\n    <tr>\n      <th>138628</th>\n      <td>04/04/2009</td>\n      <td>7:27:59</td>\n      <td>M47</td>\n      <td>OFF</td>\n      <td>NaN</td>\n      <td>NaN</td>\n      <td>2009-04-04 07:27:59</td>\n    </tr>\n    <tr>\n      <th>138629</th>\n      <td>04/04/2009</td>\n      <td>7:28:01</td>\n      <td>M48</td>\n      <td>OFF</td>\n      <td>R2_Sleep</td>\n      <td>end</td>\n      <td>2009-04-04 07:28:01</td>\n    </tr>\n  </tbody>\n</table>\n<p>138630 rows × 7 columns</p>\n</div>"
     },
     "execution_count": 8,
     "metadata": {},
     "output_type": "execute_result"
    }
   ],
   "source": [
    "# df = df.set_index(\"datetime\") #千万不能设datetime为index! 因为datetime有重复值！！！妈的，debug半个多小时。\n",
    "df"
   ],
   "metadata": {
    "collapsed": false,
    "pycharm": {
     "name": "#%%\n"
    }
   }
  },
  {
   "cell_type": "code",
   "execution_count": 9,
   "outputs": [],
   "source": [
    "# # 检查时间都是前一个<=后一个\n",
    "# for a, b in zip(df.datetime, df.datetime[1:]):\n",
    "#     if(a>b):\n",
    "#         print(a)\n",
    "#\n",
    "# # all(a <= b for a, b in zip(df.index, df.index[1:]))"
   ],
   "metadata": {
    "collapsed": false,
    "pycharm": {
     "name": "#%%\n"
    }
   }
  },
  {
   "cell_type": "markdown",
   "source": [
    "## 1.4 检查R1以及公共的各种行为不存在嵌套"
   ],
   "metadata": {
    "collapsed": false
   }
  },
  {
   "cell_type": "code",
   "execution_count": 10,
   "outputs": [
    {
     "data": {
      "text/plain": "array(['R1_Bed_to_Toilet', nan, 'R1_Personal_Hygiene', 'R2_Bed_to_Toilet',\n       'Meal_Preparation', 'R2_Personal_Hygiene', 'Watch_TV', 'R1_Work',\n       'R2_Work', 'R1_Sleep', 'R2_Sleep', 'Wash_Bathtub', 'Clean',\n       'Study'], dtype=object)"
     },
     "execution_count": 10,
     "metadata": {},
     "output_type": "execute_result"
    }
   ],
   "source": [
    "df.activity.unique()"
   ],
   "metadata": {
    "collapsed": false,
    "pycharm": {
     "name": "#%%\n"
    }
   }
  },
  {
   "cell_type": "code",
   "execution_count": 11,
   "outputs": [
    {
     "name": "stdout",
     "output_type": "stream",
     "text": [
      "Alarm !\n",
      "Alarm !\n",
      "Alarm !\n",
      "Alarm !\n",
      "Alarm !\n",
      "Alarm !\n",
      "Alarm !\n",
      "Alarm !\n",
      "Alarm !\n",
      "Alarm !\n",
      "Alarm !\n",
      "Alarm !\n",
      "Alarm !\n",
      "Alarm !\n",
      "Alarm !\n",
      "Alarm !\n",
      "Alarm !\n",
      "Alarm !\n",
      "Alarm !\n",
      "Alarm !\n",
      "Alarm !\n",
      "Alarm !\n",
      "Alarm !\n",
      "Alarm !\n",
      "Alarm !\n",
      "Alarm !\n",
      "Alarm !\n",
      "Alarm !\n",
      "Alarm !\n",
      "Alarm !\n",
      "Alarm !\n",
      "Alarm !\n",
      "Alarm !\n",
      "Alarm !\n",
      "Alarm !\n",
      "Alarm !\n",
      "Alarm !\n",
      "Alarm !\n",
      "Alarm !\n",
      "Alarm !\n",
      "Alarm !\n",
      "Alarm !\n",
      "Alarm !\n",
      "Alarm !\n",
      "Alarm !\n",
      "Alarm !\n",
      "Alarm !\n",
      "Alarm !\n",
      "Alarm !\n",
      "Alarm !\n",
      "Alarm !\n",
      "Alarm !\n",
      "Alarm !\n",
      "Alarm !\n",
      "Alarm !\n",
      "Alarm !\n",
      "Alarm !\n",
      "Alarm !\n",
      "Alarm !\n",
      "Alarm !\n",
      "Alarm !\n",
      "Alarm !\n",
      "Alarm !\n",
      "Alarm !\n",
      "Alarm !\n",
      "Alarm !\n",
      "Alarm !\n",
      "Alarm !\n",
      "Alarm !\n",
      "Alarm !\n",
      "Alarm !\n",
      "Alarm !\n",
      "Alarm !\n",
      "Alarm !\n",
      "Alarm !\n",
      "Alarm !\n",
      "Alarm !\n",
      "Alarm !\n",
      "Alarm !\n",
      "Alarm !\n",
      "Alarm !\n",
      "Alarm !\n",
      "The final stack value: []\n"
     ]
    }
   ],
   "source": [
    "R1_activities = [\"R1_Bed_to_Toilet\", \"R1_Personal_Hygiene\", \"Meal_Preparation\", \"Watch_TV\", \"R1_Work\", \"R1_Sleep\", \"Wash_Bathtub\", \"Clean\", \"Study\"]\n",
    "def check_if_R1_sleep_nesting(df):\n",
    "    stack = []\n",
    "    # cnt = 0\n",
    "    for index,row in df.iterrows():\n",
    "        if (df.loc[index, 'activity'] in R1_activities):\n",
    "            if row.status == 'begin':\n",
    "                stack.append(row.activity)\n",
    "                # print(stack)\n",
    "            elif row.status == 'end':\n",
    "                stack.pop()\n",
    "                # print(stack)\n",
    "            if(len(stack) > 1):\n",
    "                print(\"Alarm !\")\n",
    "\n",
    "        # # 每100次打印一次栈的状态\n",
    "        # cnt += 1\n",
    "        # if cnt % 100 == 0:\n",
    "        #     print(stack)\n",
    "    print(\"The final stack value:\", stack)\n",
    "\n",
    "check_if_R1_sleep_nesting(df)\n",
    "\n",
    "# 发现有一些R1的个人行为和公共行为是存在嵌套的，不过不影响后续的提取。\n",
    "# R1_sleep 是不存在嵌套的"
   ],
   "metadata": {
    "collapsed": false,
    "pycharm": {
     "name": "#%%\n"
    }
   }
  },
  {
   "cell_type": "markdown",
   "source": [
    "## 1.5 通过原有的dateframe 生成新的dataframe包含：activity, start_time, end_time, time_span"
   ],
   "metadata": {
    "collapsed": false
   }
  },
  {
   "cell_type": "code",
   "execution_count": 12,
   "outputs": [],
   "source": [
    "import datetime\n",
    "def create_transformed_df(old_df, R1_activities):\n",
    "    new_df = pd.DataFrame(columns=['activity', 'start_time', 'end_time', 'time_span'])\n",
    "\n",
    "    # cnt = 0\n",
    "    for activity_name in R1_activities:\n",
    "        # 初始化\n",
    "        start_time = datetime.time(0, 0, 0)\n",
    "        end_time = datetime.time(0,0,0)\n",
    "        time_span = 0\n",
    "        for index,row in old_df.iterrows():\n",
    "            if row.status == 'begin':\n",
    "                if row.activity == activity_name:\n",
    "                    print(activity_name)\n",
    "                    # stack.append(row.activity)\n",
    "                    start_time = row.datetime\n",
    "            elif row.status == 'end':\n",
    "                if row.activity == activity_name:\n",
    "                    # 向new_df增加数据\n",
    "                    # del(stack[stack.index(row.activity)])\n",
    "                    end_time = row.datetime\n",
    "                    time_span = (end_time - start_time).seconds\n",
    "                    tmp_df = pd.DataFrame({'activity': [activity_name],\n",
    "                    'start_time' : [start_time],\n",
    "                    'end_time' : [end_time],\n",
    "                    'time_span' : [time_span]})\n",
    "\n",
    "                    new_df = pd.concat([new_df, tmp_df], ignore_index = True, axis = 0)\n",
    "\n",
    "\n",
    "    return new_df\n",
    "\n"
   ],
   "metadata": {
    "collapsed": false,
    "pycharm": {
     "name": "#%%\n"
    }
   }
  },
  {
   "cell_type": "code",
   "execution_count": 13,
   "outputs": [
    {
     "name": "stdout",
     "output_type": "stream",
     "text": [
      "R1_Bed_to_Toilet\n",
      "R1_Bed_to_Toilet\n",
      "R1_Bed_to_Toilet\n",
      "R1_Bed_to_Toilet\n",
      "R1_Bed_to_Toilet\n",
      "R1_Bed_to_Toilet\n",
      "R1_Bed_to_Toilet\n",
      "R1_Bed_to_Toilet\n",
      "R1_Bed_to_Toilet\n",
      "R1_Bed_to_Toilet\n",
      "R1_Bed_to_Toilet\n",
      "R1_Bed_to_Toilet\n",
      "R1_Bed_to_Toilet\n",
      "R1_Bed_to_Toilet\n",
      "R1_Bed_to_Toilet\n",
      "R1_Bed_to_Toilet\n",
      "R1_Bed_to_Toilet\n",
      "R1_Bed_to_Toilet\n",
      "R1_Bed_to_Toilet\n",
      "R1_Bed_to_Toilet\n",
      "R1_Bed_to_Toilet\n",
      "R1_Bed_to_Toilet\n",
      "R1_Bed_to_Toilet\n",
      "R1_Bed_to_Toilet\n",
      "R1_Bed_to_Toilet\n",
      "R1_Bed_to_Toilet\n",
      "R1_Bed_to_Toilet\n",
      "R1_Bed_to_Toilet\n",
      "R1_Bed_to_Toilet\n",
      "R1_Bed_to_Toilet\n",
      "R1_Bed_to_Toilet\n",
      "R1_Bed_to_Toilet\n",
      "R1_Bed_to_Toilet\n",
      "R1_Bed_to_Toilet\n",
      "R1_Bed_to_Toilet\n",
      "R1_Bed_to_Toilet\n",
      "R1_Bed_to_Toilet\n",
      "R1_Bed_to_Toilet\n",
      "R1_Bed_to_Toilet\n",
      "R1_Bed_to_Toilet\n",
      "R1_Bed_to_Toilet\n",
      "R1_Bed_to_Toilet\n",
      "R1_Bed_to_Toilet\n",
      "R1_Bed_to_Toilet\n",
      "R1_Bed_to_Toilet\n",
      "R1_Bed_to_Toilet\n",
      "R1_Bed_to_Toilet\n",
      "R1_Bed_to_Toilet\n",
      "R1_Bed_to_Toilet\n",
      "R1_Bed_to_Toilet\n",
      "R1_Bed_to_Toilet\n",
      "R1_Bed_to_Toilet\n",
      "R1_Bed_to_Toilet\n",
      "R1_Bed_to_Toilet\n",
      "R1_Bed_to_Toilet\n",
      "R1_Bed_to_Toilet\n",
      "R1_Bed_to_Toilet\n",
      "R1_Bed_to_Toilet\n",
      "R1_Bed_to_Toilet\n",
      "R1_Bed_to_Toilet\n",
      "R1_Personal_Hygiene\n",
      "R1_Personal_Hygiene\n",
      "R1_Personal_Hygiene\n",
      "R1_Personal_Hygiene\n",
      "R1_Personal_Hygiene\n",
      "R1_Personal_Hygiene\n",
      "R1_Personal_Hygiene\n",
      "R1_Personal_Hygiene\n",
      "R1_Personal_Hygiene\n",
      "R1_Personal_Hygiene\n",
      "R1_Personal_Hygiene\n",
      "R1_Personal_Hygiene\n",
      "R1_Personal_Hygiene\n",
      "R1_Personal_Hygiene\n",
      "R1_Personal_Hygiene\n",
      "R1_Personal_Hygiene\n",
      "R1_Personal_Hygiene\n",
      "R1_Personal_Hygiene\n",
      "R1_Personal_Hygiene\n",
      "R1_Personal_Hygiene\n",
      "R1_Personal_Hygiene\n",
      "R1_Personal_Hygiene\n",
      "R1_Personal_Hygiene\n",
      "R1_Personal_Hygiene\n",
      "R1_Personal_Hygiene\n",
      "R1_Personal_Hygiene\n",
      "R1_Personal_Hygiene\n",
      "R1_Personal_Hygiene\n",
      "R1_Personal_Hygiene\n",
      "R1_Personal_Hygiene\n",
      "R1_Personal_Hygiene\n",
      "R1_Personal_Hygiene\n",
      "R1_Personal_Hygiene\n",
      "R1_Personal_Hygiene\n",
      "R1_Personal_Hygiene\n",
      "R1_Personal_Hygiene\n",
      "R1_Personal_Hygiene\n",
      "R1_Personal_Hygiene\n",
      "R1_Personal_Hygiene\n",
      "R1_Personal_Hygiene\n",
      "R1_Personal_Hygiene\n",
      "R1_Personal_Hygiene\n",
      "R1_Personal_Hygiene\n",
      "R1_Personal_Hygiene\n",
      "R1_Personal_Hygiene\n",
      "Meal_Preparation\n",
      "Meal_Preparation\n",
      "Meal_Preparation\n",
      "Meal_Preparation\n",
      "Meal_Preparation\n",
      "Meal_Preparation\n",
      "Meal_Preparation\n",
      "Meal_Preparation\n",
      "Meal_Preparation\n",
      "Meal_Preparation\n",
      "Meal_Preparation\n",
      "Meal_Preparation\n",
      "Meal_Preparation\n",
      "Meal_Preparation\n",
      "Meal_Preparation\n",
      "Meal_Preparation\n",
      "Meal_Preparation\n",
      "Meal_Preparation\n",
      "Meal_Preparation\n",
      "Meal_Preparation\n",
      "Meal_Preparation\n",
      "Meal_Preparation\n",
      "Meal_Preparation\n",
      "Meal_Preparation\n",
      "Meal_Preparation\n",
      "Meal_Preparation\n",
      "Meal_Preparation\n",
      "Meal_Preparation\n",
      "Meal_Preparation\n",
      "Meal_Preparation\n",
      "Meal_Preparation\n",
      "Meal_Preparation\n",
      "Meal_Preparation\n",
      "Meal_Preparation\n",
      "Meal_Preparation\n",
      "Meal_Preparation\n",
      "Meal_Preparation\n",
      "Meal_Preparation\n",
      "Meal_Preparation\n",
      "Meal_Preparation\n",
      "Meal_Preparation\n",
      "Meal_Preparation\n",
      "Meal_Preparation\n",
      "Meal_Preparation\n",
      "Meal_Preparation\n",
      "Meal_Preparation\n",
      "Meal_Preparation\n",
      "Meal_Preparation\n",
      "Meal_Preparation\n",
      "Meal_Preparation\n",
      "Meal_Preparation\n",
      "Meal_Preparation\n",
      "Meal_Preparation\n",
      "Meal_Preparation\n",
      "Meal_Preparation\n",
      "Meal_Preparation\n",
      "Meal_Preparation\n",
      "Meal_Preparation\n",
      "Meal_Preparation\n",
      "Meal_Preparation\n",
      "Meal_Preparation\n",
      "Meal_Preparation\n",
      "Meal_Preparation\n",
      "Meal_Preparation\n",
      "Meal_Preparation\n",
      "Meal_Preparation\n",
      "Meal_Preparation\n",
      "Meal_Preparation\n",
      "Meal_Preparation\n",
      "Meal_Preparation\n",
      "Meal_Preparation\n",
      "Meal_Preparation\n",
      "Meal_Preparation\n",
      "Meal_Preparation\n",
      "Meal_Preparation\n",
      "Meal_Preparation\n",
      "Meal_Preparation\n",
      "Meal_Preparation\n",
      "Meal_Preparation\n",
      "Meal_Preparation\n",
      "Meal_Preparation\n",
      "Meal_Preparation\n",
      "Meal_Preparation\n",
      "Meal_Preparation\n",
      "Meal_Preparation\n",
      "Meal_Preparation\n",
      "Meal_Preparation\n",
      "Meal_Preparation\n",
      "Meal_Preparation\n",
      "Meal_Preparation\n",
      "Meal_Preparation\n",
      "Meal_Preparation\n",
      "Meal_Preparation\n",
      "Meal_Preparation\n",
      "Meal_Preparation\n",
      "Meal_Preparation\n",
      "Meal_Preparation\n",
      "Meal_Preparation\n",
      "Meal_Preparation\n",
      "Meal_Preparation\n",
      "Meal_Preparation\n",
      "Meal_Preparation\n",
      "Meal_Preparation\n",
      "Meal_Preparation\n",
      "Meal_Preparation\n",
      "Meal_Preparation\n",
      "Meal_Preparation\n",
      "Meal_Preparation\n",
      "Meal_Preparation\n",
      "Meal_Preparation\n",
      "Meal_Preparation\n",
      "Meal_Preparation\n",
      "Meal_Preparation\n",
      "Meal_Preparation\n",
      "Meal_Preparation\n",
      "Meal_Preparation\n",
      "Meal_Preparation\n",
      "Watch_TV\n",
      "Watch_TV\n",
      "Watch_TV\n",
      "Watch_TV\n",
      "Watch_TV\n",
      "Watch_TV\n",
      "Watch_TV\n",
      "Watch_TV\n",
      "Watch_TV\n",
      "Watch_TV\n",
      "Watch_TV\n",
      "Watch_TV\n",
      "Watch_TV\n",
      "Watch_TV\n",
      "Watch_TV\n",
      "Watch_TV\n",
      "Watch_TV\n",
      "Watch_TV\n",
      "Watch_TV\n",
      "Watch_TV\n",
      "Watch_TV\n",
      "Watch_TV\n",
      "Watch_TV\n",
      "Watch_TV\n",
      "Watch_TV\n",
      "Watch_TV\n",
      "Watch_TV\n",
      "Watch_TV\n",
      "Watch_TV\n",
      "Watch_TV\n",
      "Watch_TV\n",
      "R1_Work\n",
      "R1_Work\n",
      "R1_Work\n",
      "R1_Work\n",
      "R1_Work\n",
      "R1_Work\n",
      "R1_Work\n",
      "R1_Work\n",
      "R1_Work\n",
      "R1_Work\n",
      "R1_Work\n",
      "R1_Work\n",
      "R1_Work\n",
      "R1_Work\n",
      "R1_Work\n",
      "R1_Work\n",
      "R1_Work\n",
      "R1_Work\n",
      "R1_Work\n",
      "R1_Work\n",
      "R1_Work\n",
      "R1_Work\n",
      "R1_Work\n",
      "R1_Work\n",
      "R1_Work\n",
      "R1_Work\n",
      "R1_Work\n",
      "R1_Work\n",
      "R1_Work\n",
      "R1_Work\n",
      "R1_Work\n",
      "R1_Work\n",
      "R1_Work\n",
      "R1_Work\n",
      "R1_Work\n",
      "R1_Work\n",
      "R1_Work\n",
      "R1_Work\n",
      "R1_Work\n",
      "R1_Work\n",
      "R1_Work\n",
      "R1_Work\n",
      "R1_Work\n",
      "R1_Work\n",
      "R1_Work\n",
      "R1_Work\n",
      "R1_Work\n",
      "R1_Work\n",
      "R1_Work\n",
      "R1_Work\n",
      "R1_Work\n",
      "R1_Work\n",
      "R1_Work\n",
      "R1_Work\n",
      "R1_Work\n",
      "R1_Work\n",
      "R1_Work\n",
      "R1_Work\n",
      "R1_Sleep\n",
      "R1_Sleep\n",
      "R1_Sleep\n",
      "R1_Sleep\n",
      "R1_Sleep\n",
      "R1_Sleep\n",
      "R1_Sleep\n",
      "R1_Sleep\n",
      "R1_Sleep\n",
      "R1_Sleep\n",
      "R1_Sleep\n",
      "R1_Sleep\n",
      "R1_Sleep\n",
      "R1_Sleep\n",
      "R1_Sleep\n",
      "R1_Sleep\n",
      "R1_Sleep\n",
      "R1_Sleep\n",
      "R1_Sleep\n",
      "R1_Sleep\n",
      "R1_Sleep\n",
      "R1_Sleep\n",
      "R1_Sleep\n",
      "R1_Sleep\n",
      "R1_Sleep\n",
      "R1_Sleep\n",
      "R1_Sleep\n",
      "R1_Sleep\n",
      "R1_Sleep\n",
      "R1_Sleep\n",
      "R1_Sleep\n",
      "R1_Sleep\n",
      "R1_Sleep\n",
      "R1_Sleep\n",
      "R1_Sleep\n",
      "Wash_Bathtub\n",
      "Clean\n",
      "Clean\n",
      "Study\n",
      "Study\n",
      "Study\n",
      "Study\n",
      "Study\n",
      "Study\n",
      "Study\n",
      "Study\n",
      "Study\n"
     ]
    }
   ],
   "source": [
    "new_df = create_transformed_df(df, R1_activities)"
   ],
   "metadata": {
    "collapsed": false,
    "pycharm": {
     "name": "#%%\n"
    }
   }
  },
  {
   "cell_type": "code",
   "execution_count": 14,
   "outputs": [],
   "source": [
    "new_df.to_csv(\"ActivityStatistics.csv\")"
   ],
   "metadata": {
    "collapsed": false,
    "pycharm": {
     "name": "#%%\n"
    }
   }
  },
  {
   "cell_type": "code",
   "execution_count": 15,
   "outputs": [
    {
     "data": {
      "text/plain": "             activity           start_time             end_time time_span\n0    R1_Bed_to_Toilet  2009-02-02 07:15:17  2009-02-02 07:21:04       347\n1    R1_Bed_to_Toilet  2009-02-03 07:29:34  2009-02-03 07:35:48       374\n2    R1_Bed_to_Toilet  2009-02-04 07:26:00  2009-02-04 07:40:03       843\n3    R1_Bed_to_Toilet  2009-02-05 06:51:44  2009-02-05 07:12:46      1262\n4    R1_Bed_to_Toilet  2009-02-06 07:33:50  2009-02-06 07:53:46      1196\n..                ...                  ...                  ...       ...\n353             Study  2009-03-10 19:41:14  2009-03-10 22:41:16     10802\n354             Study  2009-03-11 19:39:57  2009-03-11 22:09:45      8988\n355             Study  2009-03-23 20:35:02  2009-03-23 22:23:05      6483\n356             Study  2009-03-24 08:24:15  2009-03-24 08:36:44       749\n357             Study  2009-03-25 11:26:18  2009-03-25 12:43:02      4604\n\n[358 rows x 4 columns]",
      "text/html": "<div>\n<style scoped>\n    .dataframe tbody tr th:only-of-type {\n        vertical-align: middle;\n    }\n\n    .dataframe tbody tr th {\n        vertical-align: top;\n    }\n\n    .dataframe thead th {\n        text-align: right;\n    }\n</style>\n<table border=\"1\" class=\"dataframe\">\n  <thead>\n    <tr style=\"text-align: right;\">\n      <th></th>\n      <th>activity</th>\n      <th>start_time</th>\n      <th>end_time</th>\n      <th>time_span</th>\n    </tr>\n  </thead>\n  <tbody>\n    <tr>\n      <th>0</th>\n      <td>R1_Bed_to_Toilet</td>\n      <td>2009-02-02 07:15:17</td>\n      <td>2009-02-02 07:21:04</td>\n      <td>347</td>\n    </tr>\n    <tr>\n      <th>1</th>\n      <td>R1_Bed_to_Toilet</td>\n      <td>2009-02-03 07:29:34</td>\n      <td>2009-02-03 07:35:48</td>\n      <td>374</td>\n    </tr>\n    <tr>\n      <th>2</th>\n      <td>R1_Bed_to_Toilet</td>\n      <td>2009-02-04 07:26:00</td>\n      <td>2009-02-04 07:40:03</td>\n      <td>843</td>\n    </tr>\n    <tr>\n      <th>3</th>\n      <td>R1_Bed_to_Toilet</td>\n      <td>2009-02-05 06:51:44</td>\n      <td>2009-02-05 07:12:46</td>\n      <td>1262</td>\n    </tr>\n    <tr>\n      <th>4</th>\n      <td>R1_Bed_to_Toilet</td>\n      <td>2009-02-06 07:33:50</td>\n      <td>2009-02-06 07:53:46</td>\n      <td>1196</td>\n    </tr>\n    <tr>\n      <th>...</th>\n      <td>...</td>\n      <td>...</td>\n      <td>...</td>\n      <td>...</td>\n    </tr>\n    <tr>\n      <th>353</th>\n      <td>Study</td>\n      <td>2009-03-10 19:41:14</td>\n      <td>2009-03-10 22:41:16</td>\n      <td>10802</td>\n    </tr>\n    <tr>\n      <th>354</th>\n      <td>Study</td>\n      <td>2009-03-11 19:39:57</td>\n      <td>2009-03-11 22:09:45</td>\n      <td>8988</td>\n    </tr>\n    <tr>\n      <th>355</th>\n      <td>Study</td>\n      <td>2009-03-23 20:35:02</td>\n      <td>2009-03-23 22:23:05</td>\n      <td>6483</td>\n    </tr>\n    <tr>\n      <th>356</th>\n      <td>Study</td>\n      <td>2009-03-24 08:24:15</td>\n      <td>2009-03-24 08:36:44</td>\n      <td>749</td>\n    </tr>\n    <tr>\n      <th>357</th>\n      <td>Study</td>\n      <td>2009-03-25 11:26:18</td>\n      <td>2009-03-25 12:43:02</td>\n      <td>4604</td>\n    </tr>\n  </tbody>\n</table>\n<p>358 rows × 4 columns</p>\n</div>"
     },
     "execution_count": 15,
     "metadata": {},
     "output_type": "execute_result"
    }
   ],
   "source": [
    "new_df"
   ],
   "metadata": {
    "collapsed": false,
    "pycharm": {
     "name": "#%%\n"
    }
   }
  },
  {
   "cell_type": "markdown",
   "source": [
    "## 1.6 resample，计算每个activity每天/每周发生的次数"
   ],
   "metadata": {
    "collapsed": false
   }
  },
  {
   "cell_type": "code",
   "execution_count": 16,
   "outputs": [],
   "source": [
    "valid_R1_activities = [\"R1_Bed_to_Toilet\", \"R1_Personal_Hygiene\", \"Meal_Preparation\", \"Watch_TV\", \"R1_Work\", \"R1_Sleep\"] # \"Wash_Bathtub\", \"Clean\", \"Study\"这三个样本点太少了，直接抛弃"
   ],
   "metadata": {
    "collapsed": false,
    "pycharm": {
     "name": "#%%\n"
    }
   }
  },
  {
   "cell_type": "code",
   "execution_count": 17,
   "outputs": [
    {
     "data": {
      "text/plain": "                activity           start_time             end_time time_span\n60   R1_Personal_Hygiene  2009-02-02 07:21:04  2009-02-02 07:38:34      1050\n61   R1_Personal_Hygiene  2009-02-04 07:40:06  2009-02-04 07:46:36       390\n62   R1_Personal_Hygiene  2009-02-05 23:06:31  2009-02-05 23:10:27       236\n63   R1_Personal_Hygiene  2009-02-06 07:34:25  2009-02-06 07:54:02      1177\n64   R1_Personal_Hygiene  2009-02-09 07:49:25  2009-02-09 08:09:05      1180\n65   R1_Personal_Hygiene  2009-02-09 20:40:33  2009-02-09 20:45:34       301\n66   R1_Personal_Hygiene  2009-02-10 11:51:47  2009-02-10 11:56:08       261\n67   R1_Personal_Hygiene  2009-02-16 19:13:57  2009-02-16 19:15:06        69\n68   R1_Personal_Hygiene  2009-02-17 08:37:25  2009-02-17 08:55:08      1063\n69   R1_Personal_Hygiene  2009-02-17 19:13:02  2009-02-17 19:18:10       308\n70   R1_Personal_Hygiene  2009-02-18 08:01:11  2009-02-18 08:07:35       384\n71   R1_Personal_Hygiene  2009-02-19 07:08:20  2009-02-19 07:12:15       235\n72   R1_Personal_Hygiene  2009-02-20 05:44:35  2009-02-20 06:02:00      1045\n73   R1_Personal_Hygiene  2009-02-23 07:54:53  2009-02-23 08:01:57       424\n74   R1_Personal_Hygiene  2009-02-23 08:31:30  2009-02-23 08:35:23       233\n75   R1_Personal_Hygiene  2009-02-24 08:47:45  2009-02-24 09:15:17      1652\n76   R1_Personal_Hygiene  2009-02-25 07:34:27  2009-02-25 08:02:45      1698\n77   R1_Personal_Hygiene  2009-02-26 08:47:52  2009-02-26 09:11:18      1406\n78   R1_Personal_Hygiene  2009-02-27 07:49:30  2009-02-27 08:07:34      1084\n79   R1_Personal_Hygiene  2009-03-02 17:41:32  2009-03-02 17:46:34       302\n80   R1_Personal_Hygiene  2009-03-02 20:15:17  2009-03-02 20:37:41      1344\n81   R1_Personal_Hygiene  2009-03-03 09:30:47  2009-03-03 09:56:14      1527\n82   R1_Personal_Hygiene  2009-03-04 07:00:44  2009-03-04 07:25:36      1492\n83   R1_Personal_Hygiene  2009-03-05 07:01:02  2009-03-05 07:22:28      1286\n84   R1_Personal_Hygiene  2009-03-06 08:03:01  2009-03-06 08:14:57       716\n85   R1_Personal_Hygiene  2009-03-09 08:07:52  2009-03-09 08:14:05       373\n86   R1_Personal_Hygiene  2009-03-10 08:48:06  2009-03-10 09:29:34      2488\n87   R1_Personal_Hygiene  2009-03-11 07:47:26  2009-03-11 08:10:26      1380\n88   R1_Personal_Hygiene  2009-03-11 08:10:36  2009-03-11 08:14:18       222\n89   R1_Personal_Hygiene  2009-03-12 07:16:16  2009-03-12 07:24:33       497\n90   R1_Personal_Hygiene  2009-03-13 06:23:48  2009-03-13 06:31:26       458\n91   R1_Personal_Hygiene  2009-03-13 06:34:29  2009-03-13 06:36:01        92\n92   R1_Personal_Hygiene  2009-03-13 07:32:43  2009-03-13 07:40:35       472\n93   R1_Personal_Hygiene  2009-03-23 09:44:11  2009-03-23 09:54:14       603\n94   R1_Personal_Hygiene  2009-03-23 21:31:03  2009-03-23 21:41:18       615\n95   R1_Personal_Hygiene  2009-03-24 09:10:19  2009-03-24 09:26:43       984\n96   R1_Personal_Hygiene  2009-03-25 08:06:22  2009-03-25 08:35:25      1743\n97   R1_Personal_Hygiene  2009-03-25 12:32:29  2009-03-25 12:43:05       636\n98   R1_Personal_Hygiene  2009-03-26 07:36:07  2009-03-26 07:39:03       176\n99   R1_Personal_Hygiene  2009-03-26 09:10:54  2009-03-26 09:33:51      1377\n100  R1_Personal_Hygiene  2009-03-27 07:47:30  2009-03-27 08:20:29      1979\n101  R1_Personal_Hygiene  2009-03-31 08:54:38  2009-03-31 09:28:15      2017\n102  R1_Personal_Hygiene  2009-04-01 08:12:18  2009-04-01 08:20:26       488\n103  R1_Personal_Hygiene  2009-04-02 08:51:59  2009-04-02 09:28:29      2190\n104  R1_Personal_Hygiene  2009-04-03 06:01:55  2009-04-03 06:04:22       147",
      "text/html": "<div>\n<style scoped>\n    .dataframe tbody tr th:only-of-type {\n        vertical-align: middle;\n    }\n\n    .dataframe tbody tr th {\n        vertical-align: top;\n    }\n\n    .dataframe thead th {\n        text-align: right;\n    }\n</style>\n<table border=\"1\" class=\"dataframe\">\n  <thead>\n    <tr style=\"text-align: right;\">\n      <th></th>\n      <th>activity</th>\n      <th>start_time</th>\n      <th>end_time</th>\n      <th>time_span</th>\n    </tr>\n  </thead>\n  <tbody>\n    <tr>\n      <th>60</th>\n      <td>R1_Personal_Hygiene</td>\n      <td>2009-02-02 07:21:04</td>\n      <td>2009-02-02 07:38:34</td>\n      <td>1050</td>\n    </tr>\n    <tr>\n      <th>61</th>\n      <td>R1_Personal_Hygiene</td>\n      <td>2009-02-04 07:40:06</td>\n      <td>2009-02-04 07:46:36</td>\n      <td>390</td>\n    </tr>\n    <tr>\n      <th>62</th>\n      <td>R1_Personal_Hygiene</td>\n      <td>2009-02-05 23:06:31</td>\n      <td>2009-02-05 23:10:27</td>\n      <td>236</td>\n    </tr>\n    <tr>\n      <th>63</th>\n      <td>R1_Personal_Hygiene</td>\n      <td>2009-02-06 07:34:25</td>\n      <td>2009-02-06 07:54:02</td>\n      <td>1177</td>\n    </tr>\n    <tr>\n      <th>64</th>\n      <td>R1_Personal_Hygiene</td>\n      <td>2009-02-09 07:49:25</td>\n      <td>2009-02-09 08:09:05</td>\n      <td>1180</td>\n    </tr>\n    <tr>\n      <th>65</th>\n      <td>R1_Personal_Hygiene</td>\n      <td>2009-02-09 20:40:33</td>\n      <td>2009-02-09 20:45:34</td>\n      <td>301</td>\n    </tr>\n    <tr>\n      <th>66</th>\n      <td>R1_Personal_Hygiene</td>\n      <td>2009-02-10 11:51:47</td>\n      <td>2009-02-10 11:56:08</td>\n      <td>261</td>\n    </tr>\n    <tr>\n      <th>67</th>\n      <td>R1_Personal_Hygiene</td>\n      <td>2009-02-16 19:13:57</td>\n      <td>2009-02-16 19:15:06</td>\n      <td>69</td>\n    </tr>\n    <tr>\n      <th>68</th>\n      <td>R1_Personal_Hygiene</td>\n      <td>2009-02-17 08:37:25</td>\n      <td>2009-02-17 08:55:08</td>\n      <td>1063</td>\n    </tr>\n    <tr>\n      <th>69</th>\n      <td>R1_Personal_Hygiene</td>\n      <td>2009-02-17 19:13:02</td>\n      <td>2009-02-17 19:18:10</td>\n      <td>308</td>\n    </tr>\n    <tr>\n      <th>70</th>\n      <td>R1_Personal_Hygiene</td>\n      <td>2009-02-18 08:01:11</td>\n      <td>2009-02-18 08:07:35</td>\n      <td>384</td>\n    </tr>\n    <tr>\n      <th>71</th>\n      <td>R1_Personal_Hygiene</td>\n      <td>2009-02-19 07:08:20</td>\n      <td>2009-02-19 07:12:15</td>\n      <td>235</td>\n    </tr>\n    <tr>\n      <th>72</th>\n      <td>R1_Personal_Hygiene</td>\n      <td>2009-02-20 05:44:35</td>\n      <td>2009-02-20 06:02:00</td>\n      <td>1045</td>\n    </tr>\n    <tr>\n      <th>73</th>\n      <td>R1_Personal_Hygiene</td>\n      <td>2009-02-23 07:54:53</td>\n      <td>2009-02-23 08:01:57</td>\n      <td>424</td>\n    </tr>\n    <tr>\n      <th>74</th>\n      <td>R1_Personal_Hygiene</td>\n      <td>2009-02-23 08:31:30</td>\n      <td>2009-02-23 08:35:23</td>\n      <td>233</td>\n    </tr>\n    <tr>\n      <th>75</th>\n      <td>R1_Personal_Hygiene</td>\n      <td>2009-02-24 08:47:45</td>\n      <td>2009-02-24 09:15:17</td>\n      <td>1652</td>\n    </tr>\n    <tr>\n      <th>76</th>\n      <td>R1_Personal_Hygiene</td>\n      <td>2009-02-25 07:34:27</td>\n      <td>2009-02-25 08:02:45</td>\n      <td>1698</td>\n    </tr>\n    <tr>\n      <th>77</th>\n      <td>R1_Personal_Hygiene</td>\n      <td>2009-02-26 08:47:52</td>\n      <td>2009-02-26 09:11:18</td>\n      <td>1406</td>\n    </tr>\n    <tr>\n      <th>78</th>\n      <td>R1_Personal_Hygiene</td>\n      <td>2009-02-27 07:49:30</td>\n      <td>2009-02-27 08:07:34</td>\n      <td>1084</td>\n    </tr>\n    <tr>\n      <th>79</th>\n      <td>R1_Personal_Hygiene</td>\n      <td>2009-03-02 17:41:32</td>\n      <td>2009-03-02 17:46:34</td>\n      <td>302</td>\n    </tr>\n    <tr>\n      <th>80</th>\n      <td>R1_Personal_Hygiene</td>\n      <td>2009-03-02 20:15:17</td>\n      <td>2009-03-02 20:37:41</td>\n      <td>1344</td>\n    </tr>\n    <tr>\n      <th>81</th>\n      <td>R1_Personal_Hygiene</td>\n      <td>2009-03-03 09:30:47</td>\n      <td>2009-03-03 09:56:14</td>\n      <td>1527</td>\n    </tr>\n    <tr>\n      <th>82</th>\n      <td>R1_Personal_Hygiene</td>\n      <td>2009-03-04 07:00:44</td>\n      <td>2009-03-04 07:25:36</td>\n      <td>1492</td>\n    </tr>\n    <tr>\n      <th>83</th>\n      <td>R1_Personal_Hygiene</td>\n      <td>2009-03-05 07:01:02</td>\n      <td>2009-03-05 07:22:28</td>\n      <td>1286</td>\n    </tr>\n    <tr>\n      <th>84</th>\n      <td>R1_Personal_Hygiene</td>\n      <td>2009-03-06 08:03:01</td>\n      <td>2009-03-06 08:14:57</td>\n      <td>716</td>\n    </tr>\n    <tr>\n      <th>85</th>\n      <td>R1_Personal_Hygiene</td>\n      <td>2009-03-09 08:07:52</td>\n      <td>2009-03-09 08:14:05</td>\n      <td>373</td>\n    </tr>\n    <tr>\n      <th>86</th>\n      <td>R1_Personal_Hygiene</td>\n      <td>2009-03-10 08:48:06</td>\n      <td>2009-03-10 09:29:34</td>\n      <td>2488</td>\n    </tr>\n    <tr>\n      <th>87</th>\n      <td>R1_Personal_Hygiene</td>\n      <td>2009-03-11 07:47:26</td>\n      <td>2009-03-11 08:10:26</td>\n      <td>1380</td>\n    </tr>\n    <tr>\n      <th>88</th>\n      <td>R1_Personal_Hygiene</td>\n      <td>2009-03-11 08:10:36</td>\n      <td>2009-03-11 08:14:18</td>\n      <td>222</td>\n    </tr>\n    <tr>\n      <th>89</th>\n      <td>R1_Personal_Hygiene</td>\n      <td>2009-03-12 07:16:16</td>\n      <td>2009-03-12 07:24:33</td>\n      <td>497</td>\n    </tr>\n    <tr>\n      <th>90</th>\n      <td>R1_Personal_Hygiene</td>\n      <td>2009-03-13 06:23:48</td>\n      <td>2009-03-13 06:31:26</td>\n      <td>458</td>\n    </tr>\n    <tr>\n      <th>91</th>\n      <td>R1_Personal_Hygiene</td>\n      <td>2009-03-13 06:34:29</td>\n      <td>2009-03-13 06:36:01</td>\n      <td>92</td>\n    </tr>\n    <tr>\n      <th>92</th>\n      <td>R1_Personal_Hygiene</td>\n      <td>2009-03-13 07:32:43</td>\n      <td>2009-03-13 07:40:35</td>\n      <td>472</td>\n    </tr>\n    <tr>\n      <th>93</th>\n      <td>R1_Personal_Hygiene</td>\n      <td>2009-03-23 09:44:11</td>\n      <td>2009-03-23 09:54:14</td>\n      <td>603</td>\n    </tr>\n    <tr>\n      <th>94</th>\n      <td>R1_Personal_Hygiene</td>\n      <td>2009-03-23 21:31:03</td>\n      <td>2009-03-23 21:41:18</td>\n      <td>615</td>\n    </tr>\n    <tr>\n      <th>95</th>\n      <td>R1_Personal_Hygiene</td>\n      <td>2009-03-24 09:10:19</td>\n      <td>2009-03-24 09:26:43</td>\n      <td>984</td>\n    </tr>\n    <tr>\n      <th>96</th>\n      <td>R1_Personal_Hygiene</td>\n      <td>2009-03-25 08:06:22</td>\n      <td>2009-03-25 08:35:25</td>\n      <td>1743</td>\n    </tr>\n    <tr>\n      <th>97</th>\n      <td>R1_Personal_Hygiene</td>\n      <td>2009-03-25 12:32:29</td>\n      <td>2009-03-25 12:43:05</td>\n      <td>636</td>\n    </tr>\n    <tr>\n      <th>98</th>\n      <td>R1_Personal_Hygiene</td>\n      <td>2009-03-26 07:36:07</td>\n      <td>2009-03-26 07:39:03</td>\n      <td>176</td>\n    </tr>\n    <tr>\n      <th>99</th>\n      <td>R1_Personal_Hygiene</td>\n      <td>2009-03-26 09:10:54</td>\n      <td>2009-03-26 09:33:51</td>\n      <td>1377</td>\n    </tr>\n    <tr>\n      <th>100</th>\n      <td>R1_Personal_Hygiene</td>\n      <td>2009-03-27 07:47:30</td>\n      <td>2009-03-27 08:20:29</td>\n      <td>1979</td>\n    </tr>\n    <tr>\n      <th>101</th>\n      <td>R1_Personal_Hygiene</td>\n      <td>2009-03-31 08:54:38</td>\n      <td>2009-03-31 09:28:15</td>\n      <td>2017</td>\n    </tr>\n    <tr>\n      <th>102</th>\n      <td>R1_Personal_Hygiene</td>\n      <td>2009-04-01 08:12:18</td>\n      <td>2009-04-01 08:20:26</td>\n      <td>488</td>\n    </tr>\n    <tr>\n      <th>103</th>\n      <td>R1_Personal_Hygiene</td>\n      <td>2009-04-02 08:51:59</td>\n      <td>2009-04-02 09:28:29</td>\n      <td>2190</td>\n    </tr>\n    <tr>\n      <th>104</th>\n      <td>R1_Personal_Hygiene</td>\n      <td>2009-04-03 06:01:55</td>\n      <td>2009-04-03 06:04:22</td>\n      <td>147</td>\n    </tr>\n  </tbody>\n</table>\n</div>"
     },
     "execution_count": 17,
     "metadata": {},
     "output_type": "execute_result"
    }
   ],
   "source": [
    "df_by_activity_list = []\n",
    "\n",
    "for valid_activity in valid_R1_activities:\n",
    "    tmp_df = new_df[new_df[\"activity\"] == valid_activity]\n",
    "    df_by_activity_list.append(tmp_df)\n",
    "\n",
    "df_by_activity_list[1]"
   ],
   "metadata": {
    "collapsed": false,
    "pycharm": {
     "name": "#%%\n"
    }
   }
  },
  {
   "cell_type": "code",
   "execution_count": 18,
   "outputs": [
    {
     "name": "stderr",
     "output_type": "stream",
     "text": [
      "/var/folders/vq/j65rj4vx6mgdgbzwrggmrn6h0000gn/T/ipykernel_38531/1171708334.py:4: SettingWithCopyWarning: \n",
      "A value is trying to be set on a copy of a slice from a DataFrame.\n",
      "Try using .loc[row_indexer,col_indexer] = value instead\n",
      "\n",
      "See the caveats in the documentation: https://pandas.pydata.org/pandas-docs/stable/user_guide/indexing.html#returning-a-view-versus-a-copy\n",
      "  tmp_df[\"freq\"] = 1\n",
      "/var/folders/vq/j65rj4vx6mgdgbzwrggmrn6h0000gn/T/ipykernel_38531/1171708334.py:4: SettingWithCopyWarning: \n",
      "A value is trying to be set on a copy of a slice from a DataFrame.\n",
      "Try using .loc[row_indexer,col_indexer] = value instead\n",
      "\n",
      "See the caveats in the documentation: https://pandas.pydata.org/pandas-docs/stable/user_guide/indexing.html#returning-a-view-versus-a-copy\n",
      "  tmp_df[\"freq\"] = 1\n",
      "/var/folders/vq/j65rj4vx6mgdgbzwrggmrn6h0000gn/T/ipykernel_38531/1171708334.py:4: SettingWithCopyWarning: \n",
      "A value is trying to be set on a copy of a slice from a DataFrame.\n",
      "Try using .loc[row_indexer,col_indexer] = value instead\n",
      "\n",
      "See the caveats in the documentation: https://pandas.pydata.org/pandas-docs/stable/user_guide/indexing.html#returning-a-view-versus-a-copy\n",
      "  tmp_df[\"freq\"] = 1\n",
      "/var/folders/vq/j65rj4vx6mgdgbzwrggmrn6h0000gn/T/ipykernel_38531/1171708334.py:4: SettingWithCopyWarning: \n",
      "A value is trying to be set on a copy of a slice from a DataFrame.\n",
      "Try using .loc[row_indexer,col_indexer] = value instead\n",
      "\n",
      "See the caveats in the documentation: https://pandas.pydata.org/pandas-docs/stable/user_guide/indexing.html#returning-a-view-versus-a-copy\n",
      "  tmp_df[\"freq\"] = 1\n",
      "/var/folders/vq/j65rj4vx6mgdgbzwrggmrn6h0000gn/T/ipykernel_38531/1171708334.py:4: SettingWithCopyWarning: \n",
      "A value is trying to be set on a copy of a slice from a DataFrame.\n",
      "Try using .loc[row_indexer,col_indexer] = value instead\n",
      "\n",
      "See the caveats in the documentation: https://pandas.pydata.org/pandas-docs/stable/user_guide/indexing.html#returning-a-view-versus-a-copy\n",
      "  tmp_df[\"freq\"] = 1\n",
      "/var/folders/vq/j65rj4vx6mgdgbzwrggmrn6h0000gn/T/ipykernel_38531/1171708334.py:4: SettingWithCopyWarning: \n",
      "A value is trying to be set on a copy of a slice from a DataFrame.\n",
      "Try using .loc[row_indexer,col_indexer] = value instead\n",
      "\n",
      "See the caveats in the documentation: https://pandas.pydata.org/pandas-docs/stable/user_guide/indexing.html#returning-a-view-versus-a-copy\n",
      "  tmp_df[\"freq\"] = 1\n"
     ]
    }
   ],
   "source": [
    "resampled_df_list = []\n",
    "for activity in df_by_activity_list:\n",
    "    tmp_df = activity\n",
    "    tmp_df[\"freq\"] = 1\n",
    "    tmp_df = tmp_df.drop([\"end_time\"], axis = 1)\n",
    "\n",
    "    tmp_df[\"time_span\"] = tmp_df[\"time_span\"].astype(int)\n",
    "    tmp_df = tmp_df.resample('D', on='start_time').sum()\n",
    "    resampled_df_list.append(tmp_df)\n",
    "    tmp_df"
   ],
   "metadata": {
    "collapsed": false,
    "pycharm": {
     "name": "#%%\n"
    }
   }
  },
  {
   "cell_type": "code",
   "execution_count": 19,
   "outputs": [
    {
     "data": {
      "text/plain": "            time_span  freq\nstart_time                 \n2009-02-02       2968     1\n2009-02-03       4140     1\n2009-02-04       8333     1\n2009-02-05       4834     1\n2009-02-06          0     0\n...               ...   ...\n2009-03-30          0     0\n2009-03-31          0     0\n2009-04-01       1690     1\n2009-04-02       4611     1\n2009-04-03       2435     2\n\n[61 rows x 2 columns]",
      "text/html": "<div>\n<style scoped>\n    .dataframe tbody tr th:only-of-type {\n        vertical-align: middle;\n    }\n\n    .dataframe tbody tr th {\n        vertical-align: top;\n    }\n\n    .dataframe thead th {\n        text-align: right;\n    }\n</style>\n<table border=\"1\" class=\"dataframe\">\n  <thead>\n    <tr style=\"text-align: right;\">\n      <th></th>\n      <th>time_span</th>\n      <th>freq</th>\n    </tr>\n    <tr>\n      <th>start_time</th>\n      <th></th>\n      <th></th>\n    </tr>\n  </thead>\n  <tbody>\n    <tr>\n      <th>2009-02-02</th>\n      <td>2968</td>\n      <td>1</td>\n    </tr>\n    <tr>\n      <th>2009-02-03</th>\n      <td>4140</td>\n      <td>1</td>\n    </tr>\n    <tr>\n      <th>2009-02-04</th>\n      <td>8333</td>\n      <td>1</td>\n    </tr>\n    <tr>\n      <th>2009-02-05</th>\n      <td>4834</td>\n      <td>1</td>\n    </tr>\n    <tr>\n      <th>2009-02-06</th>\n      <td>0</td>\n      <td>0</td>\n    </tr>\n    <tr>\n      <th>...</th>\n      <td>...</td>\n      <td>...</td>\n    </tr>\n    <tr>\n      <th>2009-03-30</th>\n      <td>0</td>\n      <td>0</td>\n    </tr>\n    <tr>\n      <th>2009-03-31</th>\n      <td>0</td>\n      <td>0</td>\n    </tr>\n    <tr>\n      <th>2009-04-01</th>\n      <td>1690</td>\n      <td>1</td>\n    </tr>\n    <tr>\n      <th>2009-04-02</th>\n      <td>4611</td>\n      <td>1</td>\n    </tr>\n    <tr>\n      <th>2009-04-03</th>\n      <td>2435</td>\n      <td>2</td>\n    </tr>\n  </tbody>\n</table>\n<p>61 rows × 2 columns</p>\n</div>"
     },
     "execution_count": 19,
     "metadata": {},
     "output_type": "execute_result"
    }
   ],
   "source": [
    "resampled_df_list[3]"
   ],
   "metadata": {
    "collapsed": false,
    "pycharm": {
     "name": "#%%\n"
    }
   }
  },
  {
   "cell_type": "code",
   "execution_count": 20,
   "outputs": [
    {
     "name": "stdout",
     "output_type": "stream",
     "text": [
      "[Timestamp('2009-02-02 00:00:00', freq='D'), Timestamp('2009-02-03 00:00:00', freq='D'), Timestamp('2009-02-04 00:00:00', freq='D'), Timestamp('2009-02-05 00:00:00', freq='D'), Timestamp('2009-02-06 00:00:00', freq='D'), Timestamp('2009-02-07 00:00:00', freq='D'), Timestamp('2009-02-08 00:00:00', freq='D'), Timestamp('2009-02-09 00:00:00', freq='D'), Timestamp('2009-02-10 00:00:00', freq='D'), Timestamp('2009-02-11 00:00:00', freq='D'), Timestamp('2009-02-12 00:00:00', freq='D'), Timestamp('2009-02-13 00:00:00', freq='D'), Timestamp('2009-02-14 00:00:00', freq='D'), Timestamp('2009-02-15 00:00:00', freq='D'), Timestamp('2009-02-16 00:00:00', freq='D'), Timestamp('2009-02-17 00:00:00', freq='D'), Timestamp('2009-02-18 00:00:00', freq='D'), Timestamp('2009-02-19 00:00:00', freq='D'), Timestamp('2009-02-20 00:00:00', freq='D'), Timestamp('2009-02-21 00:00:00', freq='D'), Timestamp('2009-02-22 00:00:00', freq='D'), Timestamp('2009-02-23 00:00:00', freq='D'), Timestamp('2009-02-24 00:00:00', freq='D'), Timestamp('2009-02-25 00:00:00', freq='D'), Timestamp('2009-02-26 00:00:00', freq='D'), Timestamp('2009-02-27 00:00:00', freq='D'), Timestamp('2009-02-28 00:00:00', freq='D'), Timestamp('2009-03-01 00:00:00', freq='D'), Timestamp('2009-03-02 00:00:00', freq='D'), Timestamp('2009-03-03 00:00:00', freq='D'), Timestamp('2009-03-04 00:00:00', freq='D'), Timestamp('2009-03-05 00:00:00', freq='D'), Timestamp('2009-03-06 00:00:00', freq='D'), Timestamp('2009-03-07 00:00:00', freq='D'), Timestamp('2009-03-08 00:00:00', freq='D'), Timestamp('2009-03-09 00:00:00', freq='D'), Timestamp('2009-03-10 00:00:00', freq='D'), Timestamp('2009-03-11 00:00:00', freq='D'), Timestamp('2009-03-12 00:00:00', freq='D'), Timestamp('2009-03-13 00:00:00', freq='D'), Timestamp('2009-03-14 00:00:00', freq='D'), Timestamp('2009-03-15 00:00:00', freq='D'), Timestamp('2009-03-16 00:00:00', freq='D'), Timestamp('2009-03-17 00:00:00', freq='D'), Timestamp('2009-03-18 00:00:00', freq='D'), Timestamp('2009-03-19 00:00:00', freq='D'), Timestamp('2009-03-20 00:00:00', freq='D'), Timestamp('2009-03-21 00:00:00', freq='D'), Timestamp('2009-03-22 00:00:00', freq='D'), Timestamp('2009-03-23 00:00:00', freq='D'), Timestamp('2009-03-24 00:00:00', freq='D'), Timestamp('2009-03-25 00:00:00', freq='D'), Timestamp('2009-03-26 00:00:00', freq='D'), Timestamp('2009-03-27 00:00:00', freq='D'), Timestamp('2009-03-28 00:00:00', freq='D'), Timestamp('2009-03-29 00:00:00', freq='D'), Timestamp('2009-03-30 00:00:00', freq='D'), Timestamp('2009-03-31 00:00:00', freq='D'), Timestamp('2009-04-01 00:00:00', freq='D'), Timestamp('2009-04-02 00:00:00', freq='D'), Timestamp('2009-04-03 00:00:00', freq='D')]\n"
     ]
    }
   ],
   "source": [
    "x = resampled_df_list[0]\n",
    "x = x.index.tolist()\n",
    "print(x)"
   ],
   "metadata": {
    "collapsed": false,
    "pycharm": {
     "name": "#%%\n"
    }
   }
  },
  {
   "cell_type": "code",
   "execution_count": 21,
   "outputs": [
    {
     "data": {
      "text/plain": "            time_span  freq\nstart_time                 \n2009-02-02        347     1\n2009-02-03        374     1\n2009-02-04        843     1\n2009-02-05       1262     1\n2009-02-06       1196     1\n...               ...   ...\n2009-03-30          0     0\n2009-03-31        120     1\n2009-04-01       1446     1\n2009-04-02          0     0\n2009-04-03       1819     4\n\n[61 rows x 2 columns]",
      "text/html": "<div>\n<style scoped>\n    .dataframe tbody tr th:only-of-type {\n        vertical-align: middle;\n    }\n\n    .dataframe tbody tr th {\n        vertical-align: top;\n    }\n\n    .dataframe thead th {\n        text-align: right;\n    }\n</style>\n<table border=\"1\" class=\"dataframe\">\n  <thead>\n    <tr style=\"text-align: right;\">\n      <th></th>\n      <th>time_span</th>\n      <th>freq</th>\n    </tr>\n    <tr>\n      <th>start_time</th>\n      <th></th>\n      <th></th>\n    </tr>\n  </thead>\n  <tbody>\n    <tr>\n      <th>2009-02-02</th>\n      <td>347</td>\n      <td>1</td>\n    </tr>\n    <tr>\n      <th>2009-02-03</th>\n      <td>374</td>\n      <td>1</td>\n    </tr>\n    <tr>\n      <th>2009-02-04</th>\n      <td>843</td>\n      <td>1</td>\n    </tr>\n    <tr>\n      <th>2009-02-05</th>\n      <td>1262</td>\n      <td>1</td>\n    </tr>\n    <tr>\n      <th>2009-02-06</th>\n      <td>1196</td>\n      <td>1</td>\n    </tr>\n    <tr>\n      <th>...</th>\n      <td>...</td>\n      <td>...</td>\n    </tr>\n    <tr>\n      <th>2009-03-30</th>\n      <td>0</td>\n      <td>0</td>\n    </tr>\n    <tr>\n      <th>2009-03-31</th>\n      <td>120</td>\n      <td>1</td>\n    </tr>\n    <tr>\n      <th>2009-04-01</th>\n      <td>1446</td>\n      <td>1</td>\n    </tr>\n    <tr>\n      <th>2009-04-02</th>\n      <td>0</td>\n      <td>0</td>\n    </tr>\n    <tr>\n      <th>2009-04-03</th>\n      <td>1819</td>\n      <td>4</td>\n    </tr>\n  </tbody>\n</table>\n<p>61 rows × 2 columns</p>\n</div>"
     },
     "execution_count": 21,
     "metadata": {},
     "output_type": "execute_result"
    }
   ],
   "source": [
    "resampled_df_list[0]"
   ],
   "metadata": {
    "collapsed": false,
    "pycharm": {
     "name": "#%%\n"
    }
   }
  },
  {
   "cell_type": "code",
   "execution_count": 22,
   "outputs": [
    {
     "data": {
      "text/plain": "<Figure size 1152x576 with 2 Axes>",
      "image/png": "[encoded data removed]"
     },
     "metadata": {
      "needs_background": "light"
     },
     "output_type": "display_data"
    }
   ],
   "source": [
    "# 对得到的数据进行柱线混合图的绘制\n",
    "import matplotlib.pyplot as plt\n",
    "\n",
    "tmp_df = resampled_df_list[0]\n",
    "x = tmp_df.index.tolist()\n",
    "y1 = tmp_df[\"freq\"].tolist()\n",
    "y2 = tmp_df[\"time_span\"].tolist()\n",
    "\n",
    "fig, ax1 = plt.subplots(1,1, figsize=(16, 8))\n",
    "\n",
    "### 画柱状图看frequency\n",
    "ax1.bar(x, y1)\n",
    "ax1.xaxis_date()\n",
    "ax1.set_xlabel(\"date\")\n",
    "ax1.set_ylabel(\"freqency\")\n",
    "max_freq = max(y1)\n",
    "ax1.set_ylim(0, int(max_freq * 1.2))\n",
    "\n",
    "### 画折线图看duration\n",
    "ax2 = ax1.twinx()\n",
    "ax2.plot(x, y2, color = 'r')\n",
    "ax2.xaxis_date()\n",
    "max_duration = max(y2)\n",
    "ax2.set_ylim(0, int(max_duration * 1.2))\n",
    "ax2.set_ylabel(\"Duration\")\n",
    "plt.xticks(rotation=45)\n",
    "plt.savefig(\"images/freq_span/R1_bed_to_toilet.pdf\")\n"
   ],
   "metadata": {
    "collapsed": false,
    "pycharm": {
     "name": "#%%\n"
    }
   }
  },
  {
   "cell_type": "markdown",
   "source": [
    "## 1.7 对得到的数据进行kmeans聚类，看能不能区分出normal abnormal"
   ],
   "metadata": {
    "collapsed": false
   }
  },
  {
   "cell_type": "code",
   "execution_count": 30,
   "outputs": [],
   "source": [
    "from sklearn import metrics\n",
    "from sklearn.cluster import KMeans\n",
    "\n",
    "def KMeans_Classifier(X, k):\n",
    "\n",
    "    # the bulit-in function for K-means,\n",
    "    # where n_clusters is the number of clusters.\n",
    "    kmeans = KMeans(n_clusters=k)\n",
    "\n",
    "    # fit the algorithm with dataset\n",
    "    kmeans.fit(X)\n",
    "\n",
    "    # predict after fit\n",
    "    y_kmeans = kmeans.predict(X)\n",
    "\n",
    "        # Plot the data\n",
    "    plt.scatter(X[:,0], X[:,1])\n",
    "\n",
    "    # Plot the clusters\n",
    "    plt.scatter(kmeans.cluster_centers_[:, 0],\n",
    "                kmeans.cluster_centers_[:, 1],\n",
    "                s=200,                             # Set centroid size\n",
    "                c='red')                           # Set centroid color\n",
    "    plt.show()\n",
    "\n",
    "    # get the centers after fit\n",
    "    centers = kmeans.cluster_centers_\n",
    "\n",
    "    # report = metrics.classification_report(Y, y_kmeans)\n",
    "    # print(\"Kmeans classification report:\\n \" + report)\n",
    "    # score = metrics.accuracy_score(Y, y_kmeans)\n",
    "\n",
    "    return y_kmeans, centers"
   ],
   "metadata": {
    "collapsed": false,
    "pycharm": {
     "name": "#%%\n"
    }
   }
  },
  {
   "cell_type": "code",
   "execution_count": 31,
   "outputs": [
    {
     "data": {
      "text/plain": "array([[ 347,    1],\n       [ 374,    1],\n       [ 843,    1],\n       [1262,    1],\n       [1196,    1],\n       [   0,    0],\n       [   0,    0],\n       [ 182,    1],\n       [ 808,    1],\n       [   0,    0],\n       [   0,    0],\n       [   0,    0],\n       [   0,    0],\n       [   0,    0],\n       [ 398,    2],\n       [1357,    7],\n       [1837,    5],\n       [1606,    4],\n       [ 924,    1],\n       [   0,    0],\n       [   0,    0],\n       [  88,    1],\n       [ 201,    1],\n       [   0,    0],\n       [   0,    0],\n       [   0,    0],\n       [   0,    0],\n       [   0,    0],\n       [ 137,    1],\n       [ 123,    1],\n       [1832,    8],\n       [2383,    7],\n       [1457,    1],\n       [   0,    0],\n       [   0,    0],\n       [1343,    1],\n       [   0,    0],\n       [  68,    1],\n       [1256,    1],\n       [1059,    1],\n       [   0,    0],\n       [   0,    0],\n       [   0,    0],\n       [   0,    0],\n       [   0,    0],\n       [   0,    0],\n       [   0,    0],\n       [   0,    0],\n       [   0,    0],\n       [ 116,    1],\n       [   0,    0],\n       [1399,    1],\n       [  89,    1],\n       [  83,    1],\n       [   0,    0],\n       [   0,    0],\n       [   0,    0],\n       [ 120,    1],\n       [1446,    1],\n       [   0,    0],\n       [1819,    4]])"
     },
     "execution_count": 31,
     "metadata": {},
     "output_type": "execute_result"
    }
   ],
   "source": [
    "tmp_df.values"
   ],
   "metadata": {
    "collapsed": false,
    "pycharm": {
     "name": "#%%\n"
    }
   }
  },
  {
   "cell_type": "code",
   "execution_count": 32,
   "outputs": [
    {
     "data": {
      "text/plain": "<Figure size 792x648 with 1 Axes>",
      "image/png": "[encoded data removed]"
     },
     "metadata": {
      "needs_background": "light"
     },
     "output_type": "display_data"
    }
   ],
   "source": [
    "y_pred, _ = KMeans_Classifier(tmp_df.values, 2)"
   ],
   "metadata": {
    "collapsed": false,
    "pycharm": {
     "name": "#%%\n"
    }
   }
  },
  {
   "cell_type": "code",
   "execution_count": 33,
   "outputs": [
    {
     "data": {
      "text/plain": "            time_span  freq  y_pred\nstart_time                         \n2009-02-02        347     1       0\n2009-02-03        374     1       0\n2009-02-04        843     1       1\n2009-02-05       1262     1       1\n2009-02-06       1196     1       1\n...               ...   ...     ...\n2009-03-30          0     0       0\n2009-03-31        120     1       0\n2009-04-01       1446     1       1\n2009-04-02          0     0       0\n2009-04-03       1819     4       1\n\n[61 rows x 3 columns]",
      "text/html": "<div>\n<style scoped>\n    .dataframe tbody tr th:only-of-type {\n        vertical-align: middle;\n    }\n\n    .dataframe tbody tr th {\n        vertical-align: top;\n    }\n\n    .dataframe thead th {\n        text-align: right;\n    }\n</style>\n<table border=\"1\" class=\"dataframe\">\n  <thead>\n    <tr style=\"text-align: right;\">\n      <th></th>\n      <th>time_span</th>\n      <th>freq</th>\n      <th>y_pred</th>\n    </tr>\n    <tr>\n      <th>start_time</th>\n      <th></th>\n      <th></th>\n      <th></th>\n    </tr>\n  </thead>\n  <tbody>\n    <tr>\n      <th>2009-02-02</th>\n      <td>347</td>\n      <td>1</td>\n      <td>0</td>\n    </tr>\n    <tr>\n      <th>2009-02-03</th>\n      <td>374</td>\n      <td>1</td>\n      <td>0</td>\n    </tr>\n    <tr>\n      <th>2009-02-04</th>\n      <td>843</td>\n      <td>1</td>\n      <td>1</td>\n    </tr>\n    <tr>\n      <th>2009-02-05</th>\n      <td>1262</td>\n      <td>1</td>\n      <td>1</td>\n    </tr>\n    <tr>\n      <th>2009-02-06</th>\n      <td>1196</td>\n      <td>1</td>\n      <td>1</td>\n    </tr>\n    <tr>\n      <th>...</th>\n      <td>...</td>\n      <td>...</td>\n      <td>...</td>\n    </tr>\n    <tr>\n      <th>2009-03-30</th>\n      <td>0</td>\n      <td>0</td>\n      <td>0</td>\n    </tr>\n    <tr>\n      <th>2009-03-31</th>\n      <td>120</td>\n      <td>1</td>\n      <td>0</td>\n    </tr>\n    <tr>\n      <th>2009-04-01</th>\n      <td>1446</td>\n      <td>1</td>\n      <td>1</td>\n    </tr>\n    <tr>\n      <th>2009-04-02</th>\n      <td>0</td>\n      <td>0</td>\n      <td>0</td>\n    </tr>\n    <tr>\n      <th>2009-04-03</th>\n      <td>1819</td>\n      <td>4</td>\n      <td>1</td>\n    </tr>\n  </tbody>\n</table>\n<p>61 rows × 3 columns</p>\n</div>"
     },
     "execution_count": 33,
     "metadata": {},
     "output_type": "execute_result"
    }
   ],
   "source": [
    "tmp_df[\"y_pred\"] = y_pred\n",
    "tmp_df"
   ],
   "metadata": {
    "collapsed": false,
    "pycharm": {
     "name": "#%%\n"
    }
   }
  },
  {
   "cell_type": "code",
   "execution_count": null,
   "outputs": [],
   "source": [],
   "metadata": {
    "collapsed": false,
    "pycharm": {
     "name": "#%%\n"
    }
   }
  },
  {
   "cell_type": "code",
   "execution_count": null,
   "outputs": [],
   "source": [],
   "metadata": {
    "collapsed": false,
    "pycharm": {
     "name": "#%%\n"
    }
   }
  },
  {
   "cell_type": "code",
   "execution_count": 24,
   "outputs": [
    {
     "data": {
      "text/plain": "     activity           start_time             end_time time_span\n311  R1_Sleep  2009-02-02 22:10:55  2009-02-03 05:57:22     27987\n312  R1_Sleep  2009-02-03 22:25:44  2009-02-04 05:56:32     27048\n313  R1_Sleep  2009-02-04 22:55:00  2009-02-05 06:51:02     28562\n314  R1_Sleep  2009-02-05 23:11:49  2009-02-06 07:33:48     30119\n315  R1_Sleep  2009-02-06 23:52:40  2009-02-07 08:23:03     30623\n316  R1_Sleep  2009-02-09 20:45:44  2009-02-10 09:21:45     45361\n317  R1_Sleep  2009-02-16 22:41:08  2009-02-17 08:34:56     35628\n318  R1_Sleep  2009-02-17 22:41:57  2009-02-18 07:44:47     32570\n319  R1_Sleep  2009-02-18 22:46:24  2009-02-19 06:46:58     28834\n320  R1_Sleep  2009-02-19 20:01:03  2009-02-20 04:26:43     30340\n321  R1_Sleep  2009-02-21 00:38:40  2009-02-21 07:43:30     25490\n322  R1_Sleep  2009-02-23 23:14:05  2009-02-24 07:01:35     28050\n323  R1_Sleep  2009-02-24 21:37:57  2009-02-25 07:33:25     35728\n324  R1_Sleep  2009-02-25 21:41:35  2009-02-26 06:51:50     33015\n325  R1_Sleep  2009-02-26 23:35:16  2009-02-27 07:49:14     29638\n326  R1_Sleep  2009-02-28 00:48:01  2009-02-28 08:23:34     27333\n327  R1_Sleep  2009-03-02 20:37:55  2009-03-03 07:08:43     37848\n328  R1_Sleep  2009-03-03 22:02:34  2009-03-04 07:00:05     32251\n329  R1_Sleep  2009-03-05 00:11:57  2009-03-05 06:42:32     23435\n330  R1_Sleep  2009-03-05 21:14:31  2009-03-06 07:35:52     37281\n331  R1_Sleep  2009-03-06 22:56:25  2009-03-07 08:11:55     33330\n332  R1_Sleep  2009-03-09 23:15:41  2009-03-10 07:52:53     31032\n333  R1_Sleep  2009-03-10 22:21:49  2009-03-11 07:46:44     33895\n334  R1_Sleep  2009-03-11 22:11:45  2009-03-12 06:50:01     31096\n335  R1_Sleep  2009-03-12 22:22:37  2009-03-13 06:02:10     27573\n336  R1_Sleep  2009-03-23 21:42:36  2009-03-24 08:19:43     38227\n337  R1_Sleep  2009-03-24 22:12:11  2009-03-25 07:36:40     33869\n338  R1_Sleep  2009-03-25 21:45:28  2009-03-26 07:35:50     35422\n339  R1_Sleep  2009-03-26 22:26:02  2009-03-27 07:46:49     33647\n340  R1_Sleep  2009-03-28 01:34:06  2009-03-28 09:31:43     28657\n341  R1_Sleep  2009-03-30 22:09:08  2009-03-31 08:03:34     35666\n342  R1_Sleep  2009-03-31 22:42:22  2009-04-01 07:46:36     32654\n343  R1_Sleep  2009-04-01 21:58:32  2009-04-02 07:55:33     35821\n344  R1_Sleep  2009-04-02 22:38:09  2009-04-03 04:25:31     20842\n345  R1_Sleep  2009-04-03 23:47:31  2009-04-04 07:08:46     26475",
      "text/html": "<div>\n<style scoped>\n    .dataframe tbody tr th:only-of-type {\n        vertical-align: middle;\n    }\n\n    .dataframe tbody tr th {\n        vertical-align: top;\n    }\n\n    .dataframe thead th {\n        text-align: right;\n    }\n</style>\n<table border=\"1\" class=\"dataframe\">\n  <thead>\n    <tr style=\"text-align: right;\">\n      <th></th>\n      <th>activity</th>\n      <th>start_time</th>\n      <th>end_time</th>\n      <th>time_span</th>\n    </tr>\n  </thead>\n  <tbody>\n    <tr>\n      <th>311</th>\n      <td>R1_Sleep</td>\n      <td>2009-02-02 22:10:55</td>\n      <td>2009-02-03 05:57:22</td>\n      <td>27987</td>\n    </tr>\n    <tr>\n      <th>312</th>\n      <td>R1_Sleep</td>\n      <td>2009-02-03 22:25:44</td>\n      <td>2009-02-04 05:56:32</td>\n      <td>27048</td>\n    </tr>\n    <tr>\n      <th>313</th>\n      <td>R1_Sleep</td>\n      <td>2009-02-04 22:55:00</td>\n      <td>2009-02-05 06:51:02</td>\n      <td>28562</td>\n    </tr>\n    <tr>\n      <th>314</th>\n      <td>R1_Sleep</td>\n      <td>2009-02-05 23:11:49</td>\n      <td>2009-02-06 07:33:48</td>\n      <td>30119</td>\n    </tr>\n    <tr>\n      <th>315</th>\n      <td>R1_Sleep</td>\n      <td>2009-02-06 23:52:40</td>\n      <td>2009-02-07 08:23:03</td>\n      <td>30623</td>\n    </tr>\n    <tr>\n      <th>316</th>\n      <td>R1_Sleep</td>\n      <td>2009-02-09 20:45:44</td>\n      <td>2009-02-10 09:21:45</td>\n      <td>45361</td>\n    </tr>\n    <tr>\n      <th>317</th>\n      <td>R1_Sleep</td>\n      <td>2009-02-16 22:41:08</td>\n      <td>2009-02-17 08:34:56</td>\n      <td>35628</td>\n    </tr>\n    <tr>\n      <th>318</th>\n      <td>R1_Sleep</td>\n      <td>2009-02-17 22:41:57</td>\n      <td>2009-02-18 07:44:47</td>\n      <td>32570</td>\n    </tr>\n    <tr>\n      <th>319</th>\n      <td>R1_Sleep</td>\n      <td>2009-02-18 22:46:24</td>\n      <td>2009-02-19 06:46:58</td>\n      <td>28834</td>\n    </tr>\n    <tr>\n      <th>320</th>\n      <td>R1_Sleep</td>\n      <td>2009-02-19 20:01:03</td>\n      <td>2009-02-20 04:26:43</td>\n      <td>30340</td>\n    </tr>\n    <tr>\n      <th>321</th>\n      <td>R1_Sleep</td>\n      <td>2009-02-21 00:38:40</td>\n      <td>2009-02-21 07:43:30</td>\n      <td>25490</td>\n    </tr>\n    <tr>\n      <th>322</th>\n      <td>R1_Sleep</td>\n      <td>2009-02-23 23:14:05</td>\n      <td>2009-02-24 07:01:35</td>\n      <td>28050</td>\n    </tr>\n    <tr>\n      <th>323</th>\n      <td>R1_Sleep</td>\n      <td>2009-02-24 21:37:57</td>\n      <td>2009-02-25 07:33:25</td>\n      <td>35728</td>\n    </tr>\n    <tr>\n      <th>324</th>\n      <td>R1_Sleep</td>\n      <td>2009-02-25 21:41:35</td>\n      <td>2009-02-26 06:51:50</td>\n      <td>33015</td>\n    </tr>\n    <tr>\n      <th>325</th>\n      <td>R1_Sleep</td>\n      <td>2009-02-26 23:35:16</td>\n      <td>2009-02-27 07:49:14</td>\n      <td>29638</td>\n    </tr>\n    <tr>\n      <th>326</th>\n      <td>R1_Sleep</td>\n      <td>2009-02-28 00:48:01</td>\n      <td>2009-02-28 08:23:34</td>\n      <td>27333</td>\n    </tr>\n    <tr>\n      <th>327</th>\n      <td>R1_Sleep</td>\n      <td>2009-03-02 20:37:55</td>\n      <td>2009-03-03 07:08:43</td>\n      <td>37848</td>\n    </tr>\n    <tr>\n      <th>328</th>\n      <td>R1_Sleep</td>\n      <td>2009-03-03 22:02:34</td>\n      <td>2009-03-04 07:00:05</td>\n      <td>32251</td>\n    </tr>\n    <tr>\n      <th>329</th>\n      <td>R1_Sleep</td>\n      <td>2009-03-05 00:11:57</td>\n      <td>2009-03-05 06:42:32</td>\n      <td>23435</td>\n    </tr>\n    <tr>\n      <th>330</th>\n      <td>R1_Sleep</td>\n      <td>2009-03-05 21:14:31</td>\n      <td>2009-03-06 07:35:52</td>\n      <td>37281</td>\n    </tr>\n    <tr>\n      <th>331</th>\n      <td>R1_Sleep</td>\n      <td>2009-03-06 22:56:25</td>\n      <td>2009-03-07 08:11:55</td>\n      <td>33330</td>\n    </tr>\n    <tr>\n      <th>332</th>\n      <td>R1_Sleep</td>\n      <td>2009-03-09 23:15:41</td>\n      <td>2009-03-10 07:52:53</td>\n      <td>31032</td>\n    </tr>\n    <tr>\n      <th>333</th>\n      <td>R1_Sleep</td>\n      <td>2009-03-10 22:21:49</td>\n      <td>2009-03-11 07:46:44</td>\n      <td>33895</td>\n    </tr>\n    <tr>\n      <th>334</th>\n      <td>R1_Sleep</td>\n      <td>2009-03-11 22:11:45</td>\n      <td>2009-03-12 06:50:01</td>\n      <td>31096</td>\n    </tr>\n    <tr>\n      <th>335</th>\n      <td>R1_Sleep</td>\n      <td>2009-03-12 22:22:37</td>\n      <td>2009-03-13 06:02:10</td>\n      <td>27573</td>\n    </tr>\n    <tr>\n      <th>336</th>\n      <td>R1_Sleep</td>\n      <td>2009-03-23 21:42:36</td>\n      <td>2009-03-24 08:19:43</td>\n      <td>38227</td>\n    </tr>\n    <tr>\n      <th>337</th>\n      <td>R1_Sleep</td>\n      <td>2009-03-24 22:12:11</td>\n      <td>2009-03-25 07:36:40</td>\n      <td>33869</td>\n    </tr>\n    <tr>\n      <th>338</th>\n      <td>R1_Sleep</td>\n      <td>2009-03-25 21:45:28</td>\n      <td>2009-03-26 07:35:50</td>\n      <td>35422</td>\n    </tr>\n    <tr>\n      <th>339</th>\n      <td>R1_Sleep</td>\n      <td>2009-03-26 22:26:02</td>\n      <td>2009-03-27 07:46:49</td>\n      <td>33647</td>\n    </tr>\n    <tr>\n      <th>340</th>\n      <td>R1_Sleep</td>\n      <td>2009-03-28 01:34:06</td>\n      <td>2009-03-28 09:31:43</td>\n      <td>28657</td>\n    </tr>\n    <tr>\n      <th>341</th>\n      <td>R1_Sleep</td>\n      <td>2009-03-30 22:09:08</td>\n      <td>2009-03-31 08:03:34</td>\n      <td>35666</td>\n    </tr>\n    <tr>\n      <th>342</th>\n      <td>R1_Sleep</td>\n      <td>2009-03-31 22:42:22</td>\n      <td>2009-04-01 07:46:36</td>\n      <td>32654</td>\n    </tr>\n    <tr>\n      <th>343</th>\n      <td>R1_Sleep</td>\n      <td>2009-04-01 21:58:32</td>\n      <td>2009-04-02 07:55:33</td>\n      <td>35821</td>\n    </tr>\n    <tr>\n      <th>344</th>\n      <td>R1_Sleep</td>\n      <td>2009-04-02 22:38:09</td>\n      <td>2009-04-03 04:25:31</td>\n      <td>20842</td>\n    </tr>\n    <tr>\n      <th>345</th>\n      <td>R1_Sleep</td>\n      <td>2009-04-03 23:47:31</td>\n      <td>2009-04-04 07:08:46</td>\n      <td>26475</td>\n    </tr>\n  </tbody>\n</table>\n</div>"
     },
     "execution_count": 24,
     "metadata": {},
     "output_type": "execute_result"
    }
   ],
   "source": [
    "new_df[new_df[\"activity\"] == \"R1_Sleep\"]"
   ],
   "metadata": {
    "collapsed": false,
    "pycharm": {
     "name": "#%%\n"
    }
   }
  },
  {
   "cell_type": "code",
   "execution_count": 25,
   "outputs": [],
   "source": [
    "import os\n",
    "import matplotlib.pyplot as plt\n",
    "import seaborn as sns\n",
    "import statsmodels.api as sm\n",
    "def plot_trend_seasonality_noise(df, attr_name, file_name):\n",
    "    \"\"\"\n",
    "    Plot the trend, seasonality and noise of an attribute in a DF.\n",
    "    :param df:\n",
    "        Data frame.\n",
    "    :param attr_name:\n",
    "        Name of the attribute.\n",
    "    :param file_name:\n",
    "        File name to save.\n",
    "    \"\"\"\n",
    "    plt.rcParams['figure.figsize'] = 11,9\n",
    "    plt.rcParams['lines.linewidth']=0.5\n",
    "    plt.rcParams['lines.markersize']=1\n",
    "    decomposed = sm.tsa.seasonal_decompose(df[attr_name],period=7)\n",
    "    figure = decomposed.plot()\n",
    "\n",
    "    download_dir=\"images/\"\n",
    "    if not os.path.exists(download_dir):\n",
    "        os.makedirs(download_dir)\n",
    "    path = os.path.join(download_dir, file_name)\n",
    "    if not os.path.exists(path):\n",
    "        plt.savefig(path)\n",
    "        print(\"The figure is saved with \", str(path))\n",
    "        return\n",
    "    print(\"The figure is already saved as \", str(path))\n",
    "    return"
   ],
   "metadata": {
    "collapsed": false,
    "pycharm": {
     "name": "#%%\n"
    }
   }
  },
  {
   "cell_type": "code",
   "execution_count": 26,
   "outputs": [
    {
     "name": "stdout",
     "output_type": "stream",
     "text": [
      "The figure is already saved as  images/sleep_time_season.pdf\n"
     ]
    },
    {
     "data": {
      "text/plain": "<Figure size 792x648 with 4 Axes>",
      "image/png": "[encoded data removed]"
     },
     "metadata": {
      "needs_background": "light"
     },
     "output_type": "display_data"
    }
   ],
   "source": [
    "plot_trend_seasonality_noise(new_df[new_df[\"activity\"] == \"R1_Sleep\"], \"time_span\", \"sleep_time_season.pdf\")"
   ],
   "metadata": {
    "collapsed": false,
    "pycharm": {
     "name": "#%%\n"
    }
   }
  },
  {
   "cell_type": "code",
   "execution_count": 26,
   "outputs": [],
   "source": [],
   "metadata": {
    "collapsed": false,
    "pycharm": {
     "name": "#%%\n"
    }
   }
  }
 ],
 "metadata": {
  "kernelspec": {
   "display_name": "Python 3",
   "language": "python",
   "name": "python3"
  },
  "language_info": {
   "codemirror_mode": {
    "name": "ipython",
    "version": 2
   },
   "file_extension": ".py",
   "mimetype": "text/x-python",
   "name": "python",
   "nbconvert_exporter": "python",
   "pygments_lexer": "ipython2",
   "version": "2.7.6"
  }
 },
 "nbformat": 4,
 "nbformat_minor": 0
}