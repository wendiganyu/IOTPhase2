{
 "cells": [
  {
   "cell_type": "markdown",
   "source": [
    "# 1. Data import and processing"
   ],
   "metadata": {
    "collapsed": false
   }
  },
  {
   "cell_type": "markdown",
   "source": [
    "## 1.1 引入数据集，生成dataframe"
   ],
   "metadata": {
    "collapsed": false
   }
  },
  {
   "cell_type": "code",
   "execution_count": 1,
   "outputs": [],
   "source": [
    "import pandas as pd\n",
    "import numpy as np\n",
    "\n",
    "data_path ='./dataset_new.csv'\n",
    "columns_name = ('date', 'time', 'sensor_id', 'value', 'activity', 'status') # status是begin或end\n",
    "df = pd.read_csv(data_path, names = columns_name)"
   ],
   "metadata": {
    "collapsed": false,
    "pycharm": {
     "name": "#%%\n"
    }
   }
  },
  {
   "cell_type": "code",
   "execution_count": 2,
   "outputs": [
    {
     "data": {
      "text/plain": "date         object\ntime         object\nsensor_id    object\nvalue        object\nactivity     object\nstatus       object\ndtype: object"
     },
     "execution_count": 2,
     "metadata": {},
     "output_type": "execute_result"
    }
   ],
   "source": [
    "df.dtypes"
   ],
   "metadata": {
    "collapsed": false,
    "pycharm": {
     "name": "#%%\n"
    }
   }
  },
  {
   "cell_type": "code",
   "execution_count": 3,
   "outputs": [
    {
     "data": {
      "text/plain": "'\\n#一些测试\\ndf.iloc[:,:4]\\ndf_first4Attr = df.iloc[:,:4]\\ndf[df_first4Attr.isnull().values==True]\\n'"
     },
     "execution_count": 3,
     "metadata": {},
     "output_type": "execute_result"
    }
   ],
   "source": [
    "'''\n",
    "#一些测试\n",
    "df.iloc[:,:4]\n",
    "df_first4Attr = df.iloc[:,:4]\n",
    "df[df_first4Attr.isnull().values==True]\n",
    "'''"
   ],
   "metadata": {
    "collapsed": false,
    "pycharm": {
     "name": "#%%\n"
    }
   }
  },
  {
   "cell_type": "code",
   "execution_count": 4,
   "outputs": [
    {
     "data": {
      "text/plain": "array(['M35', 'AD1-A', 'M34', 'M32', 'M33', 'M36', 'M30', 'M29', 'M37',\n       'M38', 'M39', 'M41', 'M40', 'M49', 'M46', 'M50', 'M44', 'M47',\n       'M48', 'M43', 'M28', 'M42', 'M27', 'M26', 'M25', 'M24', 'M21',\n       'M19', 'M18', 'M17', 'M16', 'M15', 'D09', 'M14', 'M13', 'M08',\n       'M07', 'M02', 'M45', 'M51', 'D08', 'AD1-B', 'AD1-C', 'D10', 'I03',\n       'M06', 'M09', 'M10', 'M01', 'D12', 'L04', 'M23', 'M31', 'D15',\n       'D07', 'D14', 'M11', 'M05', 'M03', 'M04', 'M22', 'M12', 'M20',\n       'L11', 'D05', 'D03', 'L10', 'L06', 'L13', 'L12', 'L09'],\n      dtype=object)"
     },
     "execution_count": 4,
     "metadata": {},
     "output_type": "execute_result"
    }
   ],
   "source": [
    "df['sensor_id'].unique()"
   ],
   "metadata": {
    "collapsed": false,
    "pycharm": {
     "name": "#%%\n"
    }
   }
  },
  {
   "cell_type": "markdown",
   "source": [
    "## 1.2 判断缺失值"
   ],
   "metadata": {
    "collapsed": false
   }
  },
  {
   "cell_type": "code",
   "execution_count": 5,
   "outputs": [
    {
     "data": {
      "text/plain": "              date     time sensor_id    value          activity status\n0       02/02/2009  7:15:17       M35       ON  R1_Bed_to_Toilet  begin\n1       02/02/2009  7:15:21     AD1-A  2.82231               NaN    NaN\n2       02/02/2009  7:15:23       M35      OFF               NaN    NaN\n3       02/02/2009  7:15:23       M35       ON               NaN    NaN\n4       02/02/2009  7:15:28     AD1-A  2.79926               NaN    NaN\n...            ...      ...       ...      ...               ...    ...\n138625  04/04/2009  7:26:16       M48      OFF               NaN    NaN\n138626  04/04/2009  7:27:47       M48       ON               NaN    NaN\n138627  04/04/2009  7:27:50       M47       ON               NaN    NaN\n138628  04/04/2009  7:27:59       M47      OFF               NaN    NaN\n138629  04/04/2009  7:28:01       M48      OFF          R2_Sleep    end\n\n[138630 rows x 6 columns]",
      "text/html": "<div>\n<style scoped>\n    .dataframe tbody tr th:only-of-type {\n        vertical-align: middle;\n    }\n\n    .dataframe tbody tr th {\n        vertical-align: top;\n    }\n\n    .dataframe thead th {\n        text-align: right;\n    }\n</style>\n<table border=\"1\" class=\"dataframe\">\n  <thead>\n    <tr style=\"text-align: right;\">\n      <th></th>\n      <th>date</th>\n      <th>time</th>\n      <th>sensor_id</th>\n      <th>value</th>\n      <th>activity</th>\n      <th>status</th>\n    </tr>\n  </thead>\n  <tbody>\n    <tr>\n      <th>0</th>\n      <td>02/02/2009</td>\n      <td>7:15:17</td>\n      <td>M35</td>\n      <td>ON</td>\n      <td>R1_Bed_to_Toilet</td>\n      <td>begin</td>\n    </tr>\n    <tr>\n      <th>1</th>\n      <td>02/02/2009</td>\n      <td>7:15:21</td>\n      <td>AD1-A</td>\n      <td>2.82231</td>\n      <td>NaN</td>\n      <td>NaN</td>\n    </tr>\n    <tr>\n      <th>2</th>\n      <td>02/02/2009</td>\n      <td>7:15:23</td>\n      <td>M35</td>\n      <td>OFF</td>\n      <td>NaN</td>\n      <td>NaN</td>\n    </tr>\n    <tr>\n      <th>3</th>\n      <td>02/02/2009</td>\n      <td>7:15:23</td>\n      <td>M35</td>\n      <td>ON</td>\n      <td>NaN</td>\n      <td>NaN</td>\n    </tr>\n    <tr>\n      <th>4</th>\n      <td>02/02/2009</td>\n      <td>7:15:28</td>\n      <td>AD1-A</td>\n      <td>2.79926</td>\n      <td>NaN</td>\n      <td>NaN</td>\n    </tr>\n    <tr>\n      <th>...</th>\n      <td>...</td>\n      <td>...</td>\n      <td>...</td>\n      <td>...</td>\n      <td>...</td>\n      <td>...</td>\n    </tr>\n    <tr>\n      <th>138625</th>\n      <td>04/04/2009</td>\n      <td>7:26:16</td>\n      <td>M48</td>\n      <td>OFF</td>\n      <td>NaN</td>\n      <td>NaN</td>\n    </tr>\n    <tr>\n      <th>138626</th>\n      <td>04/04/2009</td>\n      <td>7:27:47</td>\n      <td>M48</td>\n      <td>ON</td>\n      <td>NaN</td>\n      <td>NaN</td>\n    </tr>\n    <tr>\n      <th>138627</th>\n      <td>04/04/2009</td>\n      <td>7:27:50</td>\n      <td>M47</td>\n      <td>ON</td>\n      <td>NaN</td>\n      <td>NaN</td>\n    </tr>\n    <tr>\n      <th>138628</th>\n      <td>04/04/2009</td>\n      <td>7:27:59</td>\n      <td>M47</td>\n      <td>OFF</td>\n      <td>NaN</td>\n      <td>NaN</td>\n    </tr>\n    <tr>\n      <th>138629</th>\n      <td>04/04/2009</td>\n      <td>7:28:01</td>\n      <td>M48</td>\n      <td>OFF</td>\n      <td>R2_Sleep</td>\n      <td>end</td>\n    </tr>\n  </tbody>\n</table>\n<p>138630 rows × 6 columns</p>\n</div>"
     },
     "execution_count": 5,
     "metadata": {},
     "output_type": "execute_result"
    }
   ],
   "source": [
    "df.dropna(axis=0, how='all', inplace=True) ## 删去了两行空白行\n",
    "df"
   ],
   "metadata": {
    "collapsed": false,
    "pycharm": {
     "name": "#%%\n"
    }
   }
  },
  {
   "cell_type": "markdown",
   "source": [
    "## 1.3 合并date和time"
   ],
   "metadata": {
    "collapsed": false
   }
  },
  {
   "cell_type": "code",
   "execution_count": 6,
   "outputs": [],
   "source": [
    "# df.drop(df.tail(1).index, inplace = True) #从尾部去掉 1 行，这一行是异常行"
   ],
   "metadata": {
    "collapsed": false,
    "pycharm": {
     "name": "#%%\n"
    }
   }
  },
  {
   "cell_type": "code",
   "execution_count": 7,
   "outputs": [],
   "source": [
    "# df[\"datetime\"] = pd.to_datetime(df[\"date\"] + \" \"+ df[\"time\"], format='%d/%m/%Y %H:%M:%S')\n",
    "df[\"datetime\"] = pd.to_datetime(df[\"date\"] + \" \"+ df[\"time\"], dayfirst=True)\n",
    "\n",
    "# df[\"datetime\"]\n"
   ],
   "metadata": {
    "collapsed": false,
    "pycharm": {
     "name": "#%%\n"
    }
   }
  },
  {
   "cell_type": "code",
   "execution_count": 8,
   "outputs": [
    {
     "data": {
      "text/plain": "              date     time sensor_id    value          activity status  \\\n0       02/02/2009  7:15:17       M35       ON  R1_Bed_to_Toilet  begin   \n1       02/02/2009  7:15:21     AD1-A  2.82231               NaN    NaN   \n2       02/02/2009  7:15:23       M35      OFF               NaN    NaN   \n3       02/02/2009  7:15:23       M35       ON               NaN    NaN   \n4       02/02/2009  7:15:28     AD1-A  2.79926               NaN    NaN   \n...            ...      ...       ...      ...               ...    ...   \n138625  04/04/2009  7:26:16       M48      OFF               NaN    NaN   \n138626  04/04/2009  7:27:47       M48       ON               NaN    NaN   \n138627  04/04/2009  7:27:50       M47       ON               NaN    NaN   \n138628  04/04/2009  7:27:59       M47      OFF               NaN    NaN   \n138629  04/04/2009  7:28:01       M48      OFF          R2_Sleep    end   \n\n                  datetime  \n0      2009-02-02 07:15:17  \n1      2009-02-02 07:15:21  \n2      2009-02-02 07:15:23  \n3      2009-02-02 07:15:23  \n4      2009-02-02 07:15:28  \n...                    ...  \n138625 2009-04-04 07:26:16  \n138626 2009-04-04 07:27:47  \n138627 2009-04-04 07:27:50  \n138628 2009-04-04 07:27:59  \n138629 2009-04-04 07:28:01  \n\n[138630 rows x 7 columns]",
      "text/html": "<div>\n<style scoped>\n    .dataframe tbody tr th:only-of-type {\n        vertical-align: middle;\n    }\n\n    .dataframe tbody tr th {\n        vertical-align: top;\n    }\n\n    .dataframe thead th {\n        text-align: right;\n    }\n</style>\n<table border=\"1\" class=\"dataframe\">\n  <thead>\n    <tr style=\"text-align: right;\">\n      <th></th>\n      <th>date</th>\n      <th>time</th>\n      <th>sensor_id</th>\n      <th>value</th>\n      <th>activity</th>\n      <th>status</th>\n      <th>datetime</th>\n    </tr>\n  </thead>\n  <tbody>\n    <tr>\n      <th>0</th>\n      <td>02/02/2009</td>\n      <td>7:15:17</td>\n      <td>M35</td>\n      <td>ON</td>\n      <td>R1_Bed_to_Toilet</td>\n      <td>begin</td>\n      <td>2009-02-02 07:15:17</td>\n    </tr>\n    <tr>\n      <th>1</th>\n      <td>02/02/2009</td>\n      <td>7:15:21</td>\n      <td>AD1-A</td>\n      <td>2.82231</td>\n      <td>NaN</td>\n      <td>NaN</td>\n      <td>2009-02-02 07:15:21</td>\n    </tr>\n    <tr>\n      <th>2</th>\n      <td>02/02/2009</td>\n      <td>7:15:23</td>\n      <td>M35</td>\n      <td>OFF</td>\n      <td>NaN</td>\n      <td>NaN</td>\n      <td>2009-02-02 07:15:23</td>\n    </tr>\n    <tr>\n      <th>3</th>\n      <td>02/02/2009</td>\n      <td>7:15:23</td>\n      <td>M35</td>\n      <td>ON</td>\n      <td>NaN</td>\n      <td>NaN</td>\n      <td>2009-02-02 07:15:23</td>\n    </tr>\n    <tr>\n      <th>4</th>\n      <td>02/02/2009</td>\n      <td>7:15:28</td>\n      <td>AD1-A</td>\n      <td>2.79926</td>\n      <td>NaN</td>\n      <td>NaN</td>\n      <td>2009-02-02 07:15:28</td>\n    </tr>\n    <tr>\n      <th>...</th>\n      <td>...</td>\n      <td>...</td>\n      <td>...</td>\n      <td>...</td>\n      <td>...</td>\n      <td>...</td>\n      <td>...</td>\n    </tr>\n    <tr>\n      <th>138625</th>\n      <td>04/04/2009</td>\n      <td>7:26:16</td>\n      <td>M48</td>\n      <td>OFF</td>\n      <td>NaN</td>\n      <td>NaN</td>\n      <td>2009-04-04 07:26:16</td>\n    </tr>\n    <tr>\n      <th>138626</th>\n      <td>04/04/2009</td>\n      <td>7:27:47</td>\n      <td>M48</td>\n      <td>ON</td>\n      <td>NaN</td>\n      <td>NaN</td>\n      <td>2009-04-04 07:27:47</td>\n    </tr>\n    <tr>\n      <th>138627</th>\n      <td>04/04/2009</td>\n      <td>7:27:50</td>\n      <td>M47</td>\n      <td>ON</td>\n      <td>NaN</td>\n      <td>NaN</td>\n      <td>2009-04-04 07:27:50</td>\n    </tr>\n    <tr>\n      <th>138628</th>\n      <td>04/04/2009</td>\n      <td>7:27:59</td>\n      <td>M47</td>\n      <td>OFF</td>\n      <td>NaN</td>\n      <td>NaN</td>\n      <td>2009-04-04 07:27:59</td>\n    </tr>\n    <tr>\n      <th>138629</th>\n      <td>04/04/2009</td>\n      <td>7:28:01</td>\n      <td>M48</td>\n      <td>OFF</td>\n      <td>R2_Sleep</td>\n      <td>end</td>\n      <td>2009-04-04 07:28:01</td>\n    </tr>\n  </tbody>\n</table>\n<p>138630 rows × 7 columns</p>\n</div>"
     },
     "execution_count": 8,
     "metadata": {},
     "output_type": "execute_result"
    }
   ],
   "source": [
    "# df = df.set_index(\"datetime\") #千万不能设datetime为index! 因为datetime有重复值！！！妈的，debug半个多小时。\n",
    "df"
   ],
   "metadata": {
    "collapsed": false,
    "pycharm": {
     "name": "#%%\n"
    }
   }
  },
  {
   "cell_type": "code",
   "execution_count": 9,
   "outputs": [],
   "source": [
    "# # 检查时间都是前一个<=后一个\n",
    "# for a, b in zip(df.datetime, df.datetime[1:]):\n",
    "#     if(a>b):\n",
    "#         print(a)\n",
    "#\n",
    "# # all(a <= b for a, b in zip(df.index, df.index[1:]))"
   ],
   "metadata": {
    "collapsed": false,
    "pycharm": {
     "name": "#%%\n"
    }
   }
  },
  {
   "cell_type": "markdown",
   "source": [
    "## 1.4 检查R1以及公共的各种行为不存在嵌套"
   ],
   "metadata": {
    "collapsed": false
   }
  },
  {
   "cell_type": "code",
   "execution_count": 20,
   "outputs": [
    {
     "data": {
      "text/plain": "array(['R1_Bed_to_Toilet', nan, 'R1_Personal_Hygiene', 'R2_Bed_to_Toilet',\n       'Meal_Preparation', 'R2_Personal_Hygiene', 'Watch_TV', 'R1_Work',\n       'R2_Work', 'R1_Sleep', 'R2_Sleep', 'Wash_Bathtub', 'Clean',\n       'Study'], dtype=object)"
     },
     "execution_count": 20,
     "metadata": {},
     "output_type": "execute_result"
    }
   ],
   "source": [
    "df.activity.unique()"
   ],
   "metadata": {
    "collapsed": false,
    "pycharm": {
     "name": "#%%\n"
    }
   }
  },
  {
   "cell_type": "code",
   "execution_count": 23,
   "outputs": [
    {
     "name": "stdout",
     "output_type": "stream",
     "text": [
      "Alarm !\n",
      "Alarm !\n",
      "Alarm !\n",
      "Alarm !\n",
      "Alarm !\n",
      "Alarm !\n",
      "Alarm !\n",
      "Alarm !\n",
      "Alarm !\n",
      "Alarm !\n",
      "Alarm !\n",
      "Alarm !\n",
      "Alarm !\n",
      "Alarm !\n",
      "Alarm !\n",
      "Alarm !\n",
      "Alarm !\n",
      "Alarm !\n",
      "Alarm !\n",
      "Alarm !\n",
      "Alarm !\n",
      "Alarm !\n",
      "Alarm !\n",
      "Alarm !\n",
      "Alarm !\n",
      "Alarm !\n",
      "Alarm !\n",
      "Alarm !\n",
      "Alarm !\n",
      "Alarm !\n",
      "Alarm !\n",
      "Alarm !\n",
      "Alarm !\n",
      "Alarm !\n",
      "Alarm !\n",
      "Alarm !\n",
      "Alarm !\n",
      "Alarm !\n",
      "Alarm !\n",
      "Alarm !\n",
      "Alarm !\n",
      "Alarm !\n",
      "Alarm !\n",
      "Alarm !\n",
      "Alarm !\n",
      "Alarm !\n",
      "Alarm !\n",
      "Alarm !\n",
      "Alarm !\n",
      "Alarm !\n",
      "Alarm !\n",
      "Alarm !\n",
      "Alarm !\n",
      "Alarm !\n",
      "Alarm !\n",
      "Alarm !\n",
      "Alarm !\n",
      "Alarm !\n",
      "Alarm !\n",
      "Alarm !\n",
      "Alarm !\n",
      "Alarm !\n",
      "Alarm !\n",
      "Alarm !\n",
      "Alarm !\n",
      "Alarm !\n",
      "Alarm !\n",
      "Alarm !\n",
      "Alarm !\n",
      "Alarm !\n",
      "Alarm !\n",
      "Alarm !\n",
      "Alarm !\n",
      "Alarm !\n",
      "Alarm !\n",
      "Alarm !\n",
      "Alarm !\n",
      "Alarm !\n",
      "Alarm !\n",
      "Alarm !\n",
      "Alarm !\n",
      "Alarm !\n",
      "The final stack value: []\n"
     ]
    }
   ],
   "source": [
    "R1_activities = [\"R1_Bed_to_Toilet\", \"R1_Personal_Hygiene\", \"Meal_Preparation\", \"Watch_TV\", \"R1_Work\", \"R1_Sleep\", \"Wash_Bathtub\", \"Clean\", \"Study\"]\n",
    "def check_if_R1_sleep_nesting(df):\n",
    "    stack = []\n",
    "    # cnt = 0\n",
    "    for index,row in df.iterrows():\n",
    "        if (df.loc[index, 'activity'] in R1_activities):\n",
    "            if row.status == 'begin':\n",
    "                stack.append(row.activity)\n",
    "                # print(stack)\n",
    "            elif row.status == 'end':\n",
    "                stack.pop()\n",
    "                # print(stack)\n",
    "            if(len(stack) > 1):\n",
    "                print(\"Alarm !\")\n",
    "\n",
    "        # # 每100次打印一次栈的状态\n",
    "        # cnt += 1\n",
    "        # if cnt % 100 == 0:\n",
    "        #     print(stack)\n",
    "    print(\"The final stack value:\", stack)\n",
    "\n",
    "check_if_R1_sleep_nesting(df)\n",
    "\n",
    "# 发现有一些R1的个人行为和公共行为是存在嵌套的，不过不影响后续的提取。\n",
    "# R1_sleep 是不存在嵌套的"
   ],
   "metadata": {
    "collapsed": false,
    "pycharm": {
     "name": "#%%\n"
    }
   }
  },
  {
   "cell_type": "markdown",
   "source": [
    "## 1.5 通过原有的dateframe 生成新的dataframe包含：activity, start_time, end_time, time_span"
   ],
   "metadata": {
    "collapsed": false
   }
  },
  {
   "cell_type": "code",
   "execution_count": 27,
   "outputs": [],
   "source": [
    "def create_transformed_df(old_df, R1_activities):\n",
    "    new_df = pd.DataFrame(columns=['activity', 'start_time', 'end_time', 'time_span'])\n",
    "\n",
    "    # cnt = 0\n",
    "    for activity_name in R1_activities:\n",
    "        # 初始化\n",
    "        start_time = datetime.time(0, 0, 0)\n",
    "        end_time = datetime.time(0,0,0)\n",
    "        time_span = 0\n",
    "        for index,row in old_df.iterrows():\n",
    "            if row.status == 'begin':\n",
    "                if row.activity == activity_name:\n",
    "                    print(activity_name)\n",
    "                    # stack.append(row.activity)\n",
    "                    start_time = row.datetime\n",
    "            elif row.status == 'end':\n",
    "                if row.activity == activity_name:\n",
    "                    # 向new_df增加数据\n",
    "                    # del(stack[stack.index(row.activity)])\n",
    "                    end_time = row.datetime\n",
    "                    time_span = (end_time - start_time).seconds\n",
    "                    tmp_df = pd.DataFrame({'activity': [activity_name],\n",
    "                    'start_time' : [start_time],\n",
    "                    'end_time' : [end_time],\n",
    "                    'time_span' : [time_span]})\n",
    "\n",
    "                    new_df = pd.concat([new_df, tmp_df], ignore_index = True, axis = 0)\n",
    "\n",
    "\n",
    "    return new_df\n",
    "\n"
   ],
   "metadata": {
    "collapsed": false,
    "pycharm": {
     "name": "#%%\n"
    }
   }
  },
  {
   "cell_type": "code",
   "execution_count": 28,
   "outputs": [
    {
     "name": "stdout",
     "output_type": "stream",
     "text": [
      "R1_Bed_to_Toilet\n",
      "R1_Bed_to_Toilet\n",
      "R1_Bed_to_Toilet\n",
      "R1_Bed_to_Toilet\n",
      "R1_Bed_to_Toilet\n",
      "R1_Bed_to_Toilet\n",
      "R1_Bed_to_Toilet\n",
      "R1_Bed_to_Toilet\n",
      "R1_Bed_to_Toilet\n",
      "R1_Bed_to_Toilet\n",
      "R1_Bed_to_Toilet\n",
      "R1_Bed_to_Toilet\n",
      "R1_Bed_to_Toilet\n",
      "R1_Bed_to_Toilet\n",
      "R1_Bed_to_Toilet\n",
      "R1_Bed_to_Toilet\n",
      "R1_Bed_to_Toilet\n",
      "R1_Bed_to_Toilet\n",
      "R1_Bed_to_Toilet\n",
      "R1_Bed_to_Toilet\n",
      "R1_Bed_to_Toilet\n",
      "R1_Bed_to_Toilet\n",
      "R1_Bed_to_Toilet\n",
      "R1_Bed_to_Toilet\n",
      "R1_Bed_to_Toilet\n",
      "R1_Bed_to_Toilet\n",
      "R1_Bed_to_Toilet\n",
      "R1_Bed_to_Toilet\n",
      "R1_Bed_to_Toilet\n",
      "R1_Bed_to_Toilet\n",
      "R1_Bed_to_Toilet\n",
      "R1_Bed_to_Toilet\n",
      "R1_Bed_to_Toilet\n",
      "R1_Bed_to_Toilet\n",
      "R1_Bed_to_Toilet\n",
      "R1_Bed_to_Toilet\n",
      "R1_Bed_to_Toilet\n",
      "R1_Bed_to_Toilet\n",
      "R1_Bed_to_Toilet\n",
      "R1_Bed_to_Toilet\n",
      "R1_Bed_to_Toilet\n",
      "R1_Bed_to_Toilet\n",
      "R1_Bed_to_Toilet\n",
      "R1_Bed_to_Toilet\n",
      "R1_Bed_to_Toilet\n",
      "R1_Bed_to_Toilet\n",
      "R1_Bed_to_Toilet\n",
      "R1_Bed_to_Toilet\n",
      "R1_Bed_to_Toilet\n",
      "R1_Bed_to_Toilet\n",
      "R1_Bed_to_Toilet\n",
      "R1_Bed_to_Toilet\n",
      "R1_Bed_to_Toilet\n",
      "R1_Bed_to_Toilet\n",
      "R1_Bed_to_Toilet\n",
      "R1_Bed_to_Toilet\n",
      "R1_Bed_to_Toilet\n",
      "R1_Bed_to_Toilet\n",
      "R1_Bed_to_Toilet\n",
      "R1_Bed_to_Toilet\n",
      "R1_Personal_Hygiene\n",
      "R1_Personal_Hygiene\n",
      "R1_Personal_Hygiene\n",
      "R1_Personal_Hygiene\n",
      "R1_Personal_Hygiene\n",
      "R1_Personal_Hygiene\n",
      "R1_Personal_Hygiene\n",
      "R1_Personal_Hygiene\n",
      "R1_Personal_Hygiene\n",
      "R1_Personal_Hygiene\n",
      "R1_Personal_Hygiene\n",
      "R1_Personal_Hygiene\n",
      "R1_Personal_Hygiene\n",
      "R1_Personal_Hygiene\n",
      "R1_Personal_Hygiene\n",
      "R1_Personal_Hygiene\n",
      "R1_Personal_Hygiene\n",
      "R1_Personal_Hygiene\n",
      "R1_Personal_Hygiene\n",
      "R1_Personal_Hygiene\n",
      "R1_Personal_Hygiene\n",
      "R1_Personal_Hygiene\n",
      "R1_Personal_Hygiene\n",
      "R1_Personal_Hygiene\n",
      "R1_Personal_Hygiene\n",
      "R1_Personal_Hygiene\n",
      "R1_Personal_Hygiene\n",
      "R1_Personal_Hygiene\n",
      "R1_Personal_Hygiene\n",
      "R1_Personal_Hygiene\n",
      "R1_Personal_Hygiene\n",
      "R1_Personal_Hygiene\n",
      "R1_Personal_Hygiene\n",
      "R1_Personal_Hygiene\n",
      "R1_Personal_Hygiene\n",
      "R1_Personal_Hygiene\n",
      "R1_Personal_Hygiene\n",
      "R1_Personal_Hygiene\n",
      "R1_Personal_Hygiene\n",
      "R1_Personal_Hygiene\n",
      "R1_Personal_Hygiene\n",
      "R1_Personal_Hygiene\n",
      "R1_Personal_Hygiene\n",
      "R1_Personal_Hygiene\n",
      "R1_Personal_Hygiene\n",
      "Meal_Preparation\n",
      "Meal_Preparation\n",
      "Meal_Preparation\n",
      "Meal_Preparation\n",
      "Meal_Preparation\n",
      "Meal_Preparation\n",
      "Meal_Preparation\n",
      "Meal_Preparation\n",
      "Meal_Preparation\n",
      "Meal_Preparation\n",
      "Meal_Preparation\n",
      "Meal_Preparation\n",
      "Meal_Preparation\n",
      "Meal_Preparation\n",
      "Meal_Preparation\n",
      "Meal_Preparation\n",
      "Meal_Preparation\n",
      "Meal_Preparation\n",
      "Meal_Preparation\n",
      "Meal_Preparation\n",
      "Meal_Preparation\n",
      "Meal_Preparation\n",
      "Meal_Preparation\n",
      "Meal_Preparation\n",
      "Meal_Preparation\n",
      "Meal_Preparation\n",
      "Meal_Preparation\n",
      "Meal_Preparation\n",
      "Meal_Preparation\n",
      "Meal_Preparation\n",
      "Meal_Preparation\n",
      "Meal_Preparation\n",
      "Meal_Preparation\n",
      "Meal_Preparation\n",
      "Meal_Preparation\n",
      "Meal_Preparation\n",
      "Meal_Preparation\n",
      "Meal_Preparation\n",
      "Meal_Preparation\n",
      "Meal_Preparation\n",
      "Meal_Preparation\n",
      "Meal_Preparation\n",
      "Meal_Preparation\n",
      "Meal_Preparation\n",
      "Meal_Preparation\n",
      "Meal_Preparation\n",
      "Meal_Preparation\n",
      "Meal_Preparation\n",
      "Meal_Preparation\n",
      "Meal_Preparation\n",
      "Meal_Preparation\n",
      "Meal_Preparation\n",
      "Meal_Preparation\n",
      "Meal_Preparation\n",
      "Meal_Preparation\n",
      "Meal_Preparation\n",
      "Meal_Preparation\n",
      "Meal_Preparation\n",
      "Meal_Preparation\n",
      "Meal_Preparation\n",
      "Meal_Preparation\n",
      "Meal_Preparation\n",
      "Meal_Preparation\n",
      "Meal_Preparation\n",
      "Meal_Preparation\n",
      "Meal_Preparation\n",
      "Meal_Preparation\n",
      "Meal_Preparation\n",
      "Meal_Preparation\n",
      "Meal_Preparation\n",
      "Meal_Preparation\n",
      "Meal_Preparation\n",
      "Meal_Preparation\n",
      "Meal_Preparation\n",
      "Meal_Preparation\n",
      "Meal_Preparation\n",
      "Meal_Preparation\n",
      "Meal_Preparation\n",
      "Meal_Preparation\n",
      "Meal_Preparation\n",
      "Meal_Preparation\n",
      "Meal_Preparation\n",
      "Meal_Preparation\n",
      "Meal_Preparation\n",
      "Meal_Preparation\n",
      "Meal_Preparation\n",
      "Meal_Preparation\n",
      "Meal_Preparation\n",
      "Meal_Preparation\n",
      "Meal_Preparation\n",
      "Meal_Preparation\n",
      "Meal_Preparation\n",
      "Meal_Preparation\n",
      "Meal_Preparation\n",
      "Meal_Preparation\n",
      "Meal_Preparation\n",
      "Meal_Preparation\n",
      "Meal_Preparation\n",
      "Meal_Preparation\n",
      "Meal_Preparation\n",
      "Meal_Preparation\n",
      "Meal_Preparation\n",
      "Meal_Preparation\n",
      "Meal_Preparation\n",
      "Meal_Preparation\n",
      "Meal_Preparation\n",
      "Meal_Preparation\n",
      "Meal_Preparation\n",
      "Meal_Preparation\n",
      "Meal_Preparation\n",
      "Meal_Preparation\n",
      "Meal_Preparation\n",
      "Meal_Preparation\n",
      "Meal_Preparation\n",
      "Meal_Preparation\n",
      "Meal_Preparation\n",
      "Meal_Preparation\n",
      "Watch_TV\n",
      "Watch_TV\n",
      "Watch_TV\n",
      "Watch_TV\n",
      "Watch_TV\n",
      "Watch_TV\n",
      "Watch_TV\n",
      "Watch_TV\n",
      "Watch_TV\n",
      "Watch_TV\n",
      "Watch_TV\n",
      "Watch_TV\n",
      "Watch_TV\n",
      "Watch_TV\n",
      "Watch_TV\n",
      "Watch_TV\n",
      "Watch_TV\n",
      "Watch_TV\n",
      "Watch_TV\n",
      "Watch_TV\n",
      "Watch_TV\n",
      "Watch_TV\n",
      "Watch_TV\n",
      "Watch_TV\n",
      "Watch_TV\n",
      "Watch_TV\n",
      "Watch_TV\n",
      "Watch_TV\n",
      "Watch_TV\n",
      "Watch_TV\n",
      "Watch_TV\n",
      "R1_Work\n",
      "R1_Work\n",
      "R1_Work\n",
      "R1_Work\n",
      "R1_Work\n",
      "R1_Work\n",
      "R1_Work\n",
      "R1_Work\n",
      "R1_Work\n",
      "R1_Work\n",
      "R1_Work\n",
      "R1_Work\n",
      "R1_Work\n",
      "R1_Work\n",
      "R1_Work\n",
      "R1_Work\n",
      "R1_Work\n",
      "R1_Work\n",
      "R1_Work\n",
      "R1_Work\n",
      "R1_Work\n",
      "R1_Work\n",
      "R1_Work\n",
      "R1_Work\n",
      "R1_Work\n",
      "R1_Work\n",
      "R1_Work\n",
      "R1_Work\n",
      "R1_Work\n",
      "R1_Work\n",
      "R1_Work\n",
      "R1_Work\n",
      "R1_Work\n",
      "R1_Work\n",
      "R1_Work\n",
      "R1_Work\n",
      "R1_Work\n",
      "R1_Work\n",
      "R1_Work\n",
      "R1_Work\n",
      "R1_Work\n",
      "R1_Work\n",
      "R1_Work\n",
      "R1_Work\n",
      "R1_Work\n",
      "R1_Work\n",
      "R1_Work\n",
      "R1_Work\n",
      "R1_Work\n",
      "R1_Work\n",
      "R1_Work\n",
      "R1_Work\n",
      "R1_Work\n",
      "R1_Work\n",
      "R1_Work\n",
      "R1_Work\n",
      "R1_Work\n",
      "R1_Work\n",
      "R1_Sleep\n",
      "R1_Sleep\n",
      "R1_Sleep\n",
      "R1_Sleep\n",
      "R1_Sleep\n",
      "R1_Sleep\n",
      "R1_Sleep\n",
      "R1_Sleep\n",
      "R1_Sleep\n",
      "R1_Sleep\n",
      "R1_Sleep\n",
      "R1_Sleep\n",
      "R1_Sleep\n",
      "R1_Sleep\n",
      "R1_Sleep\n",
      "R1_Sleep\n",
      "R1_Sleep\n",
      "R1_Sleep\n",
      "R1_Sleep\n",
      "R1_Sleep\n",
      "R1_Sleep\n",
      "R1_Sleep\n",
      "R1_Sleep\n",
      "R1_Sleep\n",
      "R1_Sleep\n",
      "R1_Sleep\n",
      "R1_Sleep\n",
      "R1_Sleep\n",
      "R1_Sleep\n",
      "R1_Sleep\n",
      "R1_Sleep\n",
      "R1_Sleep\n",
      "R1_Sleep\n",
      "R1_Sleep\n",
      "R1_Sleep\n",
      "Wash_Bathtub\n",
      "Clean\n",
      "Clean\n",
      "Study\n",
      "Study\n",
      "Study\n",
      "Study\n",
      "Study\n",
      "Study\n",
      "Study\n",
      "Study\n",
      "Study\n"
     ]
    }
   ],
   "source": [
    "new_df = create_transformed_df(df, R1_activities)"
   ],
   "metadata": {
    "collapsed": false,
    "pycharm": {
     "name": "#%%\n"
    }
   }
  },
  {
   "cell_type": "code",
   "execution_count": 29,
   "outputs": [
    {
     "data": {
      "text/plain": "             activity           start_time             end_time time_span\n0    R1_Bed_to_Toilet  2009-02-02 07:15:17  2009-02-02 07:21:04       347\n1    R1_Bed_to_Toilet  2009-02-03 07:29:34  2009-02-03 07:35:48       374\n2    R1_Bed_to_Toilet  2009-02-04 07:26:00  2009-02-04 07:40:03       843\n3    R1_Bed_to_Toilet  2009-02-05 06:51:44  2009-02-05 07:12:46      1262\n4    R1_Bed_to_Toilet  2009-02-06 07:33:50  2009-02-06 07:53:46      1196\n..                ...                  ...                  ...       ...\n353             Study  2009-03-10 19:41:14  2009-03-10 22:41:16     10802\n354             Study  2009-03-11 19:39:57  2009-03-11 22:09:45      8988\n355             Study  2009-03-23 20:35:02  2009-03-23 22:23:05      6483\n356             Study  2009-03-24 08:24:15  2009-03-24 08:36:44       749\n357             Study  2009-03-25 11:26:18  2009-03-25 12:43:02      4604\n\n[358 rows x 4 columns]",
      "text/html": "<div>\n<style scoped>\n    .dataframe tbody tr th:only-of-type {\n        vertical-align: middle;\n    }\n\n    .dataframe tbody tr th {\n        vertical-align: top;\n    }\n\n    .dataframe thead th {\n        text-align: right;\n    }\n</style>\n<table border=\"1\" class=\"dataframe\">\n  <thead>\n    <tr style=\"text-align: right;\">\n      <th></th>\n      <th>activity</th>\n      <th>start_time</th>\n      <th>end_time</th>\n      <th>time_span</th>\n    </tr>\n  </thead>\n  <tbody>\n    <tr>\n      <th>0</th>\n      <td>R1_Bed_to_Toilet</td>\n      <td>2009-02-02 07:15:17</td>\n      <td>2009-02-02 07:21:04</td>\n      <td>347</td>\n    </tr>\n    <tr>\n      <th>1</th>\n      <td>R1_Bed_to_Toilet</td>\n      <td>2009-02-03 07:29:34</td>\n      <td>2009-02-03 07:35:48</td>\n      <td>374</td>\n    </tr>\n    <tr>\n      <th>2</th>\n      <td>R1_Bed_to_Toilet</td>\n      <td>2009-02-04 07:26:00</td>\n      <td>2009-02-04 07:40:03</td>\n      <td>843</td>\n    </tr>\n    <tr>\n      <th>3</th>\n      <td>R1_Bed_to_Toilet</td>\n      <td>2009-02-05 06:51:44</td>\n      <td>2009-02-05 07:12:46</td>\n      <td>1262</td>\n    </tr>\n    <tr>\n      <th>4</th>\n      <td>R1_Bed_to_Toilet</td>\n      <td>2009-02-06 07:33:50</td>\n      <td>2009-02-06 07:53:46</td>\n      <td>1196</td>\n    </tr>\n    <tr>\n      <th>...</th>\n      <td>...</td>\n      <td>...</td>\n      <td>...</td>\n      <td>...</td>\n    </tr>\n    <tr>\n      <th>353</th>\n      <td>Study</td>\n      <td>2009-03-10 19:41:14</td>\n      <td>2009-03-10 22:41:16</td>\n      <td>10802</td>\n    </tr>\n    <tr>\n      <th>354</th>\n      <td>Study</td>\n      <td>2009-03-11 19:39:57</td>\n      <td>2009-03-11 22:09:45</td>\n      <td>8988</td>\n    </tr>\n    <tr>\n      <th>355</th>\n      <td>Study</td>\n      <td>2009-03-23 20:35:02</td>\n      <td>2009-03-23 22:23:05</td>\n      <td>6483</td>\n    </tr>\n    <tr>\n      <th>356</th>\n      <td>Study</td>\n      <td>2009-03-24 08:24:15</td>\n      <td>2009-03-24 08:36:44</td>\n      <td>749</td>\n    </tr>\n    <tr>\n      <th>357</th>\n      <td>Study</td>\n      <td>2009-03-25 11:26:18</td>\n      <td>2009-03-25 12:43:02</td>\n      <td>4604</td>\n    </tr>\n  </tbody>\n</table>\n<p>358 rows × 4 columns</p>\n</div>"
     },
     "execution_count": 29,
     "metadata": {},
     "output_type": "execute_result"
    }
   ],
   "source": [
    "new_df"
   ],
   "metadata": {
    "collapsed": false,
    "pycharm": {
     "name": "#%%\n"
    }
   }
  },
  {
   "cell_type": "code",
   "execution_count": null,
   "outputs": [],
   "source": [],
   "metadata": {
    "collapsed": false,
    "pycharm": {
     "name": "#%%\n"
    }
   }
  }
 ],
 "metadata": {
  "kernelspec": {
   "display_name": "Python 3",
   "language": "python",
   "name": "python3"
  },
  "language_info": {
   "codemirror_mode": {
    "name": "ipython",
    "version": 2
   },
   "file_extension": ".py",
   "mimetype": "text/x-python",
   "name": "python",
   "nbconvert_exporter": "python",
   "pygments_lexer": "ipython2",
   "version": "2.7.6"
  }
 },
 "nbformat": 4,
 "nbformat_minor": 0
}