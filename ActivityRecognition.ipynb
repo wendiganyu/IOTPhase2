{
 "cells": [
  {
   "cell_type": "markdown",
   "source": [
    "# 1. Data Import and Preprocessing"
   ],
   "metadata": {
    "collapsed": false
   }
  },
  {
   "cell_type": "markdown",
   "source": [
    "## 1.1 引入数据集，生成dataframe"
   ],
   "metadata": {
    "collapsed": false
   }
  },
  {
   "cell_type": "code",
   "execution_count": 1,
   "outputs": [],
   "source": [
    "import pandas as pd\n",
    "import numpy as np\n",
    "\n",
    "data_path ='./dataset_new.csv'\n",
    "columns_name = ('date', 'time', 'sensor_id', 'value', 'activity', 'status') # status是begin或end\n",
    "df = pd.read_csv(data_path, names = columns_name)"
   ],
   "metadata": {
    "collapsed": false,
    "pycharm": {
     "name": "#%%\n"
    }
   }
  },
  {
   "cell_type": "code",
   "execution_count": 2,
   "outputs": [
    {
     "data": {
      "text/plain": "date         object\ntime         object\nsensor_id    object\nvalue        object\nactivity     object\nstatus       object\ndtype: object"
     },
     "execution_count": 2,
     "metadata": {},
     "output_type": "execute_result"
    }
   ],
   "source": [
    "df.dtypes"
   ],
   "metadata": {
    "collapsed": false,
    "pycharm": {
     "name": "#%%\n"
    }
   }
  },
  {
   "cell_type": "code",
   "execution_count": 3,
   "outputs": [
    {
     "data": {
      "text/plain": "'\\n#一些测试\\ndf.iloc[:,:4]\\ndf_first4Attr = df.iloc[:,:4]\\ndf[df_first4Attr.isnull().values==True]\\n'"
     },
     "execution_count": 3,
     "metadata": {},
     "output_type": "execute_result"
    }
   ],
   "source": [
    "'''\n",
    "#一些测试\n",
    "df.iloc[:,:4]\n",
    "df_first4Attr = df.iloc[:,:4]\n",
    "df[df_first4Attr.isnull().values==True]\n",
    "'''"
   ],
   "metadata": {
    "collapsed": false,
    "pycharm": {
     "name": "#%%\n"
    }
   }
  },
  {
   "cell_type": "code",
   "execution_count": 4,
   "outputs": [
    {
     "data": {
      "text/plain": "array(['M35', 'AD1-A', 'M34', 'M32', 'M33', 'M36', 'M30', 'M29', 'M37',\n       'M38', 'M39', 'M41', 'M40', 'M49', 'M46', 'M50', 'M44', 'M47',\n       'M48', 'M43', 'M28', 'M42', 'M27', 'M26', 'M25', 'M24', 'M21',\n       'M19', 'M18', 'M17', 'M16', 'M15', 'D09', 'M14', 'M13', 'M08',\n       'M07', 'M02', 'M45', 'M51', 'D08', 'AD1-B', 'AD1-C', 'D10', 'I03',\n       'M06', 'M09', 'M10', 'M01', 'D12', 'L04', 'M23', 'M31', 'D15',\n       'D07', 'D14', 'M11', 'M05', 'M03', 'M04', 'M22', 'M12', 'M20',\n       'L11', 'D05', 'D03', 'L10', 'L06', 'L13', 'L12', 'L09'],\n      dtype=object)"
     },
     "execution_count": 4,
     "metadata": {},
     "output_type": "execute_result"
    }
   ],
   "source": [
    "df['sensor_id'].unique()"
   ],
   "metadata": {
    "collapsed": false,
    "pycharm": {
     "name": "#%%\n"
    }
   }
  },
  {
   "cell_type": "markdown",
   "source": [
    "## 1.2 判断缺失值"
   ],
   "metadata": {
    "collapsed": false
   }
  },
  {
   "cell_type": "code",
   "execution_count": 5,
   "outputs": [
    {
     "data": {
      "text/plain": "              date     time sensor_id    value          activity status\n0       02/02/2009  7:15:17       M35       ON  R1_Bed_to_Toilet  begin\n1       02/02/2009  7:15:21     AD1-A  2.82231               NaN    NaN\n2       02/02/2009  7:15:23       M35      OFF               NaN    NaN\n3       02/02/2009  7:15:23       M35       ON               NaN    NaN\n4       02/02/2009  7:15:28     AD1-A  2.79926               NaN    NaN\n...            ...      ...       ...      ...               ...    ...\n138625  04/04/2009  7:26:16       M48      OFF               NaN    NaN\n138626  04/04/2009  7:27:47       M48       ON               NaN    NaN\n138627  04/04/2009  7:27:50       M47       ON               NaN    NaN\n138628  04/04/2009  7:27:59       M47      OFF               NaN    NaN\n138629  04/04/2009  7:28:01       M48      OFF          R2_Sleep    end\n\n[138630 rows x 6 columns]",
      "text/html": "<div>\n<style scoped>\n    .dataframe tbody tr th:only-of-type {\n        vertical-align: middle;\n    }\n\n    .dataframe tbody tr th {\n        vertical-align: top;\n    }\n\n    .dataframe thead th {\n        text-align: right;\n    }\n</style>\n<table border=\"1\" class=\"dataframe\">\n  <thead>\n    <tr style=\"text-align: right;\">\n      <th></th>\n      <th>date</th>\n      <th>time</th>\n      <th>sensor_id</th>\n      <th>value</th>\n      <th>activity</th>\n      <th>status</th>\n    </tr>\n  </thead>\n  <tbody>\n    <tr>\n      <th>0</th>\n      <td>02/02/2009</td>\n      <td>7:15:17</td>\n      <td>M35</td>\n      <td>ON</td>\n      <td>R1_Bed_to_Toilet</td>\n      <td>begin</td>\n    </tr>\n    <tr>\n      <th>1</th>\n      <td>02/02/2009</td>\n      <td>7:15:21</td>\n      <td>AD1-A</td>\n      <td>2.82231</td>\n      <td>NaN</td>\n      <td>NaN</td>\n    </tr>\n    <tr>\n      <th>2</th>\n      <td>02/02/2009</td>\n      <td>7:15:23</td>\n      <td>M35</td>\n      <td>OFF</td>\n      <td>NaN</td>\n      <td>NaN</td>\n    </tr>\n    <tr>\n      <th>3</th>\n      <td>02/02/2009</td>\n      <td>7:15:23</td>\n      <td>M35</td>\n      <td>ON</td>\n      <td>NaN</td>\n      <td>NaN</td>\n    </tr>\n    <tr>\n      <th>4</th>\n      <td>02/02/2009</td>\n      <td>7:15:28</td>\n      <td>AD1-A</td>\n      <td>2.79926</td>\n      <td>NaN</td>\n      <td>NaN</td>\n    </tr>\n    <tr>\n      <th>...</th>\n      <td>...</td>\n      <td>...</td>\n      <td>...</td>\n      <td>...</td>\n      <td>...</td>\n      <td>...</td>\n    </tr>\n    <tr>\n      <th>138625</th>\n      <td>04/04/2009</td>\n      <td>7:26:16</td>\n      <td>M48</td>\n      <td>OFF</td>\n      <td>NaN</td>\n      <td>NaN</td>\n    </tr>\n    <tr>\n      <th>138626</th>\n      <td>04/04/2009</td>\n      <td>7:27:47</td>\n      <td>M48</td>\n      <td>ON</td>\n      <td>NaN</td>\n      <td>NaN</td>\n    </tr>\n    <tr>\n      <th>138627</th>\n      <td>04/04/2009</td>\n      <td>7:27:50</td>\n      <td>M47</td>\n      <td>ON</td>\n      <td>NaN</td>\n      <td>NaN</td>\n    </tr>\n    <tr>\n      <th>138628</th>\n      <td>04/04/2009</td>\n      <td>7:27:59</td>\n      <td>M47</td>\n      <td>OFF</td>\n      <td>NaN</td>\n      <td>NaN</td>\n    </tr>\n    <tr>\n      <th>138629</th>\n      <td>04/04/2009</td>\n      <td>7:28:01</td>\n      <td>M48</td>\n      <td>OFF</td>\n      <td>R2_Sleep</td>\n      <td>end</td>\n    </tr>\n  </tbody>\n</table>\n<p>138630 rows × 6 columns</p>\n</div>"
     },
     "execution_count": 5,
     "metadata": {},
     "output_type": "execute_result"
    }
   ],
   "source": [
    "df.dropna(axis=0, how='all', inplace=True) ## 删去了两行空白行\n",
    "df"
   ],
   "metadata": {
    "collapsed": false,
    "pycharm": {
     "name": "#%%\n"
    }
   }
  },
  {
   "cell_type": "markdown",
   "source": [
    "## 1.3 合并date和time"
   ],
   "metadata": {
    "collapsed": false
   }
  },
  {
   "cell_type": "code",
   "execution_count": 6,
   "outputs": [],
   "source": [
    "# df.drop(df.tail(1).index, inplace = True) #从尾部去掉 1 行，这一行是异常行"
   ],
   "metadata": {
    "collapsed": false,
    "pycharm": {
     "name": "#%%\n"
    }
   }
  },
  {
   "cell_type": "code",
   "execution_count": null,
   "outputs": [],
   "source": [
    "# df[\"datetime\"] = pd.to_datetime(df[\"date\"] + \" \"+ df[\"time\"], format='%d/%m/%Y %H:%M:%S')\n",
    "df[\"datetime\"] = pd.to_datetime(df[\"date\"] + \" \"+ df[\"time\"], dayfirst=True)\n",
    "\n",
    "# df[\"datetime\"]\n"
   ],
   "metadata": {
    "collapsed": false,
    "pycharm": {
     "name": "#%%\n",
     "is_executing": true
    }
   }
  },
  {
   "cell_type": "code",
   "execution_count": null,
   "outputs": [],
   "source": [
    "df = df.set_index(\"datetime\")\n",
    "df"
   ],
   "metadata": {
    "collapsed": false,
    "pycharm": {
     "name": "#%%\n",
     "is_executing": true
    }
   }
  },
  {
   "cell_type": "code",
   "execution_count": null,
   "outputs": [],
   "source": [
    "# 检查时间都是前一个<=后一个\n",
    "for a, b in zip(df.index, df.index[1:]):\n",
    "    if(a>b):\n",
    "        print(a)\n",
    "\n",
    "# all(a <= b for a, b in zip(df.index, df.index[1:]))"
   ],
   "metadata": {
    "collapsed": false,
    "pycharm": {
     "name": "#%%\n",
     "is_executing": true
    }
   }
  },
  {
   "cell_type": "markdown",
   "source": [
    "## 1.4 给begin-end包围的activity打标签，begin-end之外的标为\"other\"，嵌套的按照最近的begin-end来标，标完之后删掉begin、end这一列。"
   ],
   "metadata": {
    "collapsed": false
   }
  },
  {
   "cell_type": "code",
   "execution_count": null,
   "outputs": [],
   "source": [
    "# 将\"value\"列的\"ON\"和\"OPEN\"转为1，\"OFF\"和\"CLOSE\"转为0\n",
    "\n",
    "# df[\"value\"].unique() #检查value都有哪些名称\n",
    "\n",
    "one_vals = [\"ON\",\"OPEN\", \"PRESENT\"]\n",
    "zero_vals = [\"OFF\",\"CLOSE\", \"ABSENT\"]\n",
    "\n",
    "df.loc[df['value'].isin(one_vals), 'value'] = 1\n",
    "df.loc[df['value'].isin(zero_vals), 'value'] = 0\n",
    "df\n"
   ],
   "metadata": {
    "collapsed": false,
    "pycharm": {
     "name": "#%%\n",
     "is_executing": true
    }
   }
  },
  {
   "cell_type": "code",
   "execution_count": null,
   "outputs": [],
   "source": [
    "# 检查begin总数==end总数\n",
    "def check_begin_end_total(df):\n",
    "    cnt_begin = 0\n",
    "    cnt_end = 0\n",
    "    for index,row in df.iterrows():\n",
    "        if row.status == 'begin':\n",
    "            cnt_begin += 1\n",
    "        elif row.status == 'end':\n",
    "            cnt_end += 1\n",
    "    print(cnt_begin)\n",
    "    print(cnt_end)\n",
    "check_begin_end_total(df)"
   ],
   "metadata": {
    "collapsed": false,
    "pycharm": {
     "name": "#%%\n",
     "is_executing": true
    }
   }
  },
  {
   "cell_type": "code",
   "execution_count": null,
   "outputs": [],
   "source": [
    "# 检查begin-end pair的activities可以相互抵消\n",
    "def check_activity_symmetry(df):\n",
    "    stack = []\n",
    "    cnt = 0\n",
    "    for index,row in df.iterrows():\n",
    "        if not pd.isnull(row.activity):\n",
    "            if row.status == 'begin':\n",
    "                stack.append(row.activity)\n",
    "            elif row.status == 'end':\n",
    "                stack.pop()\n",
    "\n",
    "        # 每1000次打印一次栈的状态\n",
    "        cnt += 1\n",
    "        if cnt % 1000 == 0:\n",
    "            print(stack)\n",
    "\n",
    "    print(\"The final stack value:\", stack)\n",
    "\n",
    "check_activity_symmetry(df)"
   ],
   "metadata": {
    "collapsed": false,
    "pycharm": {
     "name": "#%%\n",
     "is_executing": true
    }
   }
  },
  {
   "cell_type": "code",
   "execution_count": null,
   "outputs": [],
   "source": [
    "# 对activity填值：begin-end中间填最近的activity，begin-end外填other\n",
    "\n",
    "# def set_activity(df):\n",
    "stack = []\n",
    "cnt = 0\n",
    "for index,row in df.iterrows():\n",
    "    if not pd.isnull(row.activity):\n",
    "        print(\"yes activity!\", row.activity)\n",
    "        print(cnt)\n",
    "        if row.status == 'begin':\n",
    "            stack.append(row.activity)\n",
    "        elif row.status == 'end':\n",
    "            del(stack[-1])\n",
    "    elif pd.isnull(row.activity):\n",
    "        # 判断有没有被begin-end包围\n",
    "        if len(stack) == 0:\n",
    "            df.loc[index, 'activity'] = \"other\"\n",
    "        else:\n",
    "            df.loc[index, 'activity'] = stack[-1]\n",
    "\n",
    "    cnt += 1\n",
    "    # return df\n",
    "\n",
    "df"
   ],
   "metadata": {
    "collapsed": false,
    "pycharm": {
     "name": "#%%\n",
     "is_executing": true
    }
   }
  },
  {
   "cell_type": "code",
   "execution_count": null,
   "outputs": [],
   "source": [],
   "metadata": {
    "collapsed": false,
    "pycharm": {
     "name": "#%%\n",
     "is_executing": true
    }
   }
  }
 ],
 "metadata": {
  "kernelspec": {
   "display_name": "Python 3",
   "language": "python",
   "name": "python3"
  },
  "language_info": {
   "codemirror_mode": {
    "name": "ipython",
    "version": 2
   },
   "file_extension": ".py",
   "mimetype": "text/x-python",
   "name": "python",
   "nbconvert_exporter": "python",
   "pygments_lexer": "ipython2",
   "version": "2.7.6"
  }
 },
 "nbformat": 4,
 "nbformat_minor": 0
}