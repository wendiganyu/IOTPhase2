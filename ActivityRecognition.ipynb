{
 "cells": [
  {
   "cell_type": "markdown",
   "metadata": {},
   "source": [
    "# 1. Data Import and Preprocessing"
   ]
  },
  {
   "cell_type": "markdown",
   "metadata": {},
   "source": [
    "## 1.1 引入数据集，生成dataframe"
   ]
  },
  {
   "cell_type": "code",
   "execution_count": 33,
   "metadata": {
    "pycharm": {
     "name": "#%%\n"
    }
   },
   "outputs": [],
   "source": [
    "import pandas as pd\n",
    "import numpy as np\n",
    "\n",
    "data_path ='./dataset_new.csv'\n",
    "columns_name = ('date', 'time', 'sensor_id', 'value', 'activity', 'status') # status是begin或end\n",
    "df = pd.read_csv(data_path, names = columns_name)"
   ]
  },
  {
   "cell_type": "code",
   "execution_count": 34,
   "metadata": {
    "pycharm": {
     "name": "#%%\n"
    }
   },
   "outputs": [
    {
     "data": {
      "text/plain": "date         object\ntime         object\nsensor_id    object\nvalue        object\nactivity     object\nstatus       object\ndtype: object"
     },
     "execution_count": 34,
     "metadata": {},
     "output_type": "execute_result"
    }
   ],
   "source": [
    "df.dtypes"
   ]
  },
  {
   "cell_type": "code",
   "execution_count": 35,
   "metadata": {
    "pycharm": {
     "name": "#%%\n"
    }
   },
   "outputs": [
    {
     "data": {
      "text/plain": "'\\n#一些测试\\ndf.iloc[:,:4]\\ndf_first4Attr = df.iloc[:,:4]\\ndf[df_first4Attr.isnull().values==True]\\n'"
     },
     "execution_count": 35,
     "metadata": {},
     "output_type": "execute_result"
    }
   ],
   "source": [
    "'''\n",
    "#一些测试\n",
    "df.iloc[:,:4]\n",
    "df_first4Attr = df.iloc[:,:4]\n",
    "df[df_first4Attr.isnull().values==True]\n",
    "'''"
   ]
  },
  {
   "cell_type": "code",
   "execution_count": 36,
   "metadata": {
    "pycharm": {
     "name": "#%%\n"
    }
   },
   "outputs": [
    {
     "data": {
      "text/plain": "array(['M35', 'AD1-A', 'M34', 'M32', 'M33', 'M36', 'M30', 'M29', 'M37',\n       'M38', 'M39', 'M41', 'M40', 'M49', 'M46', 'M50', 'M44', 'M47',\n       'M48', 'M43', 'M28', 'M42', 'M27', 'M26', 'M25', 'M24', 'M21',\n       'M19', 'M18', 'M17', 'M16', 'M15', 'D09', 'M14', 'M13', 'M08',\n       'M07', 'M02', 'M45', 'M51', 'D08', 'AD1-B', 'AD1-C', 'D10', 'I03',\n       'M06', 'M09', 'M10', 'M01', 'D12', 'L04', 'M23', 'M31', 'D15',\n       'D07', 'D14', 'M11', 'M05', 'M03', 'M04', 'M22', 'M12', 'M20',\n       'L11', 'D05', 'D03', 'L10', 'L06', 'L13', 'L12', 'L09'],\n      dtype=object)"
     },
     "execution_count": 36,
     "metadata": {},
     "output_type": "execute_result"
    }
   ],
   "source": [
    "df['sensor_id'].unique()"
   ]
  },
  {
   "cell_type": "markdown",
   "metadata": {},
   "source": [
    "## 1.2 判断缺失值"
   ]
  },
  {
   "cell_type": "code",
   "execution_count": 37,
   "metadata": {
    "pycharm": {
     "name": "#%%\n"
    }
   },
   "outputs": [
    {
     "data": {
      "text/plain": "              date     time sensor_id    value          activity status\n0       02/02/2009  7:15:17       M35       ON  R1_Bed_to_Toilet  begin\n1       02/02/2009  7:15:21     AD1-A  2.82231               NaN    NaN\n2       02/02/2009  7:15:23       M35      OFF               NaN    NaN\n3       02/02/2009  7:15:23       M35       ON               NaN    NaN\n4       02/02/2009  7:15:28     AD1-A  2.79926               NaN    NaN\n...            ...      ...       ...      ...               ...    ...\n138625  04/04/2009  7:26:16       M48      OFF               NaN    NaN\n138626  04/04/2009  7:27:47       M48       ON               NaN    NaN\n138627  04/04/2009  7:27:50       M47       ON               NaN    NaN\n138628  04/04/2009  7:27:59       M47      OFF               NaN    NaN\n138629  04/04/2009  7:28:01       M48      OFF          R2_Sleep    end\n\n[138630 rows x 6 columns]",
      "text/html": "<div>\n<style scoped>\n    .dataframe tbody tr th:only-of-type {\n        vertical-align: middle;\n    }\n\n    .dataframe tbody tr th {\n        vertical-align: top;\n    }\n\n    .dataframe thead th {\n        text-align: right;\n    }\n</style>\n<table border=\"1\" class=\"dataframe\">\n  <thead>\n    <tr style=\"text-align: right;\">\n      <th></th>\n      <th>date</th>\n      <th>time</th>\n      <th>sensor_id</th>\n      <th>value</th>\n      <th>activity</th>\n      <th>status</th>\n    </tr>\n  </thead>\n  <tbody>\n    <tr>\n      <th>0</th>\n      <td>02/02/2009</td>\n      <td>7:15:17</td>\n      <td>M35</td>\n      <td>ON</td>\n      <td>R1_Bed_to_Toilet</td>\n      <td>begin</td>\n    </tr>\n    <tr>\n      <th>1</th>\n      <td>02/02/2009</td>\n      <td>7:15:21</td>\n      <td>AD1-A</td>\n      <td>2.82231</td>\n      <td>NaN</td>\n      <td>NaN</td>\n    </tr>\n    <tr>\n      <th>2</th>\n      <td>02/02/2009</td>\n      <td>7:15:23</td>\n      <td>M35</td>\n      <td>OFF</td>\n      <td>NaN</td>\n      <td>NaN</td>\n    </tr>\n    <tr>\n      <th>3</th>\n      <td>02/02/2009</td>\n      <td>7:15:23</td>\n      <td>M35</td>\n      <td>ON</td>\n      <td>NaN</td>\n      <td>NaN</td>\n    </tr>\n    <tr>\n      <th>4</th>\n      <td>02/02/2009</td>\n      <td>7:15:28</td>\n      <td>AD1-A</td>\n      <td>2.79926</td>\n      <td>NaN</td>\n      <td>NaN</td>\n    </tr>\n    <tr>\n      <th>...</th>\n      <td>...</td>\n      <td>...</td>\n      <td>...</td>\n      <td>...</td>\n      <td>...</td>\n      <td>...</td>\n    </tr>\n    <tr>\n      <th>138625</th>\n      <td>04/04/2009</td>\n      <td>7:26:16</td>\n      <td>M48</td>\n      <td>OFF</td>\n      <td>NaN</td>\n      <td>NaN</td>\n    </tr>\n    <tr>\n      <th>138626</th>\n      <td>04/04/2009</td>\n      <td>7:27:47</td>\n      <td>M48</td>\n      <td>ON</td>\n      <td>NaN</td>\n      <td>NaN</td>\n    </tr>\n    <tr>\n      <th>138627</th>\n      <td>04/04/2009</td>\n      <td>7:27:50</td>\n      <td>M47</td>\n      <td>ON</td>\n      <td>NaN</td>\n      <td>NaN</td>\n    </tr>\n    <tr>\n      <th>138628</th>\n      <td>04/04/2009</td>\n      <td>7:27:59</td>\n      <td>M47</td>\n      <td>OFF</td>\n      <td>NaN</td>\n      <td>NaN</td>\n    </tr>\n    <tr>\n      <th>138629</th>\n      <td>04/04/2009</td>\n      <td>7:28:01</td>\n      <td>M48</td>\n      <td>OFF</td>\n      <td>R2_Sleep</td>\n      <td>end</td>\n    </tr>\n  </tbody>\n</table>\n<p>138630 rows × 6 columns</p>\n</div>"
     },
     "execution_count": 37,
     "metadata": {},
     "output_type": "execute_result"
    }
   ],
   "source": [
    "df.dropna(axis=0, how='all', inplace=True) ## 删去了两行空白行\n",
    "df"
   ]
  },
  {
   "cell_type": "markdown",
   "metadata": {},
   "source": [
    "## 1.3 合并date和time"
   ]
  },
  {
   "cell_type": "code",
   "execution_count": 38,
   "metadata": {
    "pycharm": {
     "name": "#%%\n"
    }
   },
   "outputs": [],
   "source": [
    "# df.drop(df.tail(1).index, inplace = True) #从尾部去掉 1 行，这一行是异常行"
   ]
  },
  {
   "cell_type": "code",
   "execution_count": 39,
   "metadata": {
    "pycharm": {
     "name": "#%%\n"
    }
   },
   "outputs": [],
   "source": [
    "# df[\"datetime\"] = pd.to_datetime(df[\"date\"] + \" \"+ df[\"time\"], format='%d/%m/%Y %H:%M:%S')\n",
    "df[\"datetime\"] = pd.to_datetime(df[\"date\"] + \" \"+ df[\"time\"], dayfirst=True)\n",
    "\n",
    "# df[\"datetime\"]\n"
   ]
  },
  {
   "cell_type": "code",
   "execution_count": 40,
   "metadata": {
    "pycharm": {
     "name": "#%%\n"
    }
   },
   "outputs": [
    {
     "data": {
      "text/plain": "              date     time sensor_id    value          activity status  \\\n0       02/02/2009  7:15:17       M35       ON  R1_Bed_to_Toilet  begin   \n1       02/02/2009  7:15:21     AD1-A  2.82231               NaN    NaN   \n2       02/02/2009  7:15:23       M35      OFF               NaN    NaN   \n3       02/02/2009  7:15:23       M35       ON               NaN    NaN   \n4       02/02/2009  7:15:28     AD1-A  2.79926               NaN    NaN   \n...            ...      ...       ...      ...               ...    ...   \n138625  04/04/2009  7:26:16       M48      OFF               NaN    NaN   \n138626  04/04/2009  7:27:47       M48       ON               NaN    NaN   \n138627  04/04/2009  7:27:50       M47       ON               NaN    NaN   \n138628  04/04/2009  7:27:59       M47      OFF               NaN    NaN   \n138629  04/04/2009  7:28:01       M48      OFF          R2_Sleep    end   \n\n                  datetime  \n0      2009-02-02 07:15:17  \n1      2009-02-02 07:15:21  \n2      2009-02-02 07:15:23  \n3      2009-02-02 07:15:23  \n4      2009-02-02 07:15:28  \n...                    ...  \n138625 2009-04-04 07:26:16  \n138626 2009-04-04 07:27:47  \n138627 2009-04-04 07:27:50  \n138628 2009-04-04 07:27:59  \n138629 2009-04-04 07:28:01  \n\n[138630 rows x 7 columns]",
      "text/html": "<div>\n<style scoped>\n    .dataframe tbody tr th:only-of-type {\n        vertical-align: middle;\n    }\n\n    .dataframe tbody tr th {\n        vertical-align: top;\n    }\n\n    .dataframe thead th {\n        text-align: right;\n    }\n</style>\n<table border=\"1\" class=\"dataframe\">\n  <thead>\n    <tr style=\"text-align: right;\">\n      <th></th>\n      <th>date</th>\n      <th>time</th>\n      <th>sensor_id</th>\n      <th>value</th>\n      <th>activity</th>\n      <th>status</th>\n      <th>datetime</th>\n    </tr>\n  </thead>\n  <tbody>\n    <tr>\n      <th>0</th>\n      <td>02/02/2009</td>\n      <td>7:15:17</td>\n      <td>M35</td>\n      <td>ON</td>\n      <td>R1_Bed_to_Toilet</td>\n      <td>begin</td>\n      <td>2009-02-02 07:15:17</td>\n    </tr>\n    <tr>\n      <th>1</th>\n      <td>02/02/2009</td>\n      <td>7:15:21</td>\n      <td>AD1-A</td>\n      <td>2.82231</td>\n      <td>NaN</td>\n      <td>NaN</td>\n      <td>2009-02-02 07:15:21</td>\n    </tr>\n    <tr>\n      <th>2</th>\n      <td>02/02/2009</td>\n      <td>7:15:23</td>\n      <td>M35</td>\n      <td>OFF</td>\n      <td>NaN</td>\n      <td>NaN</td>\n      <td>2009-02-02 07:15:23</td>\n    </tr>\n    <tr>\n      <th>3</th>\n      <td>02/02/2009</td>\n      <td>7:15:23</td>\n      <td>M35</td>\n      <td>ON</td>\n      <td>NaN</td>\n      <td>NaN</td>\n      <td>2009-02-02 07:15:23</td>\n    </tr>\n    <tr>\n      <th>4</th>\n      <td>02/02/2009</td>\n      <td>7:15:28</td>\n      <td>AD1-A</td>\n      <td>2.79926</td>\n      <td>NaN</td>\n      <td>NaN</td>\n      <td>2009-02-02 07:15:28</td>\n    </tr>\n    <tr>\n      <th>...</th>\n      <td>...</td>\n      <td>...</td>\n      <td>...</td>\n      <td>...</td>\n      <td>...</td>\n      <td>...</td>\n      <td>...</td>\n    </tr>\n    <tr>\n      <th>138625</th>\n      <td>04/04/2009</td>\n      <td>7:26:16</td>\n      <td>M48</td>\n      <td>OFF</td>\n      <td>NaN</td>\n      <td>NaN</td>\n      <td>2009-04-04 07:26:16</td>\n    </tr>\n    <tr>\n      <th>138626</th>\n      <td>04/04/2009</td>\n      <td>7:27:47</td>\n      <td>M48</td>\n      <td>ON</td>\n      <td>NaN</td>\n      <td>NaN</td>\n      <td>2009-04-04 07:27:47</td>\n    </tr>\n    <tr>\n      <th>138627</th>\n      <td>04/04/2009</td>\n      <td>7:27:50</td>\n      <td>M47</td>\n      <td>ON</td>\n      <td>NaN</td>\n      <td>NaN</td>\n      <td>2009-04-04 07:27:50</td>\n    </tr>\n    <tr>\n      <th>138628</th>\n      <td>04/04/2009</td>\n      <td>7:27:59</td>\n      <td>M47</td>\n      <td>OFF</td>\n      <td>NaN</td>\n      <td>NaN</td>\n      <td>2009-04-04 07:27:59</td>\n    </tr>\n    <tr>\n      <th>138629</th>\n      <td>04/04/2009</td>\n      <td>7:28:01</td>\n      <td>M48</td>\n      <td>OFF</td>\n      <td>R2_Sleep</td>\n      <td>end</td>\n      <td>2009-04-04 07:28:01</td>\n    </tr>\n  </tbody>\n</table>\n<p>138630 rows × 7 columns</p>\n</div>"
     },
     "execution_count": 40,
     "metadata": {},
     "output_type": "execute_result"
    }
   ],
   "source": [
    "# df = df.set_index(\"datetime\") #千万不能设datetime为index! 因为datetime有重复值！！！妈的，debug半个多小时。\n",
    "df"
   ]
  },
  {
   "cell_type": "code",
   "execution_count": 41,
   "metadata": {
    "pycharm": {
     "name": "#%%\n"
    }
   },
   "outputs": [],
   "source": [
    "# 检查时间都是前一个<=后一个\n",
    "for a, b in zip(df.datetime, df.datetime[1:]):\n",
    "    if(a>b):\n",
    "        print(a)\n",
    "\n",
    "# all(a <= b for a, b in zip(df.index, df.index[1:]))"
   ]
  },
  {
   "cell_type": "markdown",
   "metadata": {},
   "source": [
    "## 1.4 给begin-end包围的activity打标签，begin-end之外的标为\"other\"，嵌套的按照最近的begin-end来标，标完之后删掉begin、end这一列。"
   ]
  },
  {
   "cell_type": "code",
   "execution_count": 42,
   "metadata": {
    "pycharm": {
     "name": "#%%\n"
    }
   },
   "outputs": [
    {
     "data": {
      "text/plain": "              date     time sensor_id    value          activity status  \\\n0       02/02/2009  7:15:17       M35        1  R1_Bed_to_Toilet  begin   \n1       02/02/2009  7:15:21     AD1-A  2.82231               NaN    NaN   \n2       02/02/2009  7:15:23       M35        0               NaN    NaN   \n3       02/02/2009  7:15:23       M35        1               NaN    NaN   \n4       02/02/2009  7:15:28     AD1-A  2.79926               NaN    NaN   \n...            ...      ...       ...      ...               ...    ...   \n138625  04/04/2009  7:26:16       M48        0               NaN    NaN   \n138626  04/04/2009  7:27:47       M48        1               NaN    NaN   \n138627  04/04/2009  7:27:50       M47        1               NaN    NaN   \n138628  04/04/2009  7:27:59       M47        0               NaN    NaN   \n138629  04/04/2009  7:28:01       M48        0          R2_Sleep    end   \n\n                  datetime  \n0      2009-02-02 07:15:17  \n1      2009-02-02 07:15:21  \n2      2009-02-02 07:15:23  \n3      2009-02-02 07:15:23  \n4      2009-02-02 07:15:28  \n...                    ...  \n138625 2009-04-04 07:26:16  \n138626 2009-04-04 07:27:47  \n138627 2009-04-04 07:27:50  \n138628 2009-04-04 07:27:59  \n138629 2009-04-04 07:28:01  \n\n[138630 rows x 7 columns]",
      "text/html": "<div>\n<style scoped>\n    .dataframe tbody tr th:only-of-type {\n        vertical-align: middle;\n    }\n\n    .dataframe tbody tr th {\n        vertical-align: top;\n    }\n\n    .dataframe thead th {\n        text-align: right;\n    }\n</style>\n<table border=\"1\" class=\"dataframe\">\n  <thead>\n    <tr style=\"text-align: right;\">\n      <th></th>\n      <th>date</th>\n      <th>time</th>\n      <th>sensor_id</th>\n      <th>value</th>\n      <th>activity</th>\n      <th>status</th>\n      <th>datetime</th>\n    </tr>\n  </thead>\n  <tbody>\n    <tr>\n      <th>0</th>\n      <td>02/02/2009</td>\n      <td>7:15:17</td>\n      <td>M35</td>\n      <td>1</td>\n      <td>R1_Bed_to_Toilet</td>\n      <td>begin</td>\n      <td>2009-02-02 07:15:17</td>\n    </tr>\n    <tr>\n      <th>1</th>\n      <td>02/02/2009</td>\n      <td>7:15:21</td>\n      <td>AD1-A</td>\n      <td>2.82231</td>\n      <td>NaN</td>\n      <td>NaN</td>\n      <td>2009-02-02 07:15:21</td>\n    </tr>\n    <tr>\n      <th>2</th>\n      <td>02/02/2009</td>\n      <td>7:15:23</td>\n      <td>M35</td>\n      <td>0</td>\n      <td>NaN</td>\n      <td>NaN</td>\n      <td>2009-02-02 07:15:23</td>\n    </tr>\n    <tr>\n      <th>3</th>\n      <td>02/02/2009</td>\n      <td>7:15:23</td>\n      <td>M35</td>\n      <td>1</td>\n      <td>NaN</td>\n      <td>NaN</td>\n      <td>2009-02-02 07:15:23</td>\n    </tr>\n    <tr>\n      <th>4</th>\n      <td>02/02/2009</td>\n      <td>7:15:28</td>\n      <td>AD1-A</td>\n      <td>2.79926</td>\n      <td>NaN</td>\n      <td>NaN</td>\n      <td>2009-02-02 07:15:28</td>\n    </tr>\n    <tr>\n      <th>...</th>\n      <td>...</td>\n      <td>...</td>\n      <td>...</td>\n      <td>...</td>\n      <td>...</td>\n      <td>...</td>\n      <td>...</td>\n    </tr>\n    <tr>\n      <th>138625</th>\n      <td>04/04/2009</td>\n      <td>7:26:16</td>\n      <td>M48</td>\n      <td>0</td>\n      <td>NaN</td>\n      <td>NaN</td>\n      <td>2009-04-04 07:26:16</td>\n    </tr>\n    <tr>\n      <th>138626</th>\n      <td>04/04/2009</td>\n      <td>7:27:47</td>\n      <td>M48</td>\n      <td>1</td>\n      <td>NaN</td>\n      <td>NaN</td>\n      <td>2009-04-04 07:27:47</td>\n    </tr>\n    <tr>\n      <th>138627</th>\n      <td>04/04/2009</td>\n      <td>7:27:50</td>\n      <td>M47</td>\n      <td>1</td>\n      <td>NaN</td>\n      <td>NaN</td>\n      <td>2009-04-04 07:27:50</td>\n    </tr>\n    <tr>\n      <th>138628</th>\n      <td>04/04/2009</td>\n      <td>7:27:59</td>\n      <td>M47</td>\n      <td>0</td>\n      <td>NaN</td>\n      <td>NaN</td>\n      <td>2009-04-04 07:27:59</td>\n    </tr>\n    <tr>\n      <th>138629</th>\n      <td>04/04/2009</td>\n      <td>7:28:01</td>\n      <td>M48</td>\n      <td>0</td>\n      <td>R2_Sleep</td>\n      <td>end</td>\n      <td>2009-04-04 07:28:01</td>\n    </tr>\n  </tbody>\n</table>\n<p>138630 rows × 7 columns</p>\n</div>"
     },
     "execution_count": 42,
     "metadata": {},
     "output_type": "execute_result"
    }
   ],
   "source": [
    "# 将\"value\"列的\"ON\"和\"OPEN\"转为1，\"OFF\"和\"CLOSE\"转为0\n",
    "\n",
    "# df[\"value\"].unique() #检查value都有哪些名称\n",
    "\n",
    "one_vals = [\"ON\",\"OPEN\", \"PRESENT\"]\n",
    "zero_vals = [\"OFF\",\"CLOSE\", \"ABSENT\"]\n",
    "\n",
    "df.loc[df['value'].isin(one_vals), 'value'] = 1\n",
    "df.loc[df['value'].isin(zero_vals), 'value'] = 0\n",
    "df\n"
   ]
  },
  {
   "cell_type": "code",
   "execution_count": 43,
   "metadata": {
    "pycharm": {
     "name": "#%%\n"
    }
   },
   "outputs": [
    {
     "name": "stdout",
     "output_type": "stream",
     "text": [
      "514\n",
      "514\n"
     ]
    }
   ],
   "source": [
    "# 检查begin总数==end总数\n",
    "def check_begin_end_total(df):\n",
    "    cnt_begin = 0\n",
    "    cnt_end = 0\n",
    "    for index,row in df.iterrows():\n",
    "        if row.status == 'begin':\n",
    "            cnt_begin += 1\n",
    "        elif row.status == 'end':\n",
    "            cnt_end += 1\n",
    "    print(cnt_begin)\n",
    "    print(cnt_end)\n",
    "check_begin_end_total(df)"
   ]
  },
  {
   "cell_type": "code",
   "execution_count": 44,
   "metadata": {
    "pycharm": {
     "name": "#%%\n"
    }
   },
   "outputs": [
    {
     "name": "stdout",
     "output_type": "stream",
     "text": [
      "['Watch_TV']\n",
      "['R1_Work', 'R2_Work']\n",
      "['R1_Work']\n",
      "['Meal_Preparation']\n",
      "['Meal_Preparation']\n",
      "['R1_Sleep', 'R2_Sleep']\n",
      "['Meal_Preparation']\n",
      "['R2_Work']\n",
      "['R2_Work', 'R2_Sleep']\n",
      "['Meal_Preparation']\n",
      "['R1_Work']\n",
      "['R1_Work', 'R2_Work']\n",
      "['R2_Sleep', 'R1_Sleep']\n",
      "['Meal_Preparation']\n",
      "['R1_Work', 'Clean']\n",
      "['Study', 'R1_Work']\n",
      "['Study', 'R1_Work']\n",
      "['R1_Sleep', 'R2_Sleep']\n",
      "['Meal_Preparation']\n",
      "['R1_Work']\n",
      "['Watch_TV']\n",
      "['Watch_TV', 'R2_Sleep']\n",
      "['R1_Personal_Hygiene']\n",
      "['Meal_Preparation']\n",
      "['Meal_Preparation']\n",
      "['Meal_Preparation']\n",
      "[]\n",
      "['Meal_Preparation']\n",
      "['R1_Work', 'R2_Sleep']\n",
      "['R1_Work', 'R1_Sleep', 'R1_Bed_to_Toilet']\n",
      "['R1_Work', 'R2_Personal_Hygiene']\n",
      "['Meal_Preparation', 'Watch_TV']\n",
      "['Meal_Preparation', 'R1_Work']\n",
      "['Meal_Preparation', 'R1_Work']\n",
      "['Meal_Preparation', 'R1_Sleep']\n",
      "['Watch_TV', 'Meal_Preparation']\n",
      "['Watch_TV', 'Meal_Preparation']\n",
      "['Watch_TV', 'R1_Work', 'R2_Work']\n",
      "['R1_Sleep', 'R2_Sleep']\n",
      "['Meal_Preparation']\n",
      "['R1_Sleep', 'R2_Work']\n",
      "['R1_Sleep', 'R1_Work']\n",
      "['Meal_Preparation']\n",
      "['Meal_Preparation']\n",
      "['R1_Sleep', 'R2_Sleep']\n",
      "['R2_Work', 'R2_Personal_Hygiene']\n",
      "['Meal_Preparation']\n",
      "['R1_Sleep', 'R2_Sleep']\n",
      "['Meal_Preparation']\n",
      "['R1_Personal_Hygiene']\n",
      "['Meal_Preparation']\n",
      "['R2_Work']\n",
      "['R1_Sleep', 'R2_Sleep']\n",
      "['Meal_Preparation']\n",
      "['R2_Work']\n",
      "['R2_Work', 'R1_Sleep']\n",
      "['Meal_Preparation']\n",
      "['R1_Work', 'R2_Work', 'R2_Personal_Hygiene']\n",
      "['R1_Work', 'Clean']\n",
      "['R2_Sleep', 'R1_Sleep']\n",
      "['Meal_Preparation']\n",
      "['Meal_Preparation']\n",
      "['Meal_Preparation', 'Watch_TV']\n",
      "['Meal_Preparation', 'Watch_TV']\n",
      "['Meal_Preparation']\n",
      "['R1_Work']\n",
      "['R1_Personal_Hygiene']\n",
      "['R1_Work', 'R2_Bed_to_Toilet']\n",
      "['Meal_Preparation']\n",
      "['R1_Sleep']\n",
      "['R1_Sleep', 'R1_Personal_Hygiene']\n",
      "['Watch_TV', 'Meal_Preparation']\n",
      "['R2_Work']\n",
      "['R1_Work']\n",
      "['R1_Work']\n",
      "['R1_Work', 'Watch_TV']\n",
      "['R1_Bed_to_Toilet']\n",
      "['Meal_Preparation']\n",
      "['Meal_Preparation']\n",
      "['R1_Work', 'R2_Sleep']\n",
      "['R1_Work', 'R1_Sleep']\n",
      "['R1_Work']\n",
      "['Meal_Preparation']\n",
      "['R1_Sleep', 'R2_Sleep']\n",
      "['Meal_Preparation']\n",
      "['Meal_Preparation']\n",
      "['R2_Work', 'R1_Sleep']\n",
      "['Meal_Preparation']\n",
      "['Meal_Preparation', 'Watch_TV']\n",
      "['Meal_Preparation']\n",
      "['Study', 'R1_Work']\n",
      "['Study', 'R2_Sleep']\n",
      "['Meal_Preparation']\n",
      "['R1_Work', 'Watch_TV']\n",
      "['R1_Work', 'Study']\n",
      "['R1_Work', 'Study']\n",
      "['R2_Work', 'R2_Sleep']\n",
      "['R1_Personal_Hygiene']\n",
      "['Meal_Preparation']\n",
      "['R1_Work']\n",
      "['R1_Work']\n",
      "['R1_Sleep', 'R2_Work']\n",
      "['R1_Sleep', 'Meal_Preparation']\n",
      "['R1_Bed_to_Toilet']\n",
      "['R1_Work']\n",
      "['Study']\n",
      "['Study', 'R2_Sleep']\n",
      "['Study', 'R2_Personal_Hygiene']\n",
      "['Meal_Preparation']\n",
      "['R1_Sleep', 'R2_Work']\n",
      "['R1_Personal_Hygiene']\n",
      "['Study']\n",
      "['Meal_Preparation', 'Watch_TV']\n",
      "['Meal_Preparation']\n",
      "['R1_Sleep', 'R2_Sleep']\n",
      "['R1_Personal_Hygiene']\n",
      "['R2_Work', 'R1_Work']\n",
      "['R2_Work', 'R1_Work']\n",
      "['R2_Work', 'R2_Sleep']\n",
      "['Meal_Preparation']\n",
      "['Watch_TV']\n",
      "['R1_Work']\n",
      "['R1_Work']\n",
      "['R1_Work', 'Meal_Preparation']\n",
      "['Meal_Preparation']\n",
      "['R1_Sleep', 'R2_Sleep']\n",
      "['R1_Bed_to_Toilet', 'Meal_Preparation']\n",
      "['R1_Bed_to_Toilet', 'Meal_Preparation', 'R1_Work']\n",
      "['R1_Sleep', 'R2_Sleep']\n",
      "['Meal_Preparation']\n",
      "['R2_Sleep', 'R1_Sleep']\n",
      "['Meal_Preparation']\n",
      "['R1_Work']\n",
      "['R1_Work', 'R2_Sleep']\n",
      "['R1_Work', 'R1_Sleep']\n",
      "['R2_Personal_Hygiene']\n",
      "['Watch_TV', 'Meal_Preparation']\n",
      "['R1_Work']\n",
      "The final stack value: []\n"
     ]
    }
   ],
   "source": [
    "# 检查begin-end pair的activities可以相互抵消\n",
    "def check_activity_symmetry(df):\n",
    "    stack = []\n",
    "    cnt = 0\n",
    "    for index,row in df.iterrows():\n",
    "        if not pd.isnull(row.activity):\n",
    "            if row.status == 'begin':\n",
    "                stack.append(row.activity)\n",
    "            elif row.status == 'end':\n",
    "                stack.pop()\n",
    "\n",
    "        # 每1000次打印一次栈的状态\n",
    "        cnt += 1\n",
    "        if cnt % 1000 == 0:\n",
    "            print(stack)\n",
    "\n",
    "    print(\"The final stack value:\", stack)\n",
    "\n",
    "check_activity_symmetry(df)"
   ]
  },
  {
   "cell_type": "code",
   "execution_count": 45,
   "metadata": {
    "pycharm": {
     "name": "#%%\n"
    }
   },
   "outputs": [
    {
     "data": {
      "text/plain": "              date     time sensor_id    value          activity status  \\\n0       02/02/2009  7:15:17       M35        1  R1_Bed_to_Toilet  begin   \n1       02/02/2009  7:15:21     AD1-A  2.82231               NaN    NaN   \n2       02/02/2009  7:15:23       M35        0               NaN    NaN   \n3       02/02/2009  7:15:23       M35        1               NaN    NaN   \n4       02/02/2009  7:15:28     AD1-A  2.79926               NaN    NaN   \n...            ...      ...       ...      ...               ...    ...   \n138625  04/04/2009  7:26:16       M48        0               NaN    NaN   \n138626  04/04/2009  7:27:47       M48        1               NaN    NaN   \n138627  04/04/2009  7:27:50       M47        1               NaN    NaN   \n138628  04/04/2009  7:27:59       M47        0               NaN    NaN   \n138629  04/04/2009  7:28:01       M48        0          R2_Sleep    end   \n\n                  datetime  \n0      2009-02-02 07:15:17  \n1      2009-02-02 07:15:21  \n2      2009-02-02 07:15:23  \n3      2009-02-02 07:15:23  \n4      2009-02-02 07:15:28  \n...                    ...  \n138625 2009-04-04 07:26:16  \n138626 2009-04-04 07:27:47  \n138627 2009-04-04 07:27:50  \n138628 2009-04-04 07:27:59  \n138629 2009-04-04 07:28:01  \n\n[138630 rows x 7 columns]",
      "text/html": "<div>\n<style scoped>\n    .dataframe tbody tr th:only-of-type {\n        vertical-align: middle;\n    }\n\n    .dataframe tbody tr th {\n        vertical-align: top;\n    }\n\n    .dataframe thead th {\n        text-align: right;\n    }\n</style>\n<table border=\"1\" class=\"dataframe\">\n  <thead>\n    <tr style=\"text-align: right;\">\n      <th></th>\n      <th>date</th>\n      <th>time</th>\n      <th>sensor_id</th>\n      <th>value</th>\n      <th>activity</th>\n      <th>status</th>\n      <th>datetime</th>\n    </tr>\n  </thead>\n  <tbody>\n    <tr>\n      <th>0</th>\n      <td>02/02/2009</td>\n      <td>7:15:17</td>\n      <td>M35</td>\n      <td>1</td>\n      <td>R1_Bed_to_Toilet</td>\n      <td>begin</td>\n      <td>2009-02-02 07:15:17</td>\n    </tr>\n    <tr>\n      <th>1</th>\n      <td>02/02/2009</td>\n      <td>7:15:21</td>\n      <td>AD1-A</td>\n      <td>2.82231</td>\n      <td>NaN</td>\n      <td>NaN</td>\n      <td>2009-02-02 07:15:21</td>\n    </tr>\n    <tr>\n      <th>2</th>\n      <td>02/02/2009</td>\n      <td>7:15:23</td>\n      <td>M35</td>\n      <td>0</td>\n      <td>NaN</td>\n      <td>NaN</td>\n      <td>2009-02-02 07:15:23</td>\n    </tr>\n    <tr>\n      <th>3</th>\n      <td>02/02/2009</td>\n      <td>7:15:23</td>\n      <td>M35</td>\n      <td>1</td>\n      <td>NaN</td>\n      <td>NaN</td>\n      <td>2009-02-02 07:15:23</td>\n    </tr>\n    <tr>\n      <th>4</th>\n      <td>02/02/2009</td>\n      <td>7:15:28</td>\n      <td>AD1-A</td>\n      <td>2.79926</td>\n      <td>NaN</td>\n      <td>NaN</td>\n      <td>2009-02-02 07:15:28</td>\n    </tr>\n    <tr>\n      <th>...</th>\n      <td>...</td>\n      <td>...</td>\n      <td>...</td>\n      <td>...</td>\n      <td>...</td>\n      <td>...</td>\n      <td>...</td>\n    </tr>\n    <tr>\n      <th>138625</th>\n      <td>04/04/2009</td>\n      <td>7:26:16</td>\n      <td>M48</td>\n      <td>0</td>\n      <td>NaN</td>\n      <td>NaN</td>\n      <td>2009-04-04 07:26:16</td>\n    </tr>\n    <tr>\n      <th>138626</th>\n      <td>04/04/2009</td>\n      <td>7:27:47</td>\n      <td>M48</td>\n      <td>1</td>\n      <td>NaN</td>\n      <td>NaN</td>\n      <td>2009-04-04 07:27:47</td>\n    </tr>\n    <tr>\n      <th>138627</th>\n      <td>04/04/2009</td>\n      <td>7:27:50</td>\n      <td>M47</td>\n      <td>1</td>\n      <td>NaN</td>\n      <td>NaN</td>\n      <td>2009-04-04 07:27:50</td>\n    </tr>\n    <tr>\n      <th>138628</th>\n      <td>04/04/2009</td>\n      <td>7:27:59</td>\n      <td>M47</td>\n      <td>0</td>\n      <td>NaN</td>\n      <td>NaN</td>\n      <td>2009-04-04 07:27:59</td>\n    </tr>\n    <tr>\n      <th>138629</th>\n      <td>04/04/2009</td>\n      <td>7:28:01</td>\n      <td>M48</td>\n      <td>0</td>\n      <td>R2_Sleep</td>\n      <td>end</td>\n      <td>2009-04-04 07:28:01</td>\n    </tr>\n  </tbody>\n</table>\n<p>138630 rows × 7 columns</p>\n</div>"
     },
     "execution_count": 45,
     "metadata": {},
     "output_type": "execute_result"
    }
   ],
   "source": [
    "df"
   ]
  },
  {
   "cell_type": "code",
   "execution_count": 46,
   "metadata": {
    "pycharm": {
     "name": "#%%\n"
    }
   },
   "outputs": [
    {
     "data": {
      "text/plain": "              date     time sensor_id    value          activity status  \\\n0       02/02/2009  7:15:17       M35        1  R1_Bed_to_Toilet  begin   \n1       02/02/2009  7:15:21     AD1-A  2.82231  R1_Bed_to_Toilet    NaN   \n2       02/02/2009  7:15:23       M35        0  R1_Bed_to_Toilet    NaN   \n3       02/02/2009  7:15:23       M35        1  R1_Bed_to_Toilet    NaN   \n4       02/02/2009  7:15:28     AD1-A  2.79926  R1_Bed_to_Toilet    NaN   \n...            ...      ...       ...      ...               ...    ...   \n138625  04/04/2009  7:26:16       M48        0          R2_Sleep    NaN   \n138626  04/04/2009  7:27:47       M48        1          R2_Sleep    NaN   \n138627  04/04/2009  7:27:50       M47        1          R2_Sleep    NaN   \n138628  04/04/2009  7:27:59       M47        0          R2_Sleep    NaN   \n138629  04/04/2009  7:28:01       M48        0          R2_Sleep    end   \n\n                  datetime  \n0      2009-02-02 07:15:17  \n1      2009-02-02 07:15:21  \n2      2009-02-02 07:15:23  \n3      2009-02-02 07:15:23  \n4      2009-02-02 07:15:28  \n...                    ...  \n138625 2009-04-04 07:26:16  \n138626 2009-04-04 07:27:47  \n138627 2009-04-04 07:27:50  \n138628 2009-04-04 07:27:59  \n138629 2009-04-04 07:28:01  \n\n[138630 rows x 7 columns]",
      "text/html": "<div>\n<style scoped>\n    .dataframe tbody tr th:only-of-type {\n        vertical-align: middle;\n    }\n\n    .dataframe tbody tr th {\n        vertical-align: top;\n    }\n\n    .dataframe thead th {\n        text-align: right;\n    }\n</style>\n<table border=\"1\" class=\"dataframe\">\n  <thead>\n    <tr style=\"text-align: right;\">\n      <th></th>\n      <th>date</th>\n      <th>time</th>\n      <th>sensor_id</th>\n      <th>value</th>\n      <th>activity</th>\n      <th>status</th>\n      <th>datetime</th>\n    </tr>\n  </thead>\n  <tbody>\n    <tr>\n      <th>0</th>\n      <td>02/02/2009</td>\n      <td>7:15:17</td>\n      <td>M35</td>\n      <td>1</td>\n      <td>R1_Bed_to_Toilet</td>\n      <td>begin</td>\n      <td>2009-02-02 07:15:17</td>\n    </tr>\n    <tr>\n      <th>1</th>\n      <td>02/02/2009</td>\n      <td>7:15:21</td>\n      <td>AD1-A</td>\n      <td>2.82231</td>\n      <td>R1_Bed_to_Toilet</td>\n      <td>NaN</td>\n      <td>2009-02-02 07:15:21</td>\n    </tr>\n    <tr>\n      <th>2</th>\n      <td>02/02/2009</td>\n      <td>7:15:23</td>\n      <td>M35</td>\n      <td>0</td>\n      <td>R1_Bed_to_Toilet</td>\n      <td>NaN</td>\n      <td>2009-02-02 07:15:23</td>\n    </tr>\n    <tr>\n      <th>3</th>\n      <td>02/02/2009</td>\n      <td>7:15:23</td>\n      <td>M35</td>\n      <td>1</td>\n      <td>R1_Bed_to_Toilet</td>\n      <td>NaN</td>\n      <td>2009-02-02 07:15:23</td>\n    </tr>\n    <tr>\n      <th>4</th>\n      <td>02/02/2009</td>\n      <td>7:15:28</td>\n      <td>AD1-A</td>\n      <td>2.79926</td>\n      <td>R1_Bed_to_Toilet</td>\n      <td>NaN</td>\n      <td>2009-02-02 07:15:28</td>\n    </tr>\n    <tr>\n      <th>...</th>\n      <td>...</td>\n      <td>...</td>\n      <td>...</td>\n      <td>...</td>\n      <td>...</td>\n      <td>...</td>\n      <td>...</td>\n    </tr>\n    <tr>\n      <th>138625</th>\n      <td>04/04/2009</td>\n      <td>7:26:16</td>\n      <td>M48</td>\n      <td>0</td>\n      <td>R2_Sleep</td>\n      <td>NaN</td>\n      <td>2009-04-04 07:26:16</td>\n    </tr>\n    <tr>\n      <th>138626</th>\n      <td>04/04/2009</td>\n      <td>7:27:47</td>\n      <td>M48</td>\n      <td>1</td>\n      <td>R2_Sleep</td>\n      <td>NaN</td>\n      <td>2009-04-04 07:27:47</td>\n    </tr>\n    <tr>\n      <th>138627</th>\n      <td>04/04/2009</td>\n      <td>7:27:50</td>\n      <td>M47</td>\n      <td>1</td>\n      <td>R2_Sleep</td>\n      <td>NaN</td>\n      <td>2009-04-04 07:27:50</td>\n    </tr>\n    <tr>\n      <th>138628</th>\n      <td>04/04/2009</td>\n      <td>7:27:59</td>\n      <td>M47</td>\n      <td>0</td>\n      <td>R2_Sleep</td>\n      <td>NaN</td>\n      <td>2009-04-04 07:27:59</td>\n    </tr>\n    <tr>\n      <th>138629</th>\n      <td>04/04/2009</td>\n      <td>7:28:01</td>\n      <td>M48</td>\n      <td>0</td>\n      <td>R2_Sleep</td>\n      <td>end</td>\n      <td>2009-04-04 07:28:01</td>\n    </tr>\n  </tbody>\n</table>\n<p>138630 rows × 7 columns</p>\n</div>"
     },
     "execution_count": 46,
     "metadata": {},
     "output_type": "execute_result"
    }
   ],
   "source": [
    "# 对activity填值：begin-end中间填最近的activity，begin-end外填other\n",
    "\n",
    "# def set_activity(df):\n",
    "stack = []\n",
    "cnt = 0\n",
    "for index,row in df.iterrows():\n",
    "    if not pd.isnull(row[\"activity\"]):\n",
    "#         print(\"yes activity!\", row.activity)\n",
    "#         print(cnt)\n",
    "        if row.status == 'begin':\n",
    "            stack.append(row.activity)\n",
    "        elif row.status == 'end':\n",
    "            del(stack[stack.index(row.activity)])\n",
    "    else:\n",
    "        # 判断有没有被begin-end包围\n",
    "        if len(stack) == 0:\n",
    "            df.loc[index, 'activity'] = \"other\"\n",
    "        else:\n",
    "            df.loc[index, 'activity'] = stack[-1]\n",
    "\n",
    "    cnt += 1\n",
    "    # return df\n",
    "\n",
    "df"
   ]
  },
  {
   "cell_type": "markdown",
   "metadata": {},
   "source": [
    "## 1.5 将sensor_id和activities转为数值，用于模型训练"
   ]
  },
  {
   "cell_type": "code",
   "execution_count": 47,
   "metadata": {
    "pycharm": {
     "name": "#%%\n"
    }
   },
   "outputs": [],
   "source": [
    "from sklearn.preprocessing import LabelEncoder\n",
    "\n",
    "# 对sensor进行labelEncoder\n",
    "sensor_encoder = LabelEncoder()\n",
    "sensor_encoder.fit(df.sensor_id)\n",
    "\n",
    "# 对activity进行labelEncoder\n",
    "activity_encoder = LabelEncoder()\n",
    "activity_encoder.fit(df.activity.astype(str))\n",
    "\n",
    "df.sensor_id = sensor_encoder.transform(df.sensor_id)\n",
    "df.activity = activity_encoder.transform(df.activity.astype(str))"
   ]
  },
  {
   "cell_type": "code",
   "execution_count": 48,
   "metadata": {
    "pycharm": {
     "name": "#%%\n"
    }
   },
   "outputs": [
    {
     "name": "stdout",
     "output_type": "stream",
     "text": [
      "[0, 1, 2, 3, 4, 5, 6, 7, 8, 9, 10, 11, 12, 13, 14, 15, 16, 17, 18, 19, 20, 21, 22, 23, 24, 25, 26, 27, 28, 29, 30, 31, 32, 33, 34, 35, 36, 37, 38, 39, 40, 41, 42, 43, 44, 45, 46, 47, 48, 49, 50, 51, 52, 53, 54, 55, 56, 57, 58, 59, 60, 61, 62, 63, 64, 65, 66, 67, 68, 69, 70]\n",
      "[0, 1, 2, 3, 4, 5, 6, 7, 8, 9, 10, 11, 12, 13]\n",
      "['AD1-A' 'AD1-B' 'AD1-C' 'D03' 'D05' 'D07' 'D08' 'D09' 'D10' 'D12' 'D14'\n",
      " 'D15' 'I03' 'L04' 'L06' 'L09' 'L10' 'L11' 'L12' 'L13' 'M01' 'M02' 'M03'\n",
      " 'M04' 'M05' 'M06' 'M07' 'M08' 'M09' 'M10' 'M11' 'M12' 'M13' 'M14' 'M15'\n",
      " 'M16' 'M17' 'M18' 'M19' 'M20' 'M21' 'M22' 'M23' 'M24' 'M25' 'M26' 'M27'\n",
      " 'M28' 'M29' 'M30' 'M31' 'M32' 'M33' 'M34' 'M35' 'M36' 'M37' 'M38' 'M39'\n",
      " 'M40' 'M41' 'M42' 'M43' 'M44' 'M45' 'M46' 'M47' 'M48' 'M49' 'M50' 'M51']\n",
      "['Clean' 'Meal_Preparation' 'R1_Bed_to_Toilet' 'R1_Personal_Hygiene'\n",
      " 'R1_Sleep' 'R1_Work' 'R2_Bed_to_Toilet' 'R2_Personal_Hygiene' 'R2_Sleep'\n",
      " 'R2_Work' 'Study' 'Wash_Bathtub' 'Watch_TV' 'other']\n"
     ]
    }
   ],
   "source": [
    "#输出label encoder编码后的值\n",
    "print(sorted(df.sensor_id.unique()))\n",
    "print(sorted(df.activity.unique()))\n",
    "\n",
    "#查看数字对应的原始名字\n",
    "print(sensor_encoder.inverse_transform(sorted(df.sensor_id.unique())))\n",
    "print(activity_encoder.inverse_transform(sorted(df.activity.unique())))"
   ]
  },
  {
   "cell_type": "code",
   "execution_count": 49,
   "metadata": {
    "pycharm": {
     "name": "#%%\n"
    }
   },
   "outputs": [
    {
     "data": {
      "text/plain": "              date     time  sensor_id    value  activity status  \\\n0       02/02/2009  7:15:17         54        1         2  begin   \n1       02/02/2009  7:15:21          0  2.82231         2    NaN   \n2       02/02/2009  7:15:23         54        0         2    NaN   \n3       02/02/2009  7:15:23         54        1         2    NaN   \n4       02/02/2009  7:15:28          0  2.79926         2    NaN   \n...            ...      ...        ...      ...       ...    ...   \n138625  04/04/2009  7:26:16         67        0         8    NaN   \n138626  04/04/2009  7:27:47         67        1         8    NaN   \n138627  04/04/2009  7:27:50         66        1         8    NaN   \n138628  04/04/2009  7:27:59         66        0         8    NaN   \n138629  04/04/2009  7:28:01         67        0         8    end   \n\n                  datetime  \n0      2009-02-02 07:15:17  \n1      2009-02-02 07:15:21  \n2      2009-02-02 07:15:23  \n3      2009-02-02 07:15:23  \n4      2009-02-02 07:15:28  \n...                    ...  \n138625 2009-04-04 07:26:16  \n138626 2009-04-04 07:27:47  \n138627 2009-04-04 07:27:50  \n138628 2009-04-04 07:27:59  \n138629 2009-04-04 07:28:01  \n\n[138630 rows x 7 columns]",
      "text/html": "<div>\n<style scoped>\n    .dataframe tbody tr th:only-of-type {\n        vertical-align: middle;\n    }\n\n    .dataframe tbody tr th {\n        vertical-align: top;\n    }\n\n    .dataframe thead th {\n        text-align: right;\n    }\n</style>\n<table border=\"1\" class=\"dataframe\">\n  <thead>\n    <tr style=\"text-align: right;\">\n      <th></th>\n      <th>date</th>\n      <th>time</th>\n      <th>sensor_id</th>\n      <th>value</th>\n      <th>activity</th>\n      <th>status</th>\n      <th>datetime</th>\n    </tr>\n  </thead>\n  <tbody>\n    <tr>\n      <th>0</th>\n      <td>02/02/2009</td>\n      <td>7:15:17</td>\n      <td>54</td>\n      <td>1</td>\n      <td>2</td>\n      <td>begin</td>\n      <td>2009-02-02 07:15:17</td>\n    </tr>\n    <tr>\n      <th>1</th>\n      <td>02/02/2009</td>\n      <td>7:15:21</td>\n      <td>0</td>\n      <td>2.82231</td>\n      <td>2</td>\n      <td>NaN</td>\n      <td>2009-02-02 07:15:21</td>\n    </tr>\n    <tr>\n      <th>2</th>\n      <td>02/02/2009</td>\n      <td>7:15:23</td>\n      <td>54</td>\n      <td>0</td>\n      <td>2</td>\n      <td>NaN</td>\n      <td>2009-02-02 07:15:23</td>\n    </tr>\n    <tr>\n      <th>3</th>\n      <td>02/02/2009</td>\n      <td>7:15:23</td>\n      <td>54</td>\n      <td>1</td>\n      <td>2</td>\n      <td>NaN</td>\n      <td>2009-02-02 07:15:23</td>\n    </tr>\n    <tr>\n      <th>4</th>\n      <td>02/02/2009</td>\n      <td>7:15:28</td>\n      <td>0</td>\n      <td>2.79926</td>\n      <td>2</td>\n      <td>NaN</td>\n      <td>2009-02-02 07:15:28</td>\n    </tr>\n    <tr>\n      <th>...</th>\n      <td>...</td>\n      <td>...</td>\n      <td>...</td>\n      <td>...</td>\n      <td>...</td>\n      <td>...</td>\n      <td>...</td>\n    </tr>\n    <tr>\n      <th>138625</th>\n      <td>04/04/2009</td>\n      <td>7:26:16</td>\n      <td>67</td>\n      <td>0</td>\n      <td>8</td>\n      <td>NaN</td>\n      <td>2009-04-04 07:26:16</td>\n    </tr>\n    <tr>\n      <th>138626</th>\n      <td>04/04/2009</td>\n      <td>7:27:47</td>\n      <td>67</td>\n      <td>1</td>\n      <td>8</td>\n      <td>NaN</td>\n      <td>2009-04-04 07:27:47</td>\n    </tr>\n    <tr>\n      <th>138627</th>\n      <td>04/04/2009</td>\n      <td>7:27:50</td>\n      <td>66</td>\n      <td>1</td>\n      <td>8</td>\n      <td>NaN</td>\n      <td>2009-04-04 07:27:50</td>\n    </tr>\n    <tr>\n      <th>138628</th>\n      <td>04/04/2009</td>\n      <td>7:27:59</td>\n      <td>66</td>\n      <td>0</td>\n      <td>8</td>\n      <td>NaN</td>\n      <td>2009-04-04 07:27:59</td>\n    </tr>\n    <tr>\n      <th>138629</th>\n      <td>04/04/2009</td>\n      <td>7:28:01</td>\n      <td>67</td>\n      <td>0</td>\n      <td>8</td>\n      <td>end</td>\n      <td>2009-04-04 07:28:01</td>\n    </tr>\n  </tbody>\n</table>\n<p>138630 rows × 7 columns</p>\n</div>"
     },
     "execution_count": 49,
     "metadata": {},
     "output_type": "execute_result"
    }
   ],
   "source": [
    "df"
   ]
  },
  {
   "cell_type": "markdown",
   "metadata": {},
   "source": [
    "## 1.6构建mutual matrix"
   ]
  },
  {
   "cell_type": "code",
   "execution_count": 50,
   "metadata": {
    "pycharm": {
     "name": "#%%\n"
    }
   },
   "outputs": [],
   "source": [
    "## mutual源代码\n",
    "# def calculate_mutual_info_matrix(self, mutual_matrix, sensnum):\n",
    "#     current_activity = self.data.iloc[0].activity1\n",
    "#     wind = []\n",
    "#     winds=[]\n",
    "#     winnum = 0\n",
    "#\n",
    "#     for idx, row in self.data.iterrows():\n",
    "#         if current_activity == row.activity1:\n",
    "#             wind.append(row.sensor_id)\n",
    "#         else:\n",
    "#             sensors = np.unique(wind)\n",
    "#             for sensor in range(0, sensnum):\n",
    "#                 for sensor2 in range(0, sensnum):\n",
    "#                     if sensor in sensors and sensor2 in sensors:\n",
    "#                         mutual_matrix[sensor][sensor2] += 1\n",
    "#                         winds.append(wind)\n",
    "#             winnum += 1\n",
    "#             current_activity = row.activity1\n",
    "#             wind = [row.sensor_id]\n",
    "#\n",
    "#     return mutual_matrix/winnum\n",
    "#\n",
    "# mutual_matrix = self.calculate_mutual_info_matrix(np.zeros((self.sens_num, self.sens_num)),\n",
    "#                                                                    self.sens_num)"
   ]
  },
  {
   "cell_type": "code",
   "execution_count": 51,
   "metadata": {
    "pycharm": {
     "name": "#%%\n"
    }
   },
   "outputs": [],
   "source": [
    "## 构建mutual矩阵-->在数据集activities的前提下，传感器之间的关系\n",
    "current_activity = df.iloc[0].activity\n",
    "wind = []\n",
    "winds=[]\n",
    "winnum = 0\n",
    "\n",
    "sens_num = len(df.sensor_id.unique()) # 71\n",
    "mutual_matrix = np.zeros((sens_num, sens_num))\n",
    "sensnum = sens_num\n",
    "\n",
    "for idx, row in df.iterrows():\n",
    "        # 以当前事件作为判断\n",
    "        if current_activity == row.activity:\n",
    "            # 窗口增加：当前行的sensor_id\n",
    "            # 将与当前事件相关的sensor依次录入wind窗口\n",
    "            wind.append(row.sensor_id)\n",
    "        # 首次出现非当前事件-即下个activity\n",
    "        else:\n",
    "            # 将窗口里的独特的sensor_id进行排序\n",
    "            sensors = np.unique(wind)\n",
    "            # 将当前事件涉及的sensor_id(unique)填入对称的mutual矩阵里\n",
    "            for sensor in range(0, sensnum):\n",
    "                for sensor2 in range(0, sensnum):\n",
    "                    if sensor in sensors and sensor2 in sensors:\n",
    "                        mutual_matrix[sensor][sensor2] += 1\n",
    "                        winds.append(wind)\n",
    "            # 事件数+1\n",
    "            winnum += 1\n",
    "            # 重置当前事件\n",
    "            current_activity = row.activity\n",
    "            # 重置wind窗口\n",
    "            wind = [row.sensor_id]\n",
    "\n",
    "mutual_matrix = mutual_matrix/winnum"
   ]
  },
  {
   "cell_type": "code",
   "execution_count": 52,
   "metadata": {
    "pycharm": {
     "name": "#%%\n"
    }
   },
   "outputs": [
    {
     "data": {
      "text/plain": "array([[0.13484487, 0.09546539, 0.04415274, ..., 0.00238663, 0.00835322,\n        0.10739857],\n       [0.09546539, 0.1372315 , 0.05608592, ..., 0.00238663, 0.00596659,\n        0.12291169],\n       [0.04415274, 0.05608592, 0.05727924, ..., 0.        , 0.00119332,\n        0.05369928],\n       ...,\n       [0.00238663, 0.00238663, 0.        , ..., 0.06801909, 0.04653938,\n        0.00596659],\n       [0.00835322, 0.00596659, 0.00119332, ..., 0.04653938, 0.11575179,\n        0.00596659],\n       [0.10739857, 0.12291169, 0.05369928, ..., 0.00596659, 0.00596659,\n        0.15513126]])"
     },
     "execution_count": 52,
     "metadata": {},
     "output_type": "execute_result"
    }
   ],
   "source": [
    "mutual_matrix"
   ]
  },
  {
   "cell_type": "markdown",
   "metadata": {},
   "source": [
    "## 1.7构建滑动窗口"
   ]
  },
  {
   "cell_type": "code",
   "execution_count": 53,
   "metadata": {
    "pycharm": {
     "name": "#%%\n"
    }
   },
   "outputs": [],
   "source": [
    "# from datetime import datetime\n",
    "# idx = 0\n",
    "# sliding_window_length = 6\n",
    "# windows = df.iloc[idx:idx + sliding_window_length]\n",
    "# windows"
   ]
  },
  {
   "cell_type": "code",
   "execution_count": 54,
   "metadata": {
    "pycharm": {
     "name": "#%%\n"
    }
   },
   "outputs": [],
   "source": [
    "# last_activity = windows.iloc[sliding_window_length-1].activity\n",
    "# \n",
    "# start_time = windows.iloc[0].datetime\n",
    "# last_time = windows.iloc[sliding_window_length - 1].datetime\n",
    "# last_time = datetime(last_time.year, last_time.month, last_time.day, last_time.hour, last_time.minute,\n",
    "#                              last_time.second)\n",
    "# start_time = datetime(start_time.year, start_time.month, start_time.day, start_time.hour, start_time.minute,\n",
    "#                       start_time.second)\n",
    "# last_time = last_time.hour / 24  + last_time.minute / 60. + last_time.second / 3600.\n",
    "# start_time = start_time.hour / 24 + start_time.minute / 60. + start_time.second / 3600.\n",
    "# print(start_time)\n",
    "# print(last_time)"
   ]
  },
  {
   "cell_type": "code",
   "execution_count": 55,
   "metadata": {
    "pycharm": {
     "name": "#%%\n"
    }
   },
   "outputs": [],
   "source": [
    "# last_sensor_id = windows.iloc[sliding_window_length - 1].sensor_id\n",
    "# second_last_id = windows.iloc[sliding_window_length - 2].sensor_id\n",
    "# print(last_sensor_id)\n",
    "# print(second_last_id)"
   ]
  },
  {
   "cell_type": "code",
   "execution_count": 56,
   "metadata": {
    "pycharm": {
     "name": "#%%\n"
    }
   },
   "outputs": [],
   "source": [
    "# sens_num = len(df.sensor_id.unique()) # 71\n",
    "# freq = np.zeros(sens_num)\n",
    "# for ind, act in windows.iterrows():\n",
    "#     freq[int(act.sensor_id)] += 1\n",
    "# print(freq)"
   ]
  },
  {
   "cell_type": "code",
   "execution_count": null,
   "metadata": {
    "pycharm": {
     "name": "#%%\n",
     "is_executing": true
    }
   },
   "outputs": [],
   "source": [
    "from datetime import datetime\n",
    "sliding_window_length = 120 # 30: 92.9329% 94.2965%; 80:96.3623% 97.7589%; 100: 97.412%, 98.581%\n",
    "windows_vectors, activities_vectors = [], [],\n",
    "for idx in range(0, df.shape[0], 1):  #[0,139629]\n",
    "    current_sens = []\n",
    "    if df.shape[0] <= idx + sliding_window_length:\n",
    "        break\n",
    "\n",
    "    sens_num = len(df.sensor_id.unique()) # 71\n",
    "    freq = np.zeros(sens_num)\n",
    "    # 取前sliding_window_length行作为windows\n",
    "    windows = df.iloc[idx:idx + sliding_window_length]\n",
    "    # 窗口里最后一行的事件\n",
    "    last_activity = windows.iloc[sliding_window_length-1].activity\n",
    "\n",
    "    # 将窗口里开始时间和结束时间转为0~1的值\n",
    "    start_time = windows.iloc[0].datetime\n",
    "    last_time = windows.iloc[sliding_window_length - 1].datetime\n",
    "    last_time = datetime(last_time.year, last_time.month, last_time.day, last_time.hour, last_time.minute,\n",
    "                                 last_time.second)\n",
    "    start_time = datetime(start_time.year, start_time.month, start_time.day, start_time.hour, start_time.minute,\n",
    "                          start_time.second)\n",
    "    last_time = last_time.hour / 24  + last_time.minute / (60. * 24) + last_time.second / (3600. * 24)\n",
    "    start_time = start_time.hour / 24 + start_time.minute / (60. * 24)  + start_time.second / (3600. * 24)\n",
    "\n",
    "    last_sensor_id = windows.iloc[sliding_window_length - 1].sensor_id\n",
    "    # !!!感觉好像没理由用second_last_id, 调参时考虑把它注释掉试试\n",
    "    second_last_id = windows.iloc[sliding_window_length - 2].sensor_id\n",
    "\n",
    "    # 记录窗口中每个sensor_id出现的次数\n",
    "    for ind, act in windows.iterrows():\n",
    "        freq[int(act.sensor_id)] += 1\n",
    "\n",
    "    #weighting frequencies using mutual matrix table\n",
    "    # 按窗口中最后一行的传感器相关性\n",
    "    for ind, val in enumerate(freq):\n",
    "        freq[ind] = freq[ind] * mutual_matrix[last_sensor_id][ind]\n",
    "\n",
    "    # 解决极端情况: last_time = 0.0001 start_time = 0.99999999\n",
    "    if last_time >= start_time:\n",
    "        timespan = last_time - start_time\n",
    "    else:\n",
    "        timespan = (last_time + 1) - start_time\n",
    "\n",
    "    if(timespan < 0):\n",
    "        print(\"Time span < 0! Error!\")\n",
    "\n",
    "\n",
    "    freq = np.append(freq, (last_time, timespan, second_last_id, last_sensor_id)) # 模型输入维度71+4\n",
    "\n",
    "    windows_vectors.append(freq)\n",
    "    activities_vectors.append(last_activity) # last_activity 作为label"
   ]
  },
  {
   "cell_type": "code",
   "execution_count": null,
   "metadata": {
    "pycharm": {
     "name": "#%%\n"
    }
   },
   "outputs": [],
   "source": [
    "# windows_vectors"
   ]
  },
  {
   "cell_type": "code",
   "execution_count": null,
   "metadata": {
    "pycharm": {
     "name": "#%%\n"
    }
   },
   "outputs": [],
   "source": [
    "# activities_vectors"
   ]
  },
  {
   "cell_type": "code",
   "execution_count": null,
   "metadata": {
    "pycharm": {
     "name": "#%%\n"
    }
   },
   "outputs": [],
   "source": [
    "    # def get_segments(self):\n",
    "    #     windows_vectors, activities_vectors = [], [],\n",
    "    #\n",
    "    #     for idx in range(0, self.data.shape[0], 1):\n",
    "    #         current_sens = []\n",
    "    #         if self.data.shape[0] <= idx + self.sliding_window_length:\n",
    "    #             break\n",
    "    #\n",
    "    #         freq = np.zeros(self.sens_num)\n",
    "    #         windows = self.data.iloc[idx:idx + self.sliding_window_length]\n",
    "    #         last_activity = windows.iloc[self.sliding_window_length - 1].activity1\n",
    "    #\n",
    "    #         start_time = windows.iloc[0].datetime\n",
    "    #         last_time = windows.iloc[self.sliding_window_length - 1].datetime\n",
    "    #         last_time = datetime(last_time.year, last_time.month, last_time.day, last_time.hour, last_time.minute,\n",
    "    #                              last_time.second)\n",
    "    #         start_time = datetime(start_time.year, start_time.month, start_time.day, start_time.hour, start_time.minute,\n",
    "    #                               start_time.second)\n",
    "    #         last_time = last_time.hour / 24  + last_time.minute / 60. + last_time.second / 3600.\n",
    "    #         start_time = start_time.hour / 24 + start_time.minute / 60. + start_time.second / 3600.\n",
    "    #         last_sensor_id = windows.iloc[self.sliding_window_length - 1].sensor_id\n",
    "    #         second_last_id = windows.iloc[self.sliding_window_length - 2].sensor_id\n",
    "    #\n",
    "    #         for ind, act in windows.iterrows():\n",
    "    #             freq[int(act.sensor_id)] += 1\n",
    "    #\n",
    "    #         #weighting frequencies using mutual matrix table\n",
    "    #         for ind, val in enumerate(freq):\n",
    "    #             freq[ind] = freq[ind] * self.mutual_matrix[last_sensor_id][ind]\n",
    "    #\n",
    "    #         timespan = last_time - start_time\n",
    "    #         freq = np.append(freq, (last_time, timespan, second_last_id, last_sensor_id))\n",
    "    #\n",
    "    #         windows_vectors.append(freq)\n",
    "    #         activities_vectors.append(last_activity)\n",
    "    #\n",
    "    #     return np.array(windows_vectors), np.array(activities_vectors)"
   ]
  },
  {
   "cell_type": "markdown",
   "metadata": {},
   "source": [
    "## 1.8划分训练测试集"
   ]
  },
  {
   "cell_type": "code",
   "execution_count": 62,
   "metadata": {
    "pycharm": {
     "name": "#%%\n"
    }
   },
   "outputs": [],
   "source": [
    "from sklearn.model_selection import train_test_split\n",
    "\n",
    "X_train, X_test, y_train, y_test = train_test_split(\n",
    "    windows_vectors, activities_vectors, test_size=0.2, random_state=42)"
   ]
  },
  {
   "cell_type": "code",
   "execution_count": 63,
   "metadata": {
    "pycharm": {
     "name": "#%%\n"
    }
   },
   "outputs": [
    {
     "name": "stdout",
     "output_type": "stream",
     "text": [
      "(110824, 75)\n",
      "(110824,)\n",
      "(27706, 75)\n",
      "(27706,)\n"
     ]
    }
   ],
   "source": [
    "print(np.shape(X_train))\n",
    "print(np.shape(y_train))\n",
    "print(np.shape(X_test))\n",
    "print(np.shape(y_test))"
   ]
  },
  {
   "cell_type": "markdown",
   "metadata": {},
   "source": [
    "# 2. 构建模型"
   ]
  },
  {
   "cell_type": "code",
   "execution_count": 64,
   "metadata": {},
   "outputs": [],
   "source": [
    "from sklearn.ensemble import RandomForestClassifier\n",
    "from sklearn import metrics\n",
    "from sklearn import tree\n",
    "from sklearn.tree import DecisionTreeClassifier\n",
    "import graphviz\n",
    "from numpy import random\n",
    "from matplotlib import pyplot as plt\n",
    "import os\n",
    "\n",
    "# Below command is used to fix the bug when generating visualized tree in RF.\n",
    "# only for Windows system.\n",
    "# os.environ[\"PATH\"] += os.pathsep + \"D:/Graphviz/bin/\" #记得改文件位置\n",
    "\n",
    "\n",
    "\n",
    "def DecisionTree_Classifier(x_train, x_valid_test, y_train, y_valid_test):\n",
    "    \"\"\"\n",
    "    First take the training set, and valid or test set as inputs.\n",
    "    Then classify them binary with DT. Print the information related to classification accuracy.\n",
    "    Inputs:\n",
    "        x_train: Preprocessed brain MRI images as inputs to train a model.\n",
    "        y_train: Label information of x_train as inputs to train a model.\n",
    "        x_valid_test: Preprocessed brain MRI images to validate or test the classification accuracy of the trained model.\n",
    "                    The preprocessing of valid or test sets cannot use any information of x_train or y_train.\n",
    "        y_valid: Label information of valid or test sets to calculate the classification accuracy of the trained model.\n",
    "    Outputs:\n",
    "        accu: Accuracy of the model on valid or test set.\n",
    "        y_pred: Predicted labels on valid or test set.\n",
    "    \"\"\"\n",
    "    # Create RF classifier.\n",
    "    rf = DecisionTreeClassifier()\n",
    "    rf.fit(x_train, y_train)  # Fit RF model\n",
    "\n",
    "    # Plot one of the decision tree\n",
    "    # text format\n",
    "    # text_representation = tree.export_text(rf.estimators_[1])\n",
    "    # print(text_representation)\n",
    "\n",
    "    # image format\n",
    "    # ----------------------------------------------------------------\n",
    "    # dot_data = tree.export_graphviz(rf)\n",
    "    #\n",
    "    # graph = graphviz.Source(dot_data)\n",
    "    # graph.render(\"DecisionTree\")\n",
    "    # graph.write_pdf(\"DecisionTree_\"+str(seed)+\".pdf\")\n",
    "    # ----------------------------------------------------------------\n",
    "\n",
    "    # Make prediction.\n",
    "    y_pred = rf.predict(x_valid_test)\n",
    "\n",
    "    # Print results.\n",
    "    report = metrics.classification_report(y_valid_test, y_pred)\n",
    "    # print(\"Random Forest classification report:\\n \" + report)\n",
    "    print(\"Decision Tree classification report:\\n \" + report)\n",
    "\n",
    "    accu = metrics.accuracy_score(y_valid_test, y_pred)\n",
    "    # print(\"Random Forest classification accuracy: \" + str(accu))\n",
    "    print(\"Decision Tree classification accuracy: \" + str(accu))\n",
    "\n",
    "    return accu, y_pred\n",
    "\n",
    "\n",
    "\n",
    "def RF_Classifier(x_train, x_valid_test, y_train, y_valid_test, n_estimators = 100):\n",
    "    \"\"\"\n",
    "    First take the training set, and valid or test set as inputs.\n",
    "    Then classify them binary with RF. Print the information related to classification accuracy.\n",
    "    Inputs:\n",
    "        x_train: Preprocessed brain MRI images as inputs to train a model.\n",
    "        y_train: Label information of x_train as inputs to train a model.\n",
    "        x_valid_test: Preprocessed brain MRI images to validate or test the classification accuracy of the trained model.\n",
    "                    The preprocessing of valid or test sets cannot use any information of x_train or y_train.\n",
    "        y_valid: Label information of valid or test sets to calculate the classification accuracy of the trained model.\n",
    "    Outputs:\n",
    "        accu: Accuracy of the model on valid or test set.\n",
    "        y_pred: Predicted labels on valid or test set.\n",
    "    \"\"\"\n",
    "    # Create RF classifier.\n",
    "    rf = RandomForestClassifier(n_estimators=n_estimators, random_state=0)\n",
    "    rf.fit(x_train, y_train)  # Fit RF model\n",
    "\n",
    "    # Plot one of the decision tree\n",
    "    # text format\n",
    "    # text_representation = tree.export_text(rf.estimators_[1])\n",
    "    # print(text_representation)\n",
    "\n",
    "    # image format\n",
    "    # ----------------------------------------------------------------\n",
    "    '''\n",
    "    seed = random.randint(100)\n",
    "    dot_data = tree.export_graphviz(rf.estimators_[seed])\n",
    "\n",
    "    graph = graphviz.Source(dot_data)\n",
    "    graph.write_pdf(\"RF_Tree_\"+str(seed)+\".pdf\")\n",
    "    '''\n",
    "    # ----------------------------------------------------------------\n",
    "\n",
    "    # Make prediction.\n",
    "    y_pred = rf.predict(x_valid_test)\n",
    "\n",
    "    # Print results.\n",
    "    report = metrics.classification_report(y_valid_test, y_pred)\n",
    "    print(\"Random Forest classification report:\\n \" + report)\n",
    "\n",
    "    accu = metrics.accuracy_score(y_valid_test, y_pred)\n",
    "    print(\"Random Forest classification accuracy: \" + str(accu))\n",
    "\n",
    "    return accu, y_pred"
   ]
  },
  {
   "cell_type": "code",
   "execution_count": 65,
   "metadata": {},
   "outputs": [
    {
     "name": "stdout",
     "output_type": "stream",
     "text": [
      "Decision Tree classification report:\n",
      "               precision    recall  f1-score   support\n",
      "\n",
      "           0       0.98      0.98      0.98       285\n",
      "           1       0.99      0.99      0.99      7375\n",
      "           2       0.97      0.93      0.95       638\n",
      "           3       0.96      0.97      0.97      1142\n",
      "           4       0.95      0.95      0.95      2145\n",
      "           5       0.98      0.98      0.98      5048\n",
      "           6       0.90      0.91      0.90       364\n",
      "           7       0.97      0.97      0.97      1597\n",
      "           8       0.96      0.96      0.96      3588\n",
      "           9       0.98      0.98      0.98      1935\n",
      "          10       0.99      0.99      0.99       876\n",
      "          11       1.00      1.00      1.00        44\n",
      "          12       0.98      0.99      0.98      2474\n",
      "          13       0.81      0.79      0.80       195\n",
      "\n",
      "    accuracy                           0.97     27706\n",
      "   macro avg       0.96      0.96      0.96     27706\n",
      "weighted avg       0.97      0.97      0.97     27706\n",
      "\n",
      "Decision Tree classification accuracy: 0.974121128997329\n"
     ]
    }
   ],
   "source": [
    "# Train with training set and predict on test set.\n",
    "#\n",
    "score, _ = DecisionTree_Classifier(X_train, X_test, y_train, y_test)"
   ]
  },
  {
   "cell_type": "code",
   "execution_count": 66,
   "metadata": {
    "collapsed": false,
    "pycharm": {
     "name": "#%%\n"
    }
   },
   "outputs": [
    {
     "name": "stdout",
     "output_type": "stream",
     "text": [
      "Random Forest classification report:\n",
      "               precision    recall  f1-score   support\n",
      "\n",
      "           0       1.00      1.00      1.00       285\n",
      "           1       0.99      1.00      1.00      7375\n",
      "           2       0.98      0.97      0.98       638\n",
      "           3       0.99      0.99      0.99      1142\n",
      "           4       0.98      0.94      0.96      2145\n",
      "           5       0.99      0.99      0.99      5048\n",
      "           6       0.96      0.96      0.96       364\n",
      "           7       1.00      0.99      1.00      1597\n",
      "           8       0.96      0.98      0.97      3588\n",
      "           9       0.99      0.99      0.99      1935\n",
      "          10       0.99      0.99      0.99       876\n",
      "          11       0.96      1.00      0.98        44\n",
      "          12       1.00      0.99      0.99      2474\n",
      "          13       0.95      0.85      0.89       195\n",
      "\n",
      "    accuracy                           0.99     27706\n",
      "   macro avg       0.98      0.97      0.98     27706\n",
      "weighted avg       0.99      0.99      0.99     27706\n",
      "\n",
      "Random Forest classification accuracy: 0.9858153468562766\n"
     ]
    }
   ],
   "source": [
    "score, _ = RF_Classifier(X_train, X_test, y_train, y_test)"
   ]
  }
 ],
 "metadata": {
  "kernelspec": {
   "display_name": "Python 3 (ipykernel)",
   "language": "python",
   "name": "python3"
  },
  "language_info": {
   "codemirror_mode": {
    "name": "ipython",
    "version": 3
   },
   "file_extension": ".py",
   "mimetype": "text/x-python",
   "name": "python",
   "nbconvert_exporter": "python",
   "pygments_lexer": "ipython3",
   "version": "3.9.7"
  }
 },
 "nbformat": 4,
 "nbformat_minor": 1
}